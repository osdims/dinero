{
 "cells": [
  {
   "cell_type": "code",
   "execution_count": 3,
   "metadata": {},
   "outputs": [
    {
     "name": "stdout",
     "output_type": "stream",
     "text": [
      "$234,342 CLP\n"
     ]
    }
   ],
   "source": [
    "from dinero import Dinero\n",
    "from dinero.currencies import CLP\n",
    "\n",
    "amount = Dinero(234342.3010, CLP)\n",
    "amount.raw_amount\n",
    "amount.normalized_amount\n",
    "amount.symbol\n",
    "amount.code\n",
    "amount.exponent\n",
    "\n",
    "formatted = amount.formatted_amount(symbol=False, currency=False)\n",
    "print(amount)"
   ]
  },
  {
   "cell_type": "markdown",
   "metadata": {},
   "source": [
    "## Operations"
   ]
  },
  {
   "cell_type": "markdown",
   "metadata": {},
   "source": [
    "### Add"
   ]
  },
  {
   "cell_type": "code",
   "execution_count": 20,
   "metadata": {},
   "outputs": [
    {
     "name": "stdout",
     "output_type": "stream",
     "text": [
      "€666.60 EUR\n"
     ]
    }
   ],
   "source": [
    "from dinero import Dinero\n",
    "from dinero.currencies import EUR\n",
    "\n",
    "amount = Dinero(\"333.3\", EUR)\n",
    "total = amount.add(333.3)\n",
    "print(total)"
   ]
  },
  {
   "cell_type": "code",
   "execution_count": 21,
   "metadata": {},
   "outputs": [
    {
     "name": "stdout",
     "output_type": "stream",
     "text": [
      "€666.60 EUR\n"
     ]
    }
   ],
   "source": [
    "from dinero import Dinero\n",
    "from dinero.currencies import EUR\n",
    "\n",
    "amount_1 = Dinero(\"333.3\", EUR)\n",
    "amount_2 = Dinero(333.3, EUR)\n",
    "\n",
    "total = amount_1.add(amount_2)\n",
    "print(total)"
   ]
  },
  {
   "cell_type": "code",
   "execution_count": 22,
   "metadata": {},
   "outputs": [
    {
     "name": "stdout",
     "output_type": "stream",
     "text": [
      "$666.60 USD\n"
     ]
    }
   ],
   "source": [
    "from dinero import Dinero\n",
    "from dinero.currencies import EUR, USD\n",
    "\n",
    "amount_1 = Dinero(\"333.3\", USD)\n",
    "amount_2 = Dinero(333.3, USD)\n",
    "\n",
    "total = amount_1 + amount_2\n",
    "print(total)"
   ]
  },
  {
   "cell_type": "code",
   "execution_count": 23,
   "metadata": {},
   "outputs": [
    {
     "name": "stdout",
     "output_type": "stream",
     "text": [
      "€999.90 EUR\n"
     ]
    }
   ],
   "source": [
    "from dinero import Dinero\n",
    "from dinero.currencies import EUR, USD\n",
    "\n",
    "amount_1 = Dinero(\"333.3\", EUR)\n",
    "amount_2 = Dinero(333.3, EUR)\n",
    "amount_3 = Dinero(333.3, EUR)\n",
    "\n",
    "total = sum([amount_1, amount_2, amount_3])\n",
    "print(total)"
   ]
  },
  {
   "cell_type": "code",
   "execution_count": 24,
   "metadata": {},
   "outputs": [
    {
     "ename": "DifferentCurrencyError",
     "evalue": "Currencies can not be different",
     "output_type": "error",
     "traceback": [
      "\u001b[0;31m---------------------------------------------------------------------------\u001b[0m",
      "\u001b[0;31mDifferentCurrencyError\u001b[0m                    Traceback (most recent call last)",
      "Cell \u001b[0;32mIn [24], line 8\u001b[0m\n\u001b[1;32m      5\u001b[0m amount_1 \u001b[39m=\u001b[39m Dinero(\u001b[39m\"\u001b[39m\u001b[39m333.3\u001b[39m\u001b[39m\"\u001b[39m, EUR)\n\u001b[1;32m      6\u001b[0m amount_2 \u001b[39m=\u001b[39m Dinero(\u001b[39m333.3\u001b[39m, USD)\n\u001b[0;32m----> 8\u001b[0m amount_1\u001b[39m.\u001b[39;49madd(amount_2)\n\u001b[1;32m      9\u001b[0m amount_1 \u001b[39m+\u001b[39m amount_2\n\u001b[1;32m     10\u001b[0m \u001b[39msum\u001b[39m([amount_1, amount_2])\n",
      "File \u001b[0;32m~/projects/dinero/dinero/_dinero.py:51\u001b[0m, in \u001b[0;36mDinero.add\u001b[0;34m(self, amount)\u001b[0m\n\u001b[1;32m     50\u001b[0m \u001b[39mdef\u001b[39;00m \u001b[39madd\u001b[39m(\u001b[39mself\u001b[39m, amount: \u001b[39m\"\u001b[39m\u001b[39mOperationType | Dinero\u001b[39m\u001b[39m\"\u001b[39m) \u001b[39m-\u001b[39m\u001b[39m>\u001b[39m \u001b[39m\"\u001b[39m\u001b[39mDinero\u001b[39m\u001b[39m\"\u001b[39m:\n\u001b[0;32m---> 51\u001b[0m     \u001b[39mreturn\u001b[39;00m \u001b[39mself\u001b[39;49m\u001b[39m.\u001b[39;49m\u001b[39m__add__\u001b[39;49m(amount)\n",
      "File \u001b[0;32m~/projects/dinero/dinero/_dinero.py:89\u001b[0m, in \u001b[0;36m__add__\u001b[0;34m(self, addend)\u001b[0m\n\u001b[1;32m     87\u001b[0m \u001b[39mdef\u001b[39;00m \u001b[39m_get_instance\u001b[39m(\u001b[39mself\u001b[39m, amount: \u001b[39m\"\u001b[39m\u001b[39mOperationType | object | Dinero\u001b[39m\u001b[39m\"\u001b[39m) \u001b[39m-\u001b[39m\u001b[39m>\u001b[39m \u001b[39m\"\u001b[39m\u001b[39mDinero\u001b[39m\u001b[39m\"\u001b[39m:\n\u001b[1;32m     88\u001b[0m     \u001b[39mif\u001b[39;00m \u001b[39misinstance\u001b[39m(amount, Dinero):\n\u001b[0;32m---> 89\u001b[0m         second_amount \u001b[39m=\u001b[39m amount\n\u001b[1;32m     90\u001b[0m     \u001b[39melse\u001b[39;00m:\n\u001b[1;32m     91\u001b[0m         second_amount \u001b[39m=\u001b[39m Dinero(\u001b[39mstr\u001b[39m(amount), \u001b[39mself\u001b[39m\u001b[39m.\u001b[39mcurrency)\n",
      "File \u001b[0;32m~/projects/dinero/dinero/_dinero.py:84\u001b[0m, in \u001b[0;36m_get_instance\u001b[0;34m(self, amount)\u001b[0m\n\u001b[1;32m     77\u001b[0m \u001b[39mdef\u001b[39;00m \u001b[39mto_dict\u001b[39m(\u001b[39mself\u001b[39m, amount: \u001b[39m\"\u001b[39m\u001b[39mDinero\u001b[39m\u001b[39m\"\u001b[39m) \u001b[39m-\u001b[39m\u001b[39m>\u001b[39m \u001b[39mstr\u001b[39m:\n\u001b[1;32m     78\u001b[0m     \u001b[39mreturn\u001b[39;00m {\n\u001b[1;32m     79\u001b[0m         \u001b[39m\"\u001b[39m\u001b[39mamount\u001b[39m\u001b[39m\"\u001b[39m: \u001b[39mself\u001b[39m\u001b[39m.\u001b[39mnormalized_amount,\n\u001b[1;32m     80\u001b[0m         \u001b[39m\"\u001b[39m\u001b[39mcurrency\u001b[39m\u001b[39m\"\u001b[39m: \u001b[39mself\u001b[39m\u001b[39m.\u001b[39mcode,\n\u001b[1;32m     81\u001b[0m         \u001b[39m\"\u001b[39m\u001b[39msymbol\u001b[39m\u001b[39m\"\u001b[39m: \u001b[39mself\u001b[39m\u001b[39m.\u001b[39msymbol,\n\u001b[1;32m     82\u001b[0m     }\n\u001b[0;32m---> 84\u001b[0m \u001b[39mdef\u001b[39;00m \u001b[39mto_json\u001b[39m(\u001b[39mself\u001b[39m, amount: \u001b[39m\"\u001b[39m\u001b[39mDinero\u001b[39m\u001b[39m\"\u001b[39m) \u001b[39m-\u001b[39m\u001b[39m>\u001b[39m \u001b[39mstr\u001b[39m:\n\u001b[1;32m     85\u001b[0m     \u001b[39mpass\u001b[39;00m\n\u001b[1;32m     87\u001b[0m \u001b[39mdef\u001b[39;00m \u001b[39m_get_instance\u001b[39m(\u001b[39mself\u001b[39m, amount: \u001b[39m\"\u001b[39m\u001b[39mOperationType | object | Dinero\u001b[39m\u001b[39m\"\u001b[39m) \u001b[39m-\u001b[39m\u001b[39m>\u001b[39m \u001b[39m\"\u001b[39m\u001b[39mDinero\u001b[39m\u001b[39m\"\u001b[39m:\n",
      "\u001b[0;31mDifferentCurrencyError\u001b[0m: Currencies can not be different"
     ]
    }
   ],
   "source": [
    "# different currencies will raise a DifferentCurrencyError\n",
    "from dinero import Dinero\n",
    "from dinero.currencies import EUR, USD\n",
    "\n",
    "amount_1 = Dinero(\"333.3\", EUR)\n",
    "amount_2 = Dinero(333.3, USD)\n",
    "\n",
    "amount_1.add(amount_2)\n",
    "amount_1 + amount_2\n",
    "sum([amount_1, amount_2])"
   ]
  },
  {
   "cell_type": "markdown",
   "metadata": {},
   "source": [
    "### Subtract"
   ]
  },
  {
   "cell_type": "code",
   "execution_count": null,
   "metadata": {},
   "outputs": [],
   "source": [
    "from dinero import Dinero\n",
    "from dinero.currencies import EUR\n",
    "\n",
    "amount = Dinero(\"20.20\", EUR)\n",
    "total = amount.subtract('10.20')\n",
    "print(total)"
   ]
  },
  {
   "cell_type": "code",
   "execution_count": null,
   "metadata": {},
   "outputs": [],
   "source": [
    "from dinero import Dinero\n",
    "from dinero.currencies import EUR\n",
    "\n",
    "amount_1 = Dinero(\"20.20\", EUR)\n",
    "amount_2 = Dinero(\"10.20\", EUR)\n",
    "total = amount_1.subtract(amount_2)\n",
    "print(total)"
   ]
  },
  {
   "cell_type": "code",
   "execution_count": null,
   "metadata": {},
   "outputs": [],
   "source": [
    "from dinero import Dinero\n",
    "from dinero.currencies import EUR, USD\n",
    "\n",
    "amount_1 = Dinero(\"20.20\", EUR)\n",
    "amount_2 = Dinero(\"10.20\", EUR)\n",
    "total = amount_1 - amount_2\n",
    "print(total)"
   ]
  },
  {
   "cell_type": "code",
   "execution_count": null,
   "metadata": {},
   "outputs": [],
   "source": [
    "# different currencies will raise a DifferentCurrencyError\n",
    "from dinero import Dinero\n",
    "from dinero.currencies import EUR, USD\n",
    "\n",
    "amount_1 = Dinero(\"333.3\", EUR)\n",
    "amount_2 = Dinero(333.3, USD)\n",
    "\n",
    "amount_1.subtract(amount_2)\n",
    "amount_1 - amount_2"
   ]
  },
  {
   "cell_type": "markdown",
   "metadata": {},
   "source": [
    "### Multiply"
   ]
  },
  {
   "cell_type": "code",
   "execution_count": 4,
   "metadata": {},
   "outputs": [
    {
     "name": "stdout",
     "output_type": "stream",
     "text": [
      "€40.00 EUR\n"
     ]
    }
   ],
   "source": [
    "from dinero import Dinero\n",
    "from dinero.currencies import EUR\n",
    "\n",
    "amount = Dinero(\"20\", EUR)\n",
    "total = amount.multiply(2)\n",
    "print(total)"
   ]
  },
  {
   "cell_type": "code",
   "execution_count": 5,
   "metadata": {},
   "outputs": [
    {
     "name": "stdout",
     "output_type": "stream",
     "text": [
      "€40.00 EUR\n"
     ]
    }
   ],
   "source": [
    "from dinero import Dinero\n",
    "from dinero.currencies import EUR\n",
    "\n",
    "amount_1 = Dinero(\"20.00\", EUR)\n",
    "amount_2 = Dinero(\"2.0\", EUR)\n",
    "total = amount_1.multiply(amount_2)\n",
    "print(total)"
   ]
  },
  {
   "cell_type": "code",
   "execution_count": null,
   "metadata": {},
   "outputs": [],
   "source": [
    "from dinero import Dinero\n",
    "from dinero.currencies import EUR, CLP\n",
    "\n",
    "amount_1 = Dinero(\"20.00\", EUR)\n",
    "amount_2 = Dinero(\"2.0\", EUR)\n",
    "total = amount_1 * amount_2\n",
    "print(total)"
   ]
  },
  {
   "cell_type": "code",
   "execution_count": null,
   "metadata": {},
   "outputs": [],
   "source": [
    "from dinero import Dinero\n",
    "from dinero.currencies import USD\n",
    "\n",
    "amount = Dinero(\"20.00\", USD)\n",
    "total = amount * 2.9\n",
    "print(total)"
   ]
  },
  {
   "cell_type": "code",
   "execution_count": null,
   "metadata": {},
   "outputs": [],
   "source": [
    "# different currencies will raise a DifferentCurrencyError\n",
    "from dinero import Dinero\n",
    "from dinero.currencies import EUR, USD\n",
    "\n",
    "amount_1 = Dinero(\"333.3\", EUR)\n",
    "amount_2 = Dinero(333.3, USD)\n",
    "\n",
    "amount_1.multiply(amount_2)\n",
    "amount_1 * amount_2"
   ]
  },
  {
   "cell_type": "markdown",
   "metadata": {},
   "source": [
    "### Divide"
   ]
  },
  {
   "cell_type": "code",
   "execution_count": null,
   "metadata": {},
   "outputs": [],
   "source": [
    "from dinero import Dinero\n",
    "from dinero.currencies import EUR\n",
    "\n",
    "amount = Dinero(\"20\", EUR)\n",
    "total = amount.divide(2)\n",
    "print(total)"
   ]
  },
  {
   "cell_type": "code",
   "execution_count": null,
   "metadata": {},
   "outputs": [],
   "source": [
    "from dinero import Dinero\n",
    "from dinero.currencies import EUR\n",
    "\n",
    "amount_1 = Dinero(\"20.00\", EUR)\n",
    "amount_2 = Dinero(\"2.0\", EUR)\n",
    "total = amount_1.divide(amount_2)\n",
    "print(total)"
   ]
  },
  {
   "cell_type": "code",
   "execution_count": null,
   "metadata": {},
   "outputs": [],
   "source": [
    "from dinero import Dinero\n",
    "from dinero.currencies import EUR\n",
    "\n",
    "amount_1 = Dinero(\"20.00\", EUR)\n",
    "amount_2 = Dinero(\"2.0\", EUR)\n",
    "total = amount_1 / amount_2\n",
    "print(total)"
   ]
  },
  {
   "cell_type": "code",
   "execution_count": null,
   "metadata": {},
   "outputs": [],
   "source": [
    "from dinero import Dinero\n",
    "from dinero.currencies import EUR\n",
    "\n",
    "amount = Dinero(\"20\", EUR)\n",
    "total = amount / 2\n",
    "print(total)"
   ]
  },
  {
   "cell_type": "code",
   "execution_count": null,
   "metadata": {},
   "outputs": [],
   "source": [
    "# different currencies will raise a DifferentCurrencyError\n",
    "from dinero import Dinero\n",
    "from dinero.currencies import EUR, USD\n",
    "\n",
    "amount_1 = Dinero(\"20\", EUR)\n",
    "amount_2 = Dinero(2, USD)\n",
    "\n",
    "amount_1.divide(amount_2)\n",
    "amount_1 / amount_2"
   ]
  },
  {
   "cell_type": "markdown",
   "metadata": {},
   "source": [
    "### Operations"
   ]
  },
  {
   "cell_type": "code",
   "execution_count": null,
   "metadata": {},
   "outputs": [],
   "source": [
    "from dinero import Dinero\n",
    "from dinero.currencies import EUR\n",
    "\n",
    "amount_1 = Dinero(\"333.2\", EUR)\n",
    "amount_2 = Dinero(333.3, EUR)\n",
    "amount_3 = Dinero(333.4, EUR)\n",
    "\n",
    "highest = max([amount_1, amount_2, amount_3])\n",
    "lowest = min([amount_1, amount_2, amount_3])\n",
    "\n",
    "print(highest)\n",
    "print(lowest)"
   ]
  },
  {
   "cell_type": "code",
   "execution_count": null,
   "metadata": {},
   "outputs": [
    {
     "data": {
      "text/plain": [
       "True"
      ]
     },
     "execution_count": 18,
     "metadata": {},
     "output_type": "execute_result"
    }
   ],
   "source": [
    "from dinero import Dinero\n",
    "from dinero.currencies import EUR\n",
    "\n",
    "amount_1 = Dinero(\"333.2\", EUR)\n",
    "amount_2 = Dinero(333.3, EUR)\n",
    "\n",
    "# less than\n",
    "amount_1.less_than(amount_2)\n",
    "amount_1.less_than(333.3)\n",
    "amount_1 < amount_2\n",
    "amount_1 < 333.3\n",
    "\n",
    "# less than or equal\n",
    "amount_1.less_than_or_equal(amount_2)\n",
    "amount_1.less_than_or_equal(333.3)\n",
    "amount_1 <= amount_2\n",
    "amount_1 <= 333.3\n",
    "\n",
    "# greater than\n",
    "amount_1.greater_than(amount_2)\n",
    "amount_1.greater_than(333.3)\n",
    "amount_1 < amount_2\n",
    "amount_1 < 333.3\n",
    "\n",
    "# greater than or equal\n",
    "amount_1.greater_than_or_equal(amount_2)\n",
    "amount_1.greater_than_or_equal(333.3)\n",
    "amount_1 > amount_2\n",
    "amount_1 > 333.3\n",
    "\n",
    "# equals\n",
    "amount_3 = Dinero(333.2, EUR)\n",
    "amount_1.equals_to(amount_3)\n",
    "amount_1.equals_to(333.2)\n",
    "amount_1 == amount_3\n",
    "amount_1 == 333.2"
   ]
  },
  {
   "cell_type": "markdown",
   "metadata": {},
   "source": [
    "## to_dict"
   ]
  },
  {
   "cell_type": "code",
   "execution_count": 2,
   "metadata": {},
   "outputs": [
    {
     "data": {
      "text/plain": [
       "{'amount': Decimal('3333.22'), 'currency': 'EUR', 'symbol': '€'}"
      ]
     },
     "execution_count": 2,
     "metadata": {},
     "output_type": "execute_result"
    }
   ],
   "source": [
    "from dinero import Dinero\n",
    "from dinero.currencies import EUR\n",
    "from decimal import Decimal\n",
    "\n",
    "amount = Dinero(\"3333.22\", EUR)\n",
    "amount.to_dict()"
   ]
  },
  {
   "cell_type": "markdown",
   "metadata": {},
   "source": [
    "## to_json"
   ]
  },
  {
   "cell_type": "code",
   "execution_count": 3,
   "metadata": {},
   "outputs": [
    {
     "data": {
      "text/plain": [
       "'{\"amount\": \"3333.20\", \"currency\": \"EUR\", \"symbol\": \"\\\\u20ac\"}'"
      ]
     },
     "execution_count": 3,
     "metadata": {},
     "output_type": "execute_result"
    }
   ],
   "source": [
    "from dinero import Dinero\n",
    "from dinero.currencies import EUR\n",
    "from decimal import Decimal\n",
    "\n",
    "amount = Dinero(\"3333.2\", EUR)\n",
    "amount.to_json()"
   ]
  }
 ],
 "metadata": {
  "kernelspec": {
   "display_name": "Python 3.10.8 ('dinero-lHM6Yuiu-py3.10')",
   "language": "python",
   "name": "python3"
  },
  "language_info": {
   "codemirror_mode": {
    "name": "ipython",
    "version": 3
   },
   "file_extension": ".py",
   "mimetype": "text/x-python",
   "name": "python",
   "nbconvert_exporter": "python",
   "pygments_lexer": "ipython3",
   "version": "3.10.8"
  },
  "orig_nbformat": 4,
  "vscode": {
   "interpreter": {
    "hash": "e55e401381f70a25cfb5c95c2d0c2d8c42db6329f6d2e769fa34d04b49ee26d1"
   }
  }
 },
 "nbformat": 4,
 "nbformat_minor": 2
}
