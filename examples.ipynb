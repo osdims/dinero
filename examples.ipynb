{
    "cells": [
        {
            "cell_type": "code",
            "execution_count": null,
            "metadata": {},
            "outputs": [],
            "source": [
                "from dinero import Dinero\n",
                "from dinero.currencies import CLP, USD\n",
                "\n",
                "amount = Dinero(234342.3010, USD)\n",
                "amount.raw_amount\n",
                "amount.symbol\n",
                "amount.code\n",
                "\n",
                "formatted = amount.format(symbol=True, currency=True)\n",
                "print(formatted)"
            ]
        },
        {
            "cell_type": "code",
            "execution_count": null,
            "metadata": {},
            "outputs": [],
            "source": [
                "from dinero import Dinero\n",
                "from dinero.currencies import CLP, USD\n",
                "\n",
                "unit_price = Dinero(2.32, USD)\n",
                "number_sold = 3\n",
                "money_received = Dinero(6.96, USD)\n",
                "if unit_price * number_sold == money_received:\n",
                "    print('Accounts balanced')\n",
                "else:\n",
                "    raise ValueError('Accounts not balanced')"
            ]
        },
        {
            "cell_type": "code",
            "execution_count": null,
            "metadata": {},
            "outputs": [],
            "source": [
                "total = Dinero(456.343567, USD) + 345.32 / 4534.4 *  3\n",
                "print(total)"
            ]
        },
        {
            "attachments": {},
            "cell_type": "markdown",
            "metadata": {},
            "source": [
                "## Mutations"
            ]
        },
        {
            "attachments": {},
            "cell_type": "markdown",
            "metadata": {},
            "source": [
                "### Add"
            ]
        },
        {
            "cell_type": "code",
            "execution_count": null,
            "metadata": {},
            "outputs": [],
            "source": [
                "from dinero import Dinero\n",
                "from dinero.currencies import EUR\n",
                "\n",
                "amount = Dinero(\"333.3\", EUR)\n",
                "total = amount.add(333.3)\n",
                "print(total)"
            ]
        },
        {
            "cell_type": "code",
            "execution_count": null,
            "metadata": {},
            "outputs": [],
            "source": [
                "from dinero import Dinero\n",
                "from dinero.currencies import EUR\n",
                "\n",
                "amount_1 = Dinero(\"333.3\", EUR)\n",
                "amount_2 = Dinero(333.3, EUR)\n",
                "\n",
                "total = amount_1.add(amount_2)\n",
                "print(total)"
            ]
        },
        {
            "cell_type": "code",
            "execution_count": null,
            "metadata": {},
            "outputs": [],
            "source": [
                "from dinero import Dinero\n",
                "from dinero.currencies import EUR, USD\n",
                "\n",
                "amount_1 = Dinero(\"333.3\", USD)\n",
                "amount_2 = Dinero(333.3, USD)\n",
                "\n",
                "total = amount_1 + amount_2\n",
                "print(total)"
            ]
        },
        {
            "cell_type": "code",
            "execution_count": null,
            "metadata": {},
            "outputs": [],
            "source": [
                "from dinero import Dinero\n",
                "from dinero.currencies import EUR, USD\n",
                "\n",
                "amount_1 = Dinero(\"333.3\", EUR)\n",
                "amount_2 = Dinero(333.3, EUR)\n",
                "amount_3 = Dinero(333.3, EUR)\n",
                "\n",
                "total = sum([amount_1, amount_2, amount_3])\n",
                "print(total)"
            ]
        },
        {
            "cell_type": "code",
            "execution_count": null,
            "metadata": {},
            "outputs": [],
            "source": [
                "# different currencies will raise a DifferentCurrencyError\n",
                "from dinero import Dinero\n",
                "from dinero.currencies import EUR, USD\n",
                "from dinero.exceptions import DifferentCurrencyError\n",
                "\n",
                "amount_1 = Dinero(\"333.3\", EUR)\n",
                "amount_2 = Dinero(333.3, USD)\n",
                "\n",
                "try:\n",
                "    amount_1.add(amount_2)\n",
                "    print(amount_1 + amount_2)\n",
                "    sum([amount_1, amount_2])\n",
                "except DifferentCurrencyError:\n",
                "    print('Can not operate with different currencies')"
            ]
        },
        {
            "attachments": {},
            "cell_type": "markdown",
            "metadata": {},
            "source": [
                "### Subtract"
            ]
        },
        {
            "cell_type": "code",
            "execution_count": null,
            "metadata": {},
            "outputs": [],
            "source": [
                "from dinero import Dinero\n",
                "from dinero.currencies import EUR\n",
                "\n",
                "amount = Dinero(\"20.20\", EUR)\n",
                "total = amount.subtract('10.20')\n",
                "print(total)"
            ]
        },
        {
            "cell_type": "code",
            "execution_count": null,
            "metadata": {},
            "outputs": [],
            "source": [
                "from dinero import Dinero\n",
                "from dinero.currencies import EUR\n",
                "\n",
                "amount_1 = Dinero(\"20.20\", EUR)\n",
                "amount_2 = Dinero(\"10.20\", EUR)\n",
                "total = amount_1.subtract(amount_2)\n",
                "print(total)"
            ]
        },
        {
            "cell_type": "code",
            "execution_count": null,
            "metadata": {},
            "outputs": [],
            "source": [
                "from dinero import Dinero\n",
                "from dinero.currencies import EUR, USD\n",
                "\n",
                "amount_1 = Dinero(\"20.20\", EUR)\n",
                "amount_2 = Dinero(\"10.20\", EUR)\n",
                "total = amount_1 - amount_2\n",
                "print(total)"
            ]
        },
        {
            "cell_type": "code",
            "execution_count": null,
            "metadata": {},
            "outputs": [],
            "source": [
                "# different currencies will raise a DifferentCurrencyError\n",
                "from dinero import Dinero\n",
                "from dinero.currencies import EUR, USD\n",
                "from dinero.exceptions import DifferentCurrencyError\n",
                "\n",
                "amount_1 = Dinero(\"333.3\", EUR)\n",
                "amount_2 = Dinero(333.3, USD)\n",
                "\n",
                "try:\n",
                "    amount_1.subtract(amount_2)\n",
                "    print(amount_1 - amount_2)\n",
                "except DifferentCurrencyError:\n",
                "    print('Can not operate with different currencies')"
            ]
        },
        {
            "attachments": {},
            "cell_type": "markdown",
            "metadata": {},
            "source": [
                "### Multiply"
            ]
        },
        {
            "cell_type": "code",
            "execution_count": null,
            "metadata": {},
            "outputs": [],
            "source": [
                "from dinero import Dinero\n",
                "from dinero.currencies import EUR\n",
                "\n",
                "amount = Dinero(\"20\", EUR)\n",
                "total = amount.multiply(2)\n",
                "print(total)"
            ]
        },
        {
            "cell_type": "code",
            "execution_count": null,
            "metadata": {},
            "outputs": [],
            "source": [
                "from dinero import Dinero\n",
                "from dinero.currencies import EUR\n",
                "\n",
                "amount = Dinero(\"20.00\", EUR)\n",
                "total = amount.multiply(2)\n",
                "print(total)"
            ]
        },
        {
            "cell_type": "code",
            "execution_count": null,
            "metadata": {},
            "outputs": [],
            "source": [
                "from dinero import Dinero\n",
                "from dinero.currencies import EUR, CLP\n",
                "\n",
                "amount = Dinero(\"20.00\", EUR)\n",
                "total = amount * 2\n",
                "print(total)"
            ]
        },
        {
            "cell_type": "code",
            "execution_count": null,
            "metadata": {},
            "outputs": [],
            "source": [
                "from dinero import Dinero\n",
                "from dinero.currencies import USD\n",
                "\n",
                "amount = Dinero(\"20.00\", USD)\n",
                "total = amount * 2.9\n",
                "print(total)"
            ]
        },
        {
            "cell_type": "code",
            "execution_count": null,
            "metadata": {},
            "outputs": [],
            "source": [
                "# different currencies will raise a DifferentCurrencyError\n",
                "from dinero import Dinero\n",
                "from dinero.currencies import EUR, USD\n",
                "from dinero.exceptions import DifferentCurrencyError\n",
                "\n",
                "amount = Dinero(\"333.3\", EUR)\n",
                "\n",
                "try:\n",
                "    amount.multiply(3)\n",
                "    print(amount * 3)\n",
                "except DifferentCurrencyError:\n",
                "    print('Can not operate with different currencies')"
            ]
        },
        {
            "attachments": {},
            "cell_type": "markdown",
            "metadata": {},
            "source": [
                "### Divide"
            ]
        },
        {
            "cell_type": "code",
            "execution_count": null,
            "metadata": {},
            "outputs": [],
            "source": [
                "from dinero import Dinero\n",
                "from dinero.currencies import EUR\n",
                "\n",
                "amount = Dinero(\"20\", EUR)\n",
                "total = amount.divide(2)\n",
                "print(total)"
            ]
        },
        {
            "cell_type": "code",
            "execution_count": null,
            "metadata": {},
            "outputs": [],
            "source": [
                "from dinero import Dinero\n",
                "from dinero.currencies import EUR\n",
                "\n",
                "amount = Dinero(\"20.00\", EUR)\n",
                "total = amount.divide(2)\n",
                "print(total)"
            ]
        },
        {
            "cell_type": "code",
            "execution_count": null,
            "metadata": {},
            "outputs": [],
            "source": [
                "from dinero import Dinero\n",
                "from dinero.currencies import EUR\n",
                "\n",
                "amount = Dinero(\"20.00\", EUR)\n",
                "total = amount / 2\n",
                "print(total)"
            ]
        },
        {
            "cell_type": "code",
            "execution_count": null,
            "metadata": {},
            "outputs": [],
            "source": [
                "from dinero import Dinero\n",
                "from dinero.currencies import EUR\n",
                "\n",
                "amount = Dinero(\"20\", EUR)\n",
                "total = amount / 2\n",
                "print(total)"
            ]
        },
        {
            "cell_type": "code",
            "execution_count": null,
            "metadata": {},
            "outputs": [],
            "source": [
                "# different currencies will raise a DifferentCurrencyError\n",
                "from dinero import Dinero\n",
                "from dinero.currencies import EUR, USD\n",
                "from dinero.exceptions import DifferentCurrencyError\n",
                "\n",
                "amount_1 = Dinero(\"20\", EUR)\n",
                "\n",
                "try:\n",
                "    amount_1.divide(2)\n",
                "    print(amount_1 / 2)\n",
                "except DifferentCurrencyError:\n",
                "    print(\"Can not operate with different currencies\")"
            ]
        },
        {
            "attachments": {},
            "cell_type": "markdown",
            "metadata": {},
            "source": [
                "## Comparison\n"
            ]
        },
        {
            "cell_type": "code",
            "execution_count": null,
            "metadata": {},
            "outputs": [],
            "source": [
                "from dinero import Dinero\n",
                "from dinero.currencies import EUR\n",
                "\n",
                "amount_1 = Dinero(\"333.2\", EUR)\n",
                "amount_2 = Dinero(333.3, EUR)\n",
                "amount_3 = Dinero(333.4, EUR)\n",
                "\n",
                "highest = max([amount_1, amount_2, amount_3])\n",
                "lowest = min([amount_1, amount_2, amount_3])\n",
                "\n",
                "print(highest)\n",
                "print(lowest)"
            ]
        },
        {
            "cell_type": "code",
            "execution_count": null,
            "metadata": {},
            "outputs": [],
            "source": [
                "from dinero import Dinero\n",
                "from dinero.currencies import EUR\n",
                "\n",
                "amount_1 = Dinero(\"333.2\", EUR)\n",
                "amount_2 = Dinero(333.3, EUR)\n",
                "\n",
                "# less than\n",
                "amount_1.less_than(amount_2)\n",
                "print(amount_1 < amount_2)\n",
                "\n",
                "# less than or equal\n",
                "amount_1.less_than_or_equal(amount_2)\n",
                "print(amount_1 <= amount_2)\n",
                "\n",
                "# greater than\n",
                "amount_1.greater_than(amount_2)\n",
                "print(amount_1 < amount_2)\n",
                "\n",
                "# greater than or equal\n",
                "amount_1.greater_than_or_equal(amount_2)\n",
                "print(amount_1 > amount_2)\n",
                "\n",
                "# equals\n",
                "amount_3 = Dinero(333.2, EUR)\n",
                "amount_1.equals_to(amount_3)\n",
                "amount_1 == amount_3"
            ]
        },
        {
            "attachments": {},
            "cell_type": "markdown",
            "metadata": {},
            "source": [
                "## to_dict"
            ]
        },
        {
            "cell_type": "code",
            "execution_count": 2,
            "metadata": {},
            "outputs": [
                {
                    "data": {
                        "text/plain": [
                            "{'amount': '3333.26',\n",
                            " 'currency': {'code': 'USD', 'base': 10, 'exponent': 2, 'symbol': '$'},\n",
                            " 'dinero': dinero._dinero.Dinero}"
                        ]
                    },
                    "execution_count": 2,
                    "metadata": {},
                    "output_type": "execute_result"
                }
            ],
            "source": [
                "from dinero import Dinero\n",
                "from dinero.currencies import USD\n",
                "\n",
                "amount = Dinero(\"3333.259\", USD)\n",
                "amount.to_dict(amount_with_format=False)"
            ]
        },
        {
            "cell_type": "code",
            "execution_count": null,
            "metadata": {},
            "outputs": [],
            "source": [
                "from dinero import Dinero\n",
                "from dinero.currencies import USD\n",
                "\n",
                "amount = Dinero(\"3333.259\", USD)\n",
                "amount.to_dict(amount_with_format=True)"
            ]
        },
        {
            "attachments": {},
            "cell_type": "markdown",
            "metadata": {},
            "source": [
                "## to_json"
            ]
        },
        {
            "cell_type": "code",
            "execution_count": 3,
            "metadata": {},
            "outputs": [
                {
                    "ename": "TypeError",
                    "evalue": "Object of type type is not JSON serializable",
                    "output_type": "error",
                    "traceback": [
                        "\u001b[0;31m---------------------------------------------------------------------------\u001b[0m",
                        "\u001b[0;31mTypeError\u001b[0m                                 Traceback (most recent call last)",
                        "Cell \u001b[0;32mIn[3], line 5\u001b[0m\n\u001b[1;32m      2\u001b[0m \u001b[39mfrom\u001b[39;00m \u001b[39mdinero\u001b[39;00m\u001b[39m.\u001b[39;00m\u001b[39mcurrencies\u001b[39;00m \u001b[39mimport\u001b[39;00m USD\n\u001b[1;32m      4\u001b[0m amount \u001b[39m=\u001b[39m Dinero(\u001b[39m\"\u001b[39m\u001b[39m3333.2\u001b[39m\u001b[39m\"\u001b[39m, USD)\n\u001b[0;32m----> 5\u001b[0m amount\u001b[39m.\u001b[39;49mto_json(amount_with_format\u001b[39m=\u001b[39;49m\u001b[39mFalse\u001b[39;49;00m)\n",
                        "File \u001b[0;32m/workspaces/dinero/dinero/_dinero.py:533\u001b[0m, in \u001b[0;36mDinero.to_json\u001b[0;34m(self, amount_with_format)\u001b[0m\n\u001b[1;32m    512\u001b[0m \u001b[39m\u001b[39m\u001b[39m\"\"\"Returns the object's data as a JSON string.\u001b[39;00m\n\u001b[1;32m    513\u001b[0m \n\u001b[1;32m    514\u001b[0m \u001b[39mExamples:\u001b[39;00m\n\u001b[0;32m   (...)\u001b[0m\n\u001b[1;32m    529\u001b[0m \u001b[39m    STR: The object's data as JSON.\u001b[39;00m\n\u001b[1;32m    530\u001b[0m \u001b[39m\"\"\"\u001b[39;00m\n\u001b[1;32m    532\u001b[0m dict_representation \u001b[39m=\u001b[39m \u001b[39mself\u001b[39m\u001b[39m.\u001b[39mto_dict(amount_with_format)\n\u001b[0;32m--> 533\u001b[0m \u001b[39mreturn\u001b[39;00m json\u001b[39m.\u001b[39;49mdumps(dict_representation, \u001b[39mcls\u001b[39;49m\u001b[39m=\u001b[39;49mDecimalEncoder)\n",
                        "File \u001b[0;32m/usr/local/lib/python3.11/json/__init__.py:238\u001b[0m, in \u001b[0;36mdumps\u001b[0;34m(obj, skipkeys, ensure_ascii, check_circular, allow_nan, cls, indent, separators, default, sort_keys, **kw)\u001b[0m\n\u001b[1;32m    232\u001b[0m \u001b[39mif\u001b[39;00m \u001b[39mcls\u001b[39m \u001b[39mis\u001b[39;00m \u001b[39mNone\u001b[39;00m:\n\u001b[1;32m    233\u001b[0m     \u001b[39mcls\u001b[39m \u001b[39m=\u001b[39m JSONEncoder\n\u001b[1;32m    234\u001b[0m \u001b[39mreturn\u001b[39;00m \u001b[39mcls\u001b[39;49m(\n\u001b[1;32m    235\u001b[0m     skipkeys\u001b[39m=\u001b[39;49mskipkeys, ensure_ascii\u001b[39m=\u001b[39;49mensure_ascii,\n\u001b[1;32m    236\u001b[0m     check_circular\u001b[39m=\u001b[39;49mcheck_circular, allow_nan\u001b[39m=\u001b[39;49mallow_nan, indent\u001b[39m=\u001b[39;49mindent,\n\u001b[1;32m    237\u001b[0m     separators\u001b[39m=\u001b[39;49mseparators, default\u001b[39m=\u001b[39;49mdefault, sort_keys\u001b[39m=\u001b[39;49msort_keys,\n\u001b[0;32m--> 238\u001b[0m     \u001b[39m*\u001b[39;49m\u001b[39m*\u001b[39;49mkw)\u001b[39m.\u001b[39;49mencode(obj)\n",
                        "File \u001b[0;32m/usr/local/lib/python3.11/json/encoder.py:200\u001b[0m, in \u001b[0;36mJSONEncoder.encode\u001b[0;34m(self, o)\u001b[0m\n\u001b[1;32m    196\u001b[0m         \u001b[39mreturn\u001b[39;00m encode_basestring(o)\n\u001b[1;32m    197\u001b[0m \u001b[39m# This doesn't pass the iterator directly to ''.join() because the\u001b[39;00m\n\u001b[1;32m    198\u001b[0m \u001b[39m# exceptions aren't as detailed.  The list call should be roughly\u001b[39;00m\n\u001b[1;32m    199\u001b[0m \u001b[39m# equivalent to the PySequence_Fast that ''.join() would do.\u001b[39;00m\n\u001b[0;32m--> 200\u001b[0m chunks \u001b[39m=\u001b[39m \u001b[39mself\u001b[39;49m\u001b[39m.\u001b[39;49miterencode(o, _one_shot\u001b[39m=\u001b[39;49m\u001b[39mTrue\u001b[39;49;00m)\n\u001b[1;32m    201\u001b[0m \u001b[39mif\u001b[39;00m \u001b[39mnot\u001b[39;00m \u001b[39misinstance\u001b[39m(chunks, (\u001b[39mlist\u001b[39m, \u001b[39mtuple\u001b[39m)):\n\u001b[1;32m    202\u001b[0m     chunks \u001b[39m=\u001b[39m \u001b[39mlist\u001b[39m(chunks)\n",
                        "File \u001b[0;32m/usr/local/lib/python3.11/json/encoder.py:258\u001b[0m, in \u001b[0;36mJSONEncoder.iterencode\u001b[0;34m(self, o, _one_shot)\u001b[0m\n\u001b[1;32m    253\u001b[0m \u001b[39melse\u001b[39;00m:\n\u001b[1;32m    254\u001b[0m     _iterencode \u001b[39m=\u001b[39m _make_iterencode(\n\u001b[1;32m    255\u001b[0m         markers, \u001b[39mself\u001b[39m\u001b[39m.\u001b[39mdefault, _encoder, \u001b[39mself\u001b[39m\u001b[39m.\u001b[39mindent, floatstr,\n\u001b[1;32m    256\u001b[0m         \u001b[39mself\u001b[39m\u001b[39m.\u001b[39mkey_separator, \u001b[39mself\u001b[39m\u001b[39m.\u001b[39mitem_separator, \u001b[39mself\u001b[39m\u001b[39m.\u001b[39msort_keys,\n\u001b[1;32m    257\u001b[0m         \u001b[39mself\u001b[39m\u001b[39m.\u001b[39mskipkeys, _one_shot)\n\u001b[0;32m--> 258\u001b[0m \u001b[39mreturn\u001b[39;00m _iterencode(o, \u001b[39m0\u001b[39;49m)\n",
                        "File \u001b[0;32m/workspaces/dinero/dinero/_utils.py:13\u001b[0m, in \u001b[0;36mDecimalEncoder.default\u001b[0;34m(self, obj)\u001b[0m\n\u001b[1;32m      6\u001b[0m \u001b[39mdef\u001b[39;00m \u001b[39mdefault\u001b[39m(\u001b[39mself\u001b[39m, obj):\n\u001b[1;32m      7\u001b[0m     \u001b[39m# if passed in object is instance of Decimal\u001b[39;00m\n\u001b[1;32m      8\u001b[0m     \u001b[39m# convert it to a string, otherwise use the,\u001b[39;00m\n\u001b[1;32m      9\u001b[0m     \u001b[39m# default behavior\u001b[39;00m\n\u001b[1;32m     10\u001b[0m     \u001b[39mreturn\u001b[39;00m (\n\u001b[1;32m     11\u001b[0m         \u001b[39mstr\u001b[39m(obj)\n\u001b[1;32m     12\u001b[0m         \u001b[39mif\u001b[39;00m \u001b[39misinstance\u001b[39m(obj, Decimal)\n\u001b[0;32m---> 13\u001b[0m         \u001b[39melse\u001b[39;00m json\u001b[39m.\u001b[39;49mJSONEncoder\u001b[39m.\u001b[39;49mdefault(\u001b[39mself\u001b[39;49m, obj)\n\u001b[1;32m     14\u001b[0m     )\n",
                        "File \u001b[0;32m/usr/local/lib/python3.11/json/encoder.py:180\u001b[0m, in \u001b[0;36mJSONEncoder.default\u001b[0;34m(self, o)\u001b[0m\n\u001b[1;32m    161\u001b[0m \u001b[39mdef\u001b[39;00m \u001b[39mdefault\u001b[39m(\u001b[39mself\u001b[39m, o):\n\u001b[1;32m    162\u001b[0m \u001b[39m    \u001b[39m\u001b[39m\"\"\"Implement this method in a subclass such that it returns\u001b[39;00m\n\u001b[1;32m    163\u001b[0m \u001b[39m    a serializable object for ``o``, or calls the base implementation\u001b[39;00m\n\u001b[1;32m    164\u001b[0m \u001b[39m    (to raise a ``TypeError``).\u001b[39;00m\n\u001b[0;32m   (...)\u001b[0m\n\u001b[1;32m    178\u001b[0m \n\u001b[1;32m    179\u001b[0m \u001b[39m    \"\"\"\u001b[39;00m\n\u001b[0;32m--> 180\u001b[0m     \u001b[39mraise\u001b[39;00m \u001b[39mTypeError\u001b[39;00m(\u001b[39mf\u001b[39m\u001b[39m'\u001b[39m\u001b[39mObject of type \u001b[39m\u001b[39m{\u001b[39;00mo\u001b[39m.\u001b[39m\u001b[39m__class__\u001b[39m\u001b[39m.\u001b[39m\u001b[39m__name__\u001b[39m\u001b[39m}\u001b[39;00m\u001b[39m \u001b[39m\u001b[39m'\u001b[39m\n\u001b[1;32m    181\u001b[0m                     \u001b[39mf\u001b[39m\u001b[39m'\u001b[39m\u001b[39mis not JSON serializable\u001b[39m\u001b[39m'\u001b[39m)\n",
                        "\u001b[0;31mTypeError\u001b[0m: Object of type type is not JSON serializable"
                    ]
                }
            ],
            "source": [
                "from dinero import Dinero\n",
                "from dinero.currencies import USD\n",
                "\n",
                "amount = Dinero(\"3333.2\", USD)\n",
                "amount.to_json(amount_with_format=False)"
            ]
        },
        {
            "cell_type": "code",
            "execution_count": null,
            "metadata": {},
            "outputs": [],
            "source": [
                "from dinero import Dinero\n",
                "from dinero.currencies import USD\n",
                "\n",
                "amount = Dinero(\"3333.2\", USD)\n",
                "amount.to_json(amount_with_format=True)"
            ]
        },
        {
            "attachments": {},
            "cell_type": "markdown",
            "metadata": {},
            "source": [
                "## TOOLS"
            ]
        },
        {
            "attachments": {},
            "cell_type": "markdown",
            "metadata": {},
            "source": [
                "### calculate_vat"
            ]
        },
        {
            "cell_type": "code",
            "execution_count": 1,
            "metadata": {},
            "outputs": [
                {
                    "data": {
                        "text/plain": [
                            "'$80 CLP'"
                        ]
                    },
                    "execution_count": 1,
                    "metadata": {},
                    "output_type": "execute_result"
                }
            ],
            "source": [
                "from dinero import Dinero\n",
                "from dinero.currencies import CLP\n",
                "from dinero.tools import calculate_vat\n",
                "\n",
                "amount = Dinero(\"500\", CLP)\n",
                "vat_amount = calculate_vat(\n",
                "    amount=amount,\n",
                "    vat_rate=19,\n",
                ")\n",
                "vat_amount.format(symbol=True, currency=True)"
            ]
        },
        {
            "attachments": {},
            "cell_type": "markdown",
            "metadata": {},
            "source": [
                "### calculate_percentage"
            ]
        },
        {
            "cell_type": "code",
            "execution_count": 2,
            "metadata": {},
            "outputs": [
                {
                    "data": {
                        "text/plain": [
                            "'$450.00 USD'"
                        ]
                    },
                    "execution_count": 2,
                    "metadata": {},
                    "output_type": "execute_result"
                }
            ],
            "source": [
                "from dinero import Dinero\n",
                "from dinero.currencies import USD\n",
                "from dinero.tools import calculate_percentage\n",
                "\n",
                "amount = Dinero(\"3000\", USD)\n",
                "vat_amount = calculate_percentage(\n",
                "    amount=amount,\n",
                "    percentage=15,\n",
                ")\n",
                "vat_amount.format(symbol=True, currency=True)"
            ]
        },
        {
            "attachments": {},
            "cell_type": "markdown",
            "metadata": {},
            "source": [
                "### calculate_simple_interest"
            ]
        },
        {
            "cell_type": "code",
            "execution_count": 2,
            "metadata": {},
            "outputs": [
                {
                    "data": {
                        "text/plain": [
                            "'$100.00 USD'"
                        ]
                    },
                    "execution_count": 2,
                    "metadata": {},
                    "output_type": "execute_result"
                }
            ],
            "source": [
                "from dinero import Dinero\n",
                "from dinero.currencies import USD\n",
                "from dinero.tools import calculate_simple_interest\n",
                "\n",
                "amount = Dinero(1000, USD)\n",
                "interest_amount = calculate_simple_interest(\n",
                "    principal=amount,\n",
                "    interest_rate=5,\n",
                "    duration=2,\n",
                ")\n",
                "interest_amount.format(symbol=True, currency=True)"
            ]
        },
        {
            "attachments": {},
            "cell_type": "markdown",
            "metadata": {},
            "source": [
                "### calculate_compound_interest"
            ]
        },
        {
            "cell_type": "code",
            "execution_count": 2,
            "metadata": {},
            "outputs": [
                {
                    "data": {
                        "text/plain": [
                            "'$1,294.02 USD'"
                        ]
                    },
                    "execution_count": 2,
                    "metadata": {},
                    "output_type": "execute_result"
                }
            ],
            "source": [
                "from dinero import Dinero\n",
                "from dinero.currencies import USD\n",
                "from dinero.tools import calculate_compound_interest\n",
                "\n",
                "principal = Dinero(\"2000\", USD)\n",
                "total_interest = calculate_compound_interest(\n",
                "    principal=principal,\n",
                "    interest_rate=5, # 5% interest rate\n",
                "    duration=10, # 10 year loan duration\n",
                "    compound_frequency=12, # interest compounded monthly\n",
                ")\n",
                "total_interest.format(symbol=True, currency=True)"
            ]
        }
    ],
    "metadata": {
        "kernelspec": {
            "display_name": "dinero-mQwBjJd4-py3.11",
            "language": "python",
            "name": "python3"
        },
        "language_info": {
            "codemirror_mode": {
                "name": "ipython",
                "version": 3
            },
            "file_extension": ".py",
            "mimetype": "text/x-python",
            "name": "python",
            "nbconvert_exporter": "python",
            "pygments_lexer": "ipython3",
            "version": "3.11.3"
        },
        "orig_nbformat": 4,
        "vscode": {
            "interpreter": {
                "hash": "d218d306db2bd4a742a7498d32c72f9c7596bcdf2ee6ea9f678770a124766822"
            }
        }
    },
    "nbformat": 4,
    "nbformat_minor": 2
}
