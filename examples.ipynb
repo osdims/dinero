{
 "cells": [
  {
   "cell_type": "code",
   "execution_count": 19,
   "metadata": {},
   "outputs": [
    {
     "name": "stdout",
     "output_type": "stream",
     "text": [
      "234,342\n"
     ]
    }
   ],
   "source": [
    "from dinero import Dinero\n",
    "from dinero.currencies import CLP\n",
    "\n",
    "amount = Dinero(234342.3010, CLP)\n",
    "amount.raw_amount\n",
    "amount.normalized_amount\n",
    "amount.symbol\n",
    "amount.code\n",
    "amount.exponent\n",
    "\n",
    "formatted = amount.formatted_amount(symbol=True, currency=True)\n",
    "print(amount)"
   ]
  },
  {
   "cell_type": "markdown",
   "metadata": {},
   "source": [
    "## Operations"
   ]
  },
  {
   "cell_type": "markdown",
   "metadata": {},
   "source": [
    "### Add"
   ]
  },
  {
   "cell_type": "code",
   "execution_count": 20,
   "metadata": {},
   "outputs": [
    {
     "name": "stdout",
     "output_type": "stream",
     "text": [
      "666.60\n"
     ]
    }
   ],
   "source": [
    "from dinero import Dinero\n",
    "from dinero.currencies import EUR\n",
    "\n",
    "amount = Dinero(\"333.3\", EUR)\n",
    "total = amount.add(333.3)\n",
    "print(total)"
   ]
  },
  {
   "cell_type": "code",
   "execution_count": 21,
   "metadata": {},
   "outputs": [
    {
     "name": "stdout",
     "output_type": "stream",
     "text": [
      "666.60\n"
     ]
    }
   ],
   "source": [
    "from dinero import Dinero\n",
    "from dinero.currencies import EUR\n",
    "\n",
    "amount_1 = Dinero(\"333.3\", EUR)\n",
    "amount_2 = Dinero(333.3, EUR)\n",
    "\n",
    "total = amount_1.add(amount_2)\n",
    "print(total)"
   ]
  },
  {
   "cell_type": "code",
   "execution_count": 22,
   "metadata": {},
   "outputs": [
    {
     "name": "stdout",
     "output_type": "stream",
     "text": [
      "666.60\n"
     ]
    }
   ],
   "source": [
    "from dinero import Dinero\n",
    "from dinero.currencies import EUR, USD\n",
    "\n",
    "amount_1 = Dinero(\"333.3\", USD)\n",
    "amount_2 = Dinero(333.3, USD)\n",
    "\n",
    "total = amount_1 + amount_2\n",
    "print(total)"
   ]
  },
  {
   "cell_type": "code",
   "execution_count": 23,
   "metadata": {},
   "outputs": [
    {
     "name": "stdout",
     "output_type": "stream",
     "text": [
      "999.90\n"
     ]
    }
   ],
   "source": [
    "from dinero import Dinero\n",
    "from dinero.currencies import EUR, USD\n",
    "\n",
    "amount_1 = Dinero(\"333.3\", EUR)\n",
    "amount_2 = Dinero(333.3, EUR)\n",
    "amount_3 = Dinero(333.3, EUR)\n",
    "\n",
    "total = sum([amount_1, amount_2, amount_3])\n",
    "print(total)"
   ]
  },
  {
   "cell_type": "code",
   "execution_count": 62,
   "metadata": {},
   "outputs": [
    {
     "name": "stdout",
     "output_type": "stream",
     "text": [
      "Can not operate with different currencies\n"
     ]
    }
   ],
   "source": [
    "# different currencies will raise a DifferentCurrencyError\n",
    "from dinero import Dinero, DifferentCurrencyError\n",
    "from dinero.currencies import EUR, USD\n",
    "\n",
    "amount_1 = Dinero(\"333.3\", EUR)\n",
    "amount_2 = Dinero(333.3, USD)\n",
    "\n",
    "try:\n",
    "    amount_1.add(amount_2)\n",
    "    amount_1 + amount_2\n",
    "    sum([amount_1, amount_2])\n",
    "except DifferentCurrencyError:\n",
    "    print('Can not operate with different currencies')"
   ]
  },
  {
   "cell_type": "markdown",
   "metadata": {},
   "source": [
    "### Subtract"
   ]
  },
  {
   "cell_type": "code",
   "execution_count": 63,
   "metadata": {},
   "outputs": [
    {
     "name": "stdout",
     "output_type": "stream",
     "text": [
      "10.00\n"
     ]
    }
   ],
   "source": [
    "from dinero import Dinero\n",
    "from dinero.currencies import EUR\n",
    "\n",
    "amount = Dinero(\"20.20\", EUR)\n",
    "total = amount.subtract('10.20')\n",
    "print(total)"
   ]
  },
  {
   "cell_type": "code",
   "execution_count": 64,
   "metadata": {},
   "outputs": [
    {
     "name": "stdout",
     "output_type": "stream",
     "text": [
      "10.00\n"
     ]
    }
   ],
   "source": [
    "from dinero import Dinero\n",
    "from dinero.currencies import EUR\n",
    "\n",
    "amount_1 = Dinero(\"20.20\", EUR)\n",
    "amount_2 = Dinero(\"10.20\", EUR)\n",
    "total = amount_1.subtract(amount_2)\n",
    "print(total)"
   ]
  },
  {
   "cell_type": "code",
   "execution_count": 65,
   "metadata": {},
   "outputs": [
    {
     "name": "stdout",
     "output_type": "stream",
     "text": [
      "10.00\n"
     ]
    }
   ],
   "source": [
    "from dinero import Dinero\n",
    "from dinero.currencies import EUR, USD\n",
    "\n",
    "amount_1 = Dinero(\"20.20\", EUR)\n",
    "amount_2 = Dinero(\"10.20\", EUR)\n",
    "total = amount_1 - amount_2\n",
    "print(total)"
   ]
  },
  {
   "cell_type": "code",
   "execution_count": 66,
   "metadata": {},
   "outputs": [
    {
     "name": "stdout",
     "output_type": "stream",
     "text": [
      "Unexpected exception formatting exception. Falling back to standard exception\n"
     ]
    },
    {
     "name": "stderr",
     "output_type": "stream",
     "text": [
      "Traceback (most recent call last):\n",
      "  File \"/home/carlos/.cache/pypoetry/virtualenvs/dinero-lHM6Yuiu-py3.11/lib/python3.11/site-packages/IPython/core/interactiveshell.py\", line 3378, in run_code\n",
      "    exec(code_obj, self.user_global_ns, self.user_ns)\n",
      "  File \"/tmp/ipykernel_29930/1188717129.py\", line 8, in <module>\n",
      "    amount_1.subtract(amount_2)\n",
      "  File \"/home/carlos/projects/dinero/dinero/_dinero.py\", line 56, in subtract\n",
      "    return self.__sub__(amount)\n",
      "           ^^^^^^^^^^^^^^^^^^^^\n",
      "  File \"/home/carlos/projects/dinero/dinero/_dinero.py\", line 114, in __sub__\n",
      "    subtrahend_obj = self._get_instance(subtrahend)\n",
      "                     ^^^^^^^^^^^^^^^^^^^^^^^^^^^^^^\n",
      "  File \"/home/carlos/projects/dinero/dinero/_dinero.py\", line 101, in _get_instance\n",
      "    raise DifferentCurrencyError(\"Currencies can not be different\")\n",
      "dinero._dinero.DifferentCurrencyError: Currencies can not be different\n",
      "\n",
      "During handling of the above exception, another exception occurred:\n",
      "\n",
      "Traceback (most recent call last):\n",
      "  File \"/home/carlos/.cache/pypoetry/virtualenvs/dinero-lHM6Yuiu-py3.11/lib/python3.11/site-packages/IPython/core/interactiveshell.py\", line 1997, in showtraceback\n",
      "    stb = self.InteractiveTB.structured_traceback(\n",
      "          ^^^^^^^^^^^^^^^^^^^^^^^^^^^^^^^^^^^^^^^^\n",
      "  File \"/home/carlos/.cache/pypoetry/virtualenvs/dinero-lHM6Yuiu-py3.11/lib/python3.11/site-packages/IPython/core/ultratb.py\", line 1112, in structured_traceback\n",
      "    return FormattedTB.structured_traceback(\n",
      "           ^^^^^^^^^^^^^^^^^^^^^^^^^^^^^^^^^\n",
      "  File \"/home/carlos/.cache/pypoetry/virtualenvs/dinero-lHM6Yuiu-py3.11/lib/python3.11/site-packages/IPython/core/ultratb.py\", line 1006, in structured_traceback\n",
      "    return VerboseTB.structured_traceback(\n",
      "           ^^^^^^^^^^^^^^^^^^^^^^^^^^^^^^^\n",
      "  File \"/home/carlos/.cache/pypoetry/virtualenvs/dinero-lHM6Yuiu-py3.11/lib/python3.11/site-packages/IPython/core/ultratb.py\", line 859, in structured_traceback\n",
      "    formatted_exception = self.format_exception_as_a_whole(etype, evalue, etb, number_of_lines_of_context,\n",
      "                          ^^^^^^^^^^^^^^^^^^^^^^^^^^^^^^^^^^^^^^^^^^^^^^^^^^^^^^^^^^^^^^^^^^^^^^^^^^^^^^^^\n",
      "  File \"/home/carlos/.cache/pypoetry/virtualenvs/dinero-lHM6Yuiu-py3.11/lib/python3.11/site-packages/IPython/core/ultratb.py\", line 812, in format_exception_as_a_whole\n",
      "    frames.append(self.format_record(r))\n",
      "                  ^^^^^^^^^^^^^^^^^^^^^\n",
      "  File \"/home/carlos/.cache/pypoetry/virtualenvs/dinero-lHM6Yuiu-py3.11/lib/python3.11/site-packages/IPython/core/ultratb.py\", line 730, in format_record\n",
      "    result += ''.join(_format_traceback_lines(frame_info.lines, Colors, self.has_colors, lvals))\n",
      "                                              ^^^^^^^^^^^^^^^^\n",
      "  File \"/home/carlos/.cache/pypoetry/virtualenvs/dinero-lHM6Yuiu-py3.11/lib/python3.11/site-packages/stack_data/utils.py\", line 145, in cached_property_wrapper\n",
      "    value = obj.__dict__[self.func.__name__] = self.func(obj)\n",
      "                                               ^^^^^^^^^^^^^^\n",
      "  File \"/home/carlos/.cache/pypoetry/virtualenvs/dinero-lHM6Yuiu-py3.11/lib/python3.11/site-packages/stack_data/core.py\", line 734, in lines\n",
      "    pieces = self.included_pieces\n",
      "             ^^^^^^^^^^^^^^^^^^^^\n",
      "  File \"/home/carlos/.cache/pypoetry/virtualenvs/dinero-lHM6Yuiu-py3.11/lib/python3.11/site-packages/stack_data/utils.py\", line 145, in cached_property_wrapper\n",
      "    value = obj.__dict__[self.func.__name__] = self.func(obj)\n",
      "                                               ^^^^^^^^^^^^^^\n",
      "  File \"/home/carlos/.cache/pypoetry/virtualenvs/dinero-lHM6Yuiu-py3.11/lib/python3.11/site-packages/stack_data/core.py\", line 681, in included_pieces\n",
      "    pos = scope_pieces.index(self.executing_piece)\n",
      "                             ^^^^^^^^^^^^^^^^^^^^\n",
      "  File \"/home/carlos/.cache/pypoetry/virtualenvs/dinero-lHM6Yuiu-py3.11/lib/python3.11/site-packages/stack_data/utils.py\", line 145, in cached_property_wrapper\n",
      "    value = obj.__dict__[self.func.__name__] = self.func(obj)\n",
      "                                               ^^^^^^^^^^^^^^\n",
      "  File \"/home/carlos/.cache/pypoetry/virtualenvs/dinero-lHM6Yuiu-py3.11/lib/python3.11/site-packages/stack_data/core.py\", line 660, in executing_piece\n",
      "    return only(\n",
      "           ^^^^^\n",
      "  File \"/home/carlos/.cache/pypoetry/virtualenvs/dinero-lHM6Yuiu-py3.11/lib/python3.11/site-packages/executing/executing.py\", line 168, in only\n",
      "    raise NotOneValueFound('Expected one value, found 0')\n",
      "executing.executing.NotOneValueFound: Expected one value, found 0\n"
     ]
    }
   ],
   "source": [
    "# different currencies will raise a DifferentCurrencyError\n",
    "from dinero import Dinero, DifferentCurrencyError\n",
    "from dinero.currencies import EUR, USD\n",
    "\n",
    "amount_1 = Dinero(\"333.3\", EUR)\n",
    "amount_2 = Dinero(333.3, USD)\n",
    "\n",
    "try:\n",
    "    amount_1.subtract(amount_2)\n",
    "    amount_1 - amount_2\n",
    "except DifferentCurrencyError:\n",
    "    print('Can not operate with different currencies')"
   ]
  },
  {
   "cell_type": "markdown",
   "metadata": {},
   "source": [
    "### Multiply"
   ]
  },
  {
   "cell_type": "code",
   "execution_count": 67,
   "metadata": {},
   "outputs": [
    {
     "name": "stdout",
     "output_type": "stream",
     "text": [
      "40.00\n"
     ]
    }
   ],
   "source": [
    "from dinero import Dinero\n",
    "from dinero.currencies import EUR\n",
    "\n",
    "amount = Dinero(\"20\", EUR)\n",
    "total = amount.multiply(2)\n",
    "print(total)"
   ]
  },
  {
   "cell_type": "code",
   "execution_count": 68,
   "metadata": {},
   "outputs": [
    {
     "name": "stdout",
     "output_type": "stream",
     "text": [
      "40.00\n"
     ]
    }
   ],
   "source": [
    "from dinero import Dinero\n",
    "from dinero.currencies import EUR\n",
    "\n",
    "amount_1 = Dinero(\"20.00\", EUR)\n",
    "amount_2 = Dinero(\"2.0\", EUR)\n",
    "total = amount_1.multiply(amount_2)\n",
    "print(total)"
   ]
  },
  {
   "cell_type": "code",
   "execution_count": 69,
   "metadata": {},
   "outputs": [
    {
     "name": "stdout",
     "output_type": "stream",
     "text": [
      "40.00\n"
     ]
    }
   ],
   "source": [
    "from dinero import Dinero\n",
    "from dinero.currencies import EUR, CLP\n",
    "\n",
    "amount_1 = Dinero(\"20.00\", EUR)\n",
    "amount_2 = Dinero(\"2.0\", EUR)\n",
    "total = amount_1 * amount_2\n",
    "print(total)"
   ]
  },
  {
   "cell_type": "code",
   "execution_count": 70,
   "metadata": {},
   "outputs": [
    {
     "name": "stdout",
     "output_type": "stream",
     "text": [
      "58.00\n"
     ]
    }
   ],
   "source": [
    "from dinero import Dinero\n",
    "from dinero.currencies import USD\n",
    "\n",
    "amount = Dinero(\"20.00\", USD)\n",
    "total = amount * 2.9\n",
    "print(total)"
   ]
  },
  {
   "cell_type": "code",
   "execution_count": 71,
   "metadata": {},
   "outputs": [
    {
     "name": "stdout",
     "output_type": "stream",
     "text": [
      "Unexpected exception formatting exception. Falling back to standard exception\n"
     ]
    },
    {
     "name": "stderr",
     "output_type": "stream",
     "text": [
      "Traceback (most recent call last):\n",
      "  File \"/home/carlos/.cache/pypoetry/virtualenvs/dinero-lHM6Yuiu-py3.11/lib/python3.11/site-packages/IPython/core/interactiveshell.py\", line 3378, in run_code\n",
      "    exec(code_obj, self.user_global_ns, self.user_ns)\n",
      "  File \"/tmp/ipykernel_29930/1057406511.py\", line 8, in <module>\n",
      "    amount_1.multiply(amount_2)\n",
      "  File \"/home/carlos/projects/dinero/dinero/_dinero.py\", line 59, in multiply\n",
      "    return self.__mul__(amount)\n",
      "           ^^^^^^^^^^^^^^^^^^^^\n",
      "  File \"/home/carlos/projects/dinero/dinero/_dinero.py\", line 119, in __mul__\n",
      "    multiplicand_obj = self._get_instance(multiplicand)\n",
      "                       ^^^^^^^^^^^^^^^^^^^^^^^^^^^^^^^^\n",
      "  File \"/home/carlos/projects/dinero/dinero/_dinero.py\", line 101, in _get_instance\n",
      "    raise DifferentCurrencyError(\"Currencies can not be different\")\n",
      "dinero._dinero.DifferentCurrencyError: Currencies can not be different\n",
      "\n",
      "During handling of the above exception, another exception occurred:\n",
      "\n",
      "Traceback (most recent call last):\n",
      "  File \"/home/carlos/.cache/pypoetry/virtualenvs/dinero-lHM6Yuiu-py3.11/lib/python3.11/site-packages/IPython/core/interactiveshell.py\", line 1997, in showtraceback\n",
      "    stb = self.InteractiveTB.structured_traceback(\n",
      "          ^^^^^^^^^^^^^^^^^^^^^^^^^^^^^^^^^^^^^^^^\n",
      "  File \"/home/carlos/.cache/pypoetry/virtualenvs/dinero-lHM6Yuiu-py3.11/lib/python3.11/site-packages/IPython/core/ultratb.py\", line 1112, in structured_traceback\n",
      "    return FormattedTB.structured_traceback(\n",
      "           ^^^^^^^^^^^^^^^^^^^^^^^^^^^^^^^^^\n",
      "  File \"/home/carlos/.cache/pypoetry/virtualenvs/dinero-lHM6Yuiu-py3.11/lib/python3.11/site-packages/IPython/core/ultratb.py\", line 1006, in structured_traceback\n",
      "    return VerboseTB.structured_traceback(\n",
      "           ^^^^^^^^^^^^^^^^^^^^^^^^^^^^^^^\n",
      "  File \"/home/carlos/.cache/pypoetry/virtualenvs/dinero-lHM6Yuiu-py3.11/lib/python3.11/site-packages/IPython/core/ultratb.py\", line 859, in structured_traceback\n",
      "    formatted_exception = self.format_exception_as_a_whole(etype, evalue, etb, number_of_lines_of_context,\n",
      "                          ^^^^^^^^^^^^^^^^^^^^^^^^^^^^^^^^^^^^^^^^^^^^^^^^^^^^^^^^^^^^^^^^^^^^^^^^^^^^^^^^\n",
      "  File \"/home/carlos/.cache/pypoetry/virtualenvs/dinero-lHM6Yuiu-py3.11/lib/python3.11/site-packages/IPython/core/ultratb.py\", line 812, in format_exception_as_a_whole\n",
      "    frames.append(self.format_record(r))\n",
      "                  ^^^^^^^^^^^^^^^^^^^^^\n",
      "  File \"/home/carlos/.cache/pypoetry/virtualenvs/dinero-lHM6Yuiu-py3.11/lib/python3.11/site-packages/IPython/core/ultratb.py\", line 730, in format_record\n",
      "    result += ''.join(_format_traceback_lines(frame_info.lines, Colors, self.has_colors, lvals))\n",
      "                                              ^^^^^^^^^^^^^^^^\n",
      "  File \"/home/carlos/.cache/pypoetry/virtualenvs/dinero-lHM6Yuiu-py3.11/lib/python3.11/site-packages/stack_data/utils.py\", line 145, in cached_property_wrapper\n",
      "    value = obj.__dict__[self.func.__name__] = self.func(obj)\n",
      "                                               ^^^^^^^^^^^^^^\n",
      "  File \"/home/carlos/.cache/pypoetry/virtualenvs/dinero-lHM6Yuiu-py3.11/lib/python3.11/site-packages/stack_data/core.py\", line 734, in lines\n",
      "    pieces = self.included_pieces\n",
      "             ^^^^^^^^^^^^^^^^^^^^\n",
      "  File \"/home/carlos/.cache/pypoetry/virtualenvs/dinero-lHM6Yuiu-py3.11/lib/python3.11/site-packages/stack_data/utils.py\", line 145, in cached_property_wrapper\n",
      "    value = obj.__dict__[self.func.__name__] = self.func(obj)\n",
      "                                               ^^^^^^^^^^^^^^\n",
      "  File \"/home/carlos/.cache/pypoetry/virtualenvs/dinero-lHM6Yuiu-py3.11/lib/python3.11/site-packages/stack_data/core.py\", line 681, in included_pieces\n",
      "    pos = scope_pieces.index(self.executing_piece)\n",
      "                             ^^^^^^^^^^^^^^^^^^^^\n",
      "  File \"/home/carlos/.cache/pypoetry/virtualenvs/dinero-lHM6Yuiu-py3.11/lib/python3.11/site-packages/stack_data/utils.py\", line 145, in cached_property_wrapper\n",
      "    value = obj.__dict__[self.func.__name__] = self.func(obj)\n",
      "                                               ^^^^^^^^^^^^^^\n",
      "  File \"/home/carlos/.cache/pypoetry/virtualenvs/dinero-lHM6Yuiu-py3.11/lib/python3.11/site-packages/stack_data/core.py\", line 660, in executing_piece\n",
      "    return only(\n",
      "           ^^^^^\n",
      "  File \"/home/carlos/.cache/pypoetry/virtualenvs/dinero-lHM6Yuiu-py3.11/lib/python3.11/site-packages/executing/executing.py\", line 168, in only\n",
      "    raise NotOneValueFound('Expected one value, found 0')\n",
      "executing.executing.NotOneValueFound: Expected one value, found 0\n"
     ]
    }
   ],
   "source": [
    "# different currencies will raise a DifferentCurrencyError\n",
    "from dinero import Dinero\n",
    "from dinero.currencies import EUR, USD\n",
    "\n",
    "amount_1 = Dinero(\"333.3\", EUR)\n",
    "amount_2 = Dinero(333.3, USD)\n",
    "\n",
    "amount_1.multiply(amount_2)\n",
    "amount_1 * amount_2"
   ]
  },
  {
   "cell_type": "markdown",
   "metadata": {},
   "source": [
    "### Divide"
   ]
  },
  {
   "cell_type": "code",
   "execution_count": 72,
   "metadata": {},
   "outputs": [
    {
     "name": "stdout",
     "output_type": "stream",
     "text": [
      "10.00\n"
     ]
    }
   ],
   "source": [
    "from dinero import Dinero\n",
    "from dinero.currencies import EUR\n",
    "\n",
    "amount = Dinero(\"20\", EUR)\n",
    "total = amount.divide(2)\n",
    "print(total)"
   ]
  },
  {
   "cell_type": "code",
   "execution_count": 73,
   "metadata": {},
   "outputs": [
    {
     "name": "stdout",
     "output_type": "stream",
     "text": [
      "10.00\n"
     ]
    }
   ],
   "source": [
    "from dinero import Dinero\n",
    "from dinero.currencies import EUR\n",
    "\n",
    "amount_1 = Dinero(\"20.00\", EUR)\n",
    "amount_2 = Dinero(\"2.0\", EUR)\n",
    "total = amount_1.divide(amount_2)\n",
    "print(total)"
   ]
  },
  {
   "cell_type": "code",
   "execution_count": 74,
   "metadata": {},
   "outputs": [
    {
     "name": "stdout",
     "output_type": "stream",
     "text": [
      "10.00\n"
     ]
    }
   ],
   "source": [
    "from dinero import Dinero\n",
    "from dinero.currencies import EUR\n",
    "\n",
    "amount_1 = Dinero(\"20.00\", EUR)\n",
    "amount_2 = Dinero(\"2.0\", EUR)\n",
    "total = amount_1 / amount_2\n",
    "print(total)"
   ]
  },
  {
   "cell_type": "code",
   "execution_count": 75,
   "metadata": {},
   "outputs": [
    {
     "name": "stdout",
     "output_type": "stream",
     "text": [
      "10.00\n"
     ]
    }
   ],
   "source": [
    "from dinero import Dinero\n",
    "from dinero.currencies import EUR\n",
    "\n",
    "amount = Dinero(\"20\", EUR)\n",
    "total = amount / 2\n",
    "print(total)"
   ]
  },
  {
   "cell_type": "code",
   "execution_count": 76,
   "metadata": {},
   "outputs": [
    {
     "name": "stdout",
     "output_type": "stream",
     "text": [
      "Unexpected exception formatting exception. Falling back to standard exception\n"
     ]
    },
    {
     "name": "stderr",
     "output_type": "stream",
     "text": [
      "Traceback (most recent call last):\n",
      "  File \"/home/carlos/.cache/pypoetry/virtualenvs/dinero-lHM6Yuiu-py3.11/lib/python3.11/site-packages/IPython/core/interactiveshell.py\", line 3378, in run_code\n",
      "    exec(code_obj, self.user_global_ns, self.user_ns)\n",
      "  File \"/tmp/ipykernel_29930/2664885857.py\", line 8, in <module>\n",
      "    amount_1.divide(amount_2)\n",
      "  File \"/home/carlos/projects/dinero/dinero/_dinero.py\", line 62, in divide\n",
      "    return self.__truediv__(amount)\n",
      "           ^^^^^^^^^^^^^^^^^^^^^^^^\n",
      "  File \"/home/carlos/projects/dinero/dinero/_dinero.py\", line 124, in __truediv__\n",
      "    divisor_obj = self._get_instance(divisor)\n",
      "                  ^^^^^^^^^^^^^^^^^^^^^^^^^^^\n",
      "  File \"/home/carlos/projects/dinero/dinero/_dinero.py\", line 101, in _get_instance\n",
      "    raise DifferentCurrencyError(\"Currencies can not be different\")\n",
      "dinero._dinero.DifferentCurrencyError: Currencies can not be different\n",
      "\n",
      "During handling of the above exception, another exception occurred:\n",
      "\n",
      "Traceback (most recent call last):\n",
      "  File \"/home/carlos/.cache/pypoetry/virtualenvs/dinero-lHM6Yuiu-py3.11/lib/python3.11/site-packages/IPython/core/interactiveshell.py\", line 1997, in showtraceback\n",
      "    stb = self.InteractiveTB.structured_traceback(\n",
      "          ^^^^^^^^^^^^^^^^^^^^^^^^^^^^^^^^^^^^^^^^\n",
      "  File \"/home/carlos/.cache/pypoetry/virtualenvs/dinero-lHM6Yuiu-py3.11/lib/python3.11/site-packages/IPython/core/ultratb.py\", line 1112, in structured_traceback\n",
      "    return FormattedTB.structured_traceback(\n",
      "           ^^^^^^^^^^^^^^^^^^^^^^^^^^^^^^^^^\n",
      "  File \"/home/carlos/.cache/pypoetry/virtualenvs/dinero-lHM6Yuiu-py3.11/lib/python3.11/site-packages/IPython/core/ultratb.py\", line 1006, in structured_traceback\n",
      "    return VerboseTB.structured_traceback(\n",
      "           ^^^^^^^^^^^^^^^^^^^^^^^^^^^^^^^\n",
      "  File \"/home/carlos/.cache/pypoetry/virtualenvs/dinero-lHM6Yuiu-py3.11/lib/python3.11/site-packages/IPython/core/ultratb.py\", line 859, in structured_traceback\n",
      "    formatted_exception = self.format_exception_as_a_whole(etype, evalue, etb, number_of_lines_of_context,\n",
      "                          ^^^^^^^^^^^^^^^^^^^^^^^^^^^^^^^^^^^^^^^^^^^^^^^^^^^^^^^^^^^^^^^^^^^^^^^^^^^^^^^^\n",
      "  File \"/home/carlos/.cache/pypoetry/virtualenvs/dinero-lHM6Yuiu-py3.11/lib/python3.11/site-packages/IPython/core/ultratb.py\", line 812, in format_exception_as_a_whole\n",
      "    frames.append(self.format_record(r))\n",
      "                  ^^^^^^^^^^^^^^^^^^^^^\n",
      "  File \"/home/carlos/.cache/pypoetry/virtualenvs/dinero-lHM6Yuiu-py3.11/lib/python3.11/site-packages/IPython/core/ultratb.py\", line 730, in format_record\n",
      "    result += ''.join(_format_traceback_lines(frame_info.lines, Colors, self.has_colors, lvals))\n",
      "                                              ^^^^^^^^^^^^^^^^\n",
      "  File \"/home/carlos/.cache/pypoetry/virtualenvs/dinero-lHM6Yuiu-py3.11/lib/python3.11/site-packages/stack_data/utils.py\", line 145, in cached_property_wrapper\n",
      "    value = obj.__dict__[self.func.__name__] = self.func(obj)\n",
      "                                               ^^^^^^^^^^^^^^\n",
      "  File \"/home/carlos/.cache/pypoetry/virtualenvs/dinero-lHM6Yuiu-py3.11/lib/python3.11/site-packages/stack_data/core.py\", line 734, in lines\n",
      "    pieces = self.included_pieces\n",
      "             ^^^^^^^^^^^^^^^^^^^^\n",
      "  File \"/home/carlos/.cache/pypoetry/virtualenvs/dinero-lHM6Yuiu-py3.11/lib/python3.11/site-packages/stack_data/utils.py\", line 145, in cached_property_wrapper\n",
      "    value = obj.__dict__[self.func.__name__] = self.func(obj)\n",
      "                                               ^^^^^^^^^^^^^^\n",
      "  File \"/home/carlos/.cache/pypoetry/virtualenvs/dinero-lHM6Yuiu-py3.11/lib/python3.11/site-packages/stack_data/core.py\", line 681, in included_pieces\n",
      "    pos = scope_pieces.index(self.executing_piece)\n",
      "                             ^^^^^^^^^^^^^^^^^^^^\n",
      "  File \"/home/carlos/.cache/pypoetry/virtualenvs/dinero-lHM6Yuiu-py3.11/lib/python3.11/site-packages/stack_data/utils.py\", line 145, in cached_property_wrapper\n",
      "    value = obj.__dict__[self.func.__name__] = self.func(obj)\n",
      "                                               ^^^^^^^^^^^^^^\n",
      "  File \"/home/carlos/.cache/pypoetry/virtualenvs/dinero-lHM6Yuiu-py3.11/lib/python3.11/site-packages/stack_data/core.py\", line 660, in executing_piece\n",
      "    return only(\n",
      "           ^^^^^\n",
      "  File \"/home/carlos/.cache/pypoetry/virtualenvs/dinero-lHM6Yuiu-py3.11/lib/python3.11/site-packages/executing/executing.py\", line 168, in only\n",
      "    raise NotOneValueFound('Expected one value, found 0')\n",
      "executing.executing.NotOneValueFound: Expected one value, found 0\n"
     ]
    }
   ],
   "source": [
    "# different currencies will raise a DifferentCurrencyError\n",
    "from dinero import Dinero\n",
    "from dinero.currencies import EUR, USD\n",
    "\n",
    "amount_1 = Dinero(\"20\", EUR)\n",
    "amount_2 = Dinero(2, USD)\n",
    "\n",
    "amount_1.divide(amount_2)\n",
    "amount_1 / amount_2"
   ]
  },
  {
   "cell_type": "markdown",
   "metadata": {},
   "source": [
    "### Operations"
   ]
  },
  {
   "cell_type": "code",
   "execution_count": 77,
   "metadata": {},
   "outputs": [
    {
     "name": "stdout",
     "output_type": "stream",
     "text": [
      "333.40\n",
      "333.20\n"
     ]
    }
   ],
   "source": [
    "from dinero import Dinero\n",
    "from dinero.currencies import EUR\n",
    "\n",
    "amount_1 = Dinero(\"333.2\", EUR)\n",
    "amount_2 = Dinero(333.3, EUR)\n",
    "amount_3 = Dinero(333.4, EUR)\n",
    "\n",
    "highest = max([amount_1, amount_2, amount_3])\n",
    "lowest = min([amount_1, amount_2, amount_3])\n",
    "\n",
    "print(highest)\n",
    "print(lowest)"
   ]
  },
  {
   "cell_type": "code",
   "execution_count": 78,
   "metadata": {},
   "outputs": [
    {
     "data": {
      "text/plain": [
       "True"
      ]
     },
     "execution_count": 78,
     "metadata": {},
     "output_type": "execute_result"
    }
   ],
   "source": [
    "from dinero import Dinero\n",
    "from dinero.currencies import EUR\n",
    "\n",
    "amount_1 = Dinero(\"333.2\", EUR)\n",
    "amount_2 = Dinero(333.3, EUR)\n",
    "\n",
    "# less than\n",
    "amount_1.less_than(amount_2)\n",
    "amount_1.less_than(333.3)\n",
    "amount_1 < amount_2\n",
    "amount_1 < 333.3\n",
    "\n",
    "# less than or equal\n",
    "amount_1.less_than_or_equal(amount_2)\n",
    "amount_1.less_than_or_equal(333.3)\n",
    "amount_1 <= amount_2\n",
    "amount_1 <= 333.3\n",
    "\n",
    "# greater than\n",
    "amount_1.greater_than(amount_2)\n",
    "amount_1.greater_than(333.3)\n",
    "amount_1 < amount_2\n",
    "amount_1 < 333.3\n",
    "\n",
    "# greater than or equal\n",
    "amount_1.greater_than_or_equal(amount_2)\n",
    "amount_1.greater_than_or_equal(333.3)\n",
    "amount_1 > amount_2\n",
    "amount_1 > 333.3\n",
    "\n",
    "# equals\n",
    "amount_3 = Dinero(333.2, EUR)\n",
    "amount_1.equals_to(amount_3)\n",
    "amount_1.equals_to(333.2)\n",
    "amount_1 == amount_3\n",
    "amount_1 == 333.2"
   ]
  },
  {
   "cell_type": "markdown",
   "metadata": {},
   "source": [
    "## to_dict"
   ]
  },
  {
   "cell_type": "code",
   "execution_count": 79,
   "metadata": {},
   "outputs": [
    {
     "data": {
      "text/plain": [
       "{'amount': '3333.259',\n",
       " 'currency': {'code': 'USD', 'base': 10, 'exponent': 2, 'symbol': '$'}}"
      ]
     },
     "execution_count": 79,
     "metadata": {},
     "output_type": "execute_result"
    }
   ],
   "source": [
    "from dinero import Dinero\n",
    "from dinero.currencies import USD\n",
    "\n",
    "amount = Dinero(\"3333.259\", USD)\n",
    "amount.to_dict(amount_with_format=False)"
   ]
  },
  {
   "cell_type": "markdown",
   "metadata": {},
   "source": [
    "## to_json"
   ]
  },
  {
   "cell_type": "code",
   "execution_count": 80,
   "metadata": {},
   "outputs": [
    {
     "data": {
      "text/plain": [
       "'{\"amount\": \"3333.2\", \"currency\": {\"code\": \"USD\", \"base\": 10, \"exponent\": 2, \"symbol\": \"$\"}}'"
      ]
     },
     "execution_count": 80,
     "metadata": {},
     "output_type": "execute_result"
    }
   ],
   "source": [
    "from dinero import Dinero\n",
    "from dinero.currencies import USD\n",
    "\n",
    "amount = Dinero(\"3333.2\", USD)\n",
    "amount.to_json(amount_with_format=False)"
   ]
  }
 ],
 "metadata": {
  "kernelspec": {
   "display_name": "Python 3.10.8 ('dinero-lHM6Yuiu-py3.10')",
   "language": "python",
   "name": "python3"
  },
  "language_info": {
   "codemirror_mode": {
    "name": "ipython",
    "version": 3
   },
   "file_extension": ".py",
   "mimetype": "text/x-python",
   "name": "python",
   "nbconvert_exporter": "python",
   "pygments_lexer": "ipython3",
   "version": "3.10.8"
  },
  "orig_nbformat": 4,
  "vscode": {
   "interpreter": {
    "hash": "e55e401381f70a25cfb5c95c2d0c2d8c42db6329f6d2e769fa34d04b49ee26d1"
   }
  }
 },
 "nbformat": 4,
 "nbformat_minor": 2
}
