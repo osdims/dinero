{
    "cells": [
        {
            "cell_type": "code",
            "execution_count": 33,
            "metadata": {},
            "outputs": [
                {
                    "name": "stdout",
                    "output_type": "stream",
                    "text": [
                        "$234,342.30 USD\n"
                    ]
                }
            ],
            "source": [
                "from dinero import Dinero\n",
                "from dinero.currencies import CLP, USD\n",
                "\n",
                "amount = Dinero(234342.3010, USD)\n",
                "amount.raw_amount\n",
                "amount.symbol\n",
                "amount.code\n",
                "\n",
                "formatted = amount.format(symbol=True, currency=True)\n",
                "print(formatted)"
            ]
        },
        {
            "cell_type": "code",
            "execution_count": 34,
            "metadata": {},
            "outputs": [
                {
                    "name": "stdout",
                    "output_type": "stream",
                    "text": [
                        "Accounts balanced\n"
                    ]
                }
            ],
            "source": [
                "from dinero import Dinero\n",
                "from dinero.currencies import CLP, USD\n",
                "\n",
                "unit_price = Dinero(2.32, USD)\n",
                "number_sold = 3\n",
                "money_received = Dinero(6.96, USD)\n",
                "if unit_price * number_sold == money_received:\n",
                "    print('Accounts balanced')\n",
                "else:\n",
                "    raise ValueError('Accounts not balanced')"
            ]
        },
        {
            "cell_type": "code",
            "execution_count": 35,
            "metadata": {},
            "outputs": [
                {
                    "name": "stdout",
                    "output_type": "stream",
                    "text": [
                        "456.57\n"
                    ]
                }
            ],
            "source": [
                "total = Dinero(456.343567, USD) + 345.32 / 4534.4 *  3\n",
                "print(total)"
            ]
        },
        {
            "attachments": {},
            "cell_type": "markdown",
            "metadata": {},
            "source": [
                "## Mutations"
            ]
        },
        {
            "attachments": {},
            "cell_type": "markdown",
            "metadata": {},
            "source": [
                "### Add"
            ]
        },
        {
            "cell_type": "code",
            "execution_count": 36,
            "metadata": {},
            "outputs": [
                {
                    "name": "stdout",
                    "output_type": "stream",
                    "text": [
                        "666.60\n"
                    ]
                }
            ],
            "source": [
                "from dinero import Dinero\n",
                "from dinero.currencies import EUR\n",
                "\n",
                "amount = Dinero(\"333.3\", EUR)\n",
                "total = amount.add(333.3)\n",
                "print(total)"
            ]
        },
        {
            "cell_type": "code",
            "execution_count": 37,
            "metadata": {},
            "outputs": [
                {
                    "name": "stdout",
                    "output_type": "stream",
                    "text": [
                        "666.60\n"
                    ]
                }
            ],
            "source": [
                "from dinero import Dinero\n",
                "from dinero.currencies import EUR\n",
                "\n",
                "amount_1 = Dinero(\"333.3\", EUR)\n",
                "amount_2 = Dinero(333.3, EUR)\n",
                "\n",
                "total = amount_1.add(amount_2)\n",
                "print(total)"
            ]
        },
        {
            "cell_type": "code",
            "execution_count": 38,
            "metadata": {},
            "outputs": [
                {
                    "name": "stdout",
                    "output_type": "stream",
                    "text": [
                        "666.60\n"
                    ]
                }
            ],
            "source": [
                "from dinero import Dinero\n",
                "from dinero.currencies import EUR, USD\n",
                "\n",
                "amount_1 = Dinero(\"333.3\", USD)\n",
                "amount_2 = Dinero(333.3, USD)\n",
                "\n",
                "total = amount_1 + amount_2\n",
                "print(total)"
            ]
        },
        {
            "cell_type": "code",
            "execution_count": 39,
            "metadata": {},
            "outputs": [
                {
                    "name": "stdout",
                    "output_type": "stream",
                    "text": [
                        "999.90\n"
                    ]
                }
            ],
            "source": [
                "from dinero import Dinero\n",
                "from dinero.currencies import EUR, USD\n",
                "\n",
                "amount_1 = Dinero(\"333.3\", EUR)\n",
                "amount_2 = Dinero(333.3, EUR)\n",
                "amount_3 = Dinero(333.3, EUR)\n",
                "\n",
                "total = sum([amount_1, amount_2, amount_3])\n",
                "print(total)"
            ]
        },
        {
            "cell_type": "code",
            "execution_count": 40,
            "metadata": {},
            "outputs": [
                {
                    "name": "stdout",
                    "output_type": "stream",
                    "text": [
                        "Can not operate with different currencies\n"
                    ]
                }
            ],
            "source": [
                "# different currencies will raise a DifferentCurrencyError\n",
                "from dinero import Dinero\n",
                "from dinero.currencies import EUR, USD\n",
                "from dinero.exceptions import DifferentCurrencyError\n",
                "\n",
                "amount_1 = Dinero(\"333.3\", EUR)\n",
                "amount_2 = Dinero(333.3, USD)\n",
                "\n",
                "try:\n",
                "    amount_1.add(amount_2)\n",
                "    print(amount_1 + amount_2)\n",
                "    sum([amount_1, amount_2])\n",
                "except DifferentCurrencyError:\n",
                "    print('Can not operate with different currencies')"
            ]
        },
        {
            "attachments": {},
            "cell_type": "markdown",
            "metadata": {},
            "source": [
                "### Subtract"
            ]
        },
        {
            "cell_type": "code",
            "execution_count": 41,
            "metadata": {},
            "outputs": [
                {
                    "name": "stdout",
                    "output_type": "stream",
                    "text": [
                        "10.00\n"
                    ]
                }
            ],
            "source": [
                "from dinero import Dinero\n",
                "from dinero.currencies import EUR\n",
                "\n",
                "amount = Dinero(\"20.20\", EUR)\n",
                "total = amount.subtract('10.20')\n",
                "print(total)"
            ]
        },
        {
            "cell_type": "code",
            "execution_count": 42,
            "metadata": {},
            "outputs": [
                {
                    "name": "stdout",
                    "output_type": "stream",
                    "text": [
                        "10.00\n"
                    ]
                }
            ],
            "source": [
                "from dinero import Dinero\n",
                "from dinero.currencies import EUR\n",
                "\n",
                "amount_1 = Dinero(\"20.20\", EUR)\n",
                "amount_2 = Dinero(\"10.20\", EUR)\n",
                "total = amount_1.subtract(amount_2)\n",
                "print(total)"
            ]
        },
        {
            "cell_type": "code",
            "execution_count": 43,
            "metadata": {},
            "outputs": [
                {
                    "name": "stdout",
                    "output_type": "stream",
                    "text": [
                        "10.00\n"
                    ]
                }
            ],
            "source": [
                "from dinero import Dinero\n",
                "from dinero.currencies import EUR, USD\n",
                "\n",
                "amount_1 = Dinero(\"20.20\", EUR)\n",
                "amount_2 = Dinero(\"10.20\", EUR)\n",
                "total = amount_1 - amount_2\n",
                "print(total)"
            ]
        },
        {
            "cell_type": "code",
            "execution_count": 44,
            "metadata": {},
            "outputs": [
                {
                    "name": "stdout",
                    "output_type": "stream",
                    "text": [
                        "Can not operate with different currencies\n"
                    ]
                }
            ],
            "source": [
                "# different currencies will raise a DifferentCurrencyError\n",
                "from dinero import Dinero\n",
                "from dinero.currencies import EUR, USD\n",
                "from dinero.exceptions import DifferentCurrencyError\n",
                "\n",
                "amount_1 = Dinero(\"333.3\", EUR)\n",
                "amount_2 = Dinero(333.3, USD)\n",
                "\n",
                "try:\n",
                "    amount_1.subtract(amount_2)\n",
                "    print(amount_1 - amount_2)\n",
                "except DifferentCurrencyError:\n",
                "    print('Can not operate with different currencies')"
            ]
        },
        {
            "attachments": {},
            "cell_type": "markdown",
            "metadata": {},
            "source": [
                "### Multiply"
            ]
        },
        {
            "cell_type": "code",
            "execution_count": 45,
            "metadata": {},
            "outputs": [
                {
                    "name": "stdout",
                    "output_type": "stream",
                    "text": [
                        "40.00\n"
                    ]
                }
            ],
            "source": [
                "from dinero import Dinero\n",
                "from dinero.currencies import EUR\n",
                "\n",
                "amount = Dinero(\"20\", EUR)\n",
                "total = amount.multiply(2)\n",
                "print(total)"
            ]
        },
        {
            "cell_type": "code",
            "execution_count": 46,
            "metadata": {},
            "outputs": [
                {
                    "name": "stdout",
                    "output_type": "stream",
                    "text": [
                        "40.00\n"
                    ]
                }
            ],
            "source": [
                "from dinero import Dinero\n",
                "from dinero.currencies import EUR\n",
                "\n",
                "amount = Dinero(\"20.00\", EUR)\n",
                "total = amount.multiply(2)\n",
                "print(total)"
            ]
        },
        {
            "cell_type": "code",
            "execution_count": 47,
            "metadata": {},
            "outputs": [
                {
                    "name": "stdout",
                    "output_type": "stream",
                    "text": [
                        "40.00\n"
                    ]
                }
            ],
            "source": [
                "from dinero import Dinero\n",
                "from dinero.currencies import EUR, CLP\n",
                "\n",
                "amount = Dinero(\"20.00\", EUR)\n",
                "total = amount * 2\n",
                "print(total)"
            ]
        },
        {
            "cell_type": "code",
            "execution_count": 48,
            "metadata": {},
            "outputs": [
                {
                    "name": "stdout",
                    "output_type": "stream",
                    "text": [
                        "58.00\n"
                    ]
                }
            ],
            "source": [
                "from dinero import Dinero\n",
                "from dinero.currencies import USD\n",
                "\n",
                "amount = Dinero(\"20.00\", USD)\n",
                "total = amount * 2.9\n",
                "print(total)"
            ]
        },
        {
            "cell_type": "code",
            "execution_count": 49,
            "metadata": {},
            "outputs": [
                {
                    "name": "stdout",
                    "output_type": "stream",
                    "text": [
                        "999.90\n"
                    ]
                }
            ],
            "source": [
                "# different currencies will raise a DifferentCurrencyError\n",
                "from dinero import Dinero\n",
                "from dinero.currencies import EUR, USD\n",
                "from dinero.exceptions import DifferentCurrencyError\n",
                "\n",
                "amount = Dinero(\"333.3\", EUR)\n",
                "\n",
                "try:\n",
                "    amount.multiply(3)\n",
                "    print(amount * 3)\n",
                "except DifferentCurrencyError:\n",
                "    print('Can not operate with different currencies')"
            ]
        },
        {
            "attachments": {},
            "cell_type": "markdown",
            "metadata": {},
            "source": [
                "### Divide"
            ]
        },
        {
            "cell_type": "code",
            "execution_count": 50,
            "metadata": {},
            "outputs": [
                {
                    "name": "stdout",
                    "output_type": "stream",
                    "text": [
                        "10.00\n"
                    ]
                }
            ],
            "source": [
                "from dinero import Dinero\n",
                "from dinero.currencies import EUR\n",
                "\n",
                "amount = Dinero(\"20\", EUR)\n",
                "total = amount.divide(2)\n",
                "print(total)"
            ]
        },
        {
            "cell_type": "code",
            "execution_count": 51,
            "metadata": {},
            "outputs": [
                {
                    "name": "stdout",
                    "output_type": "stream",
                    "text": [
                        "10.00\n"
                    ]
                }
            ],
            "source": [
                "from dinero import Dinero\n",
                "from dinero.currencies import EUR\n",
                "\n",
                "amount = Dinero(\"20.00\", EUR)\n",
                "total = amount.divide(2)\n",
                "print(total)"
            ]
        },
        {
            "cell_type": "code",
            "execution_count": 52,
            "metadata": {},
            "outputs": [
                {
                    "name": "stdout",
                    "output_type": "stream",
                    "text": [
                        "10.00\n"
                    ]
                }
            ],
            "source": [
                "from dinero import Dinero\n",
                "from dinero.currencies import EUR\n",
                "\n",
                "amount = Dinero(\"20.00\", EUR)\n",
                "total = amount / 2\n",
                "print(total)"
            ]
        },
        {
            "cell_type": "code",
            "execution_count": 53,
            "metadata": {},
            "outputs": [
                {
                    "name": "stdout",
                    "output_type": "stream",
                    "text": [
                        "10.00\n"
                    ]
                }
            ],
            "source": [
                "from dinero import Dinero\n",
                "from dinero.currencies import EUR\n",
                "\n",
                "amount = Dinero(\"20\", EUR)\n",
                "total = amount / 2\n",
                "print(total)"
            ]
        },
        {
            "cell_type": "code",
            "execution_count": 54,
            "metadata": {},
            "outputs": [
                {
                    "name": "stdout",
                    "output_type": "stream",
                    "text": [
                        "10.00\n"
                    ]
                }
            ],
            "source": [
                "# different currencies will raise a DifferentCurrencyError\n",
                "from dinero import Dinero\n",
                "from dinero.currencies import EUR, USD\n",
                "from dinero.exceptions import DifferentCurrencyError\n",
                "\n",
                "amount_1 = Dinero(\"20\", EUR)\n",
                "\n",
                "try:\n",
                "    amount_1.divide(2)\n",
                "    print(amount_1 / 2)\n",
                "except DifferentCurrencyError:\n",
                "    print(\"Can not operate with different currencies\")"
            ]
        },
        {
            "attachments": {},
            "cell_type": "markdown",
            "metadata": {},
            "source": [
                "## Comparison\n"
            ]
        },
        {
            "cell_type": "code",
            "execution_count": 55,
            "metadata": {},
            "outputs": [
                {
                    "name": "stdout",
                    "output_type": "stream",
                    "text": [
                        "333.40\n",
                        "333.20\n"
                    ]
                }
            ],
            "source": [
                "from dinero import Dinero\n",
                "from dinero.currencies import EUR\n",
                "\n",
                "amount_1 = Dinero(\"333.2\", EUR)\n",
                "amount_2 = Dinero(333.3, EUR)\n",
                "amount_3 = Dinero(333.4, EUR)\n",
                "\n",
                "highest = max([amount_1, amount_2, amount_3])\n",
                "lowest = min([amount_1, amount_2, amount_3])\n",
                "\n",
                "print(highest)\n",
                "print(lowest)"
            ]
        },
        {
            "cell_type": "code",
            "execution_count": 56,
            "metadata": {},
            "outputs": [
                {
                    "name": "stdout",
                    "output_type": "stream",
                    "text": [
                        "True\n",
                        "True\n",
                        "True\n",
                        "False\n"
                    ]
                },
                {
                    "data": {
                        "text/plain": [
                            "True"
                        ]
                    },
                    "execution_count": 56,
                    "metadata": {},
                    "output_type": "execute_result"
                }
            ],
            "source": [
                "from dinero import Dinero\n",
                "from dinero.currencies import EUR\n",
                "\n",
                "amount_1 = Dinero(\"333.2\", EUR)\n",
                "amount_2 = Dinero(333.3, EUR)\n",
                "\n",
                "# less than\n",
                "amount_1.less_than(amount_2)\n",
                "print(amount_1 < amount_2)\n",
                "\n",
                "# less than or equal\n",
                "amount_1.less_than_or_equal(amount_2)\n",
                "print(amount_1 <= amount_2)\n",
                "\n",
                "# greater than\n",
                "amount_1.greater_than(amount_2)\n",
                "print(amount_1 < amount_2)\n",
                "\n",
                "# greater than or equal\n",
                "amount_1.greater_than_or_equal(amount_2)\n",
                "print(amount_1 > amount_2)\n",
                "\n",
                "# equals\n",
                "amount_3 = Dinero(333.2, EUR)\n",
                "amount_1.equals_to(amount_3)\n",
                "amount_1 == amount_3"
            ]
        },
        {
            "attachments": {},
            "cell_type": "markdown",
            "metadata": {},
            "source": [
                "## to_dict"
            ]
        },
        {
            "cell_type": "code",
            "execution_count": 57,
            "metadata": {},
            "outputs": [
                {
                    "data": {
                        "text/plain": [
                            "{'amount': '3333.26',\n",
                            " 'currency': {'code': 'USD', 'base': 10, 'exponent': 2, 'symbol': '$'}}"
                        ]
                    },
                    "execution_count": 57,
                    "metadata": {},
                    "output_type": "execute_result"
                }
            ],
            "source": [
                "from dinero import Dinero\n",
                "from dinero.currencies import USD\n",
                "\n",
                "amount = Dinero(\"3333.259\", USD)\n",
                "amount.to_dict(amount_with_format=False)"
            ]
        },
        {
            "cell_type": "code",
            "execution_count": 58,
            "metadata": {},
            "outputs": [
                {
                    "data": {
                        "text/plain": [
                            "{'amount': '3,333.26',\n",
                            " 'currency': {'code': 'USD', 'base': 10, 'exponent': 2, 'symbol': '$'}}"
                        ]
                    },
                    "execution_count": 58,
                    "metadata": {},
                    "output_type": "execute_result"
                }
            ],
            "source": [
                "from dinero import Dinero\n",
                "from dinero.currencies import USD\n",
                "\n",
                "amount = Dinero(\"3333.259\", USD)\n",
                "amount.to_dict(amount_with_format=True)"
            ]
        },
        {
            "attachments": {},
            "cell_type": "markdown",
            "metadata": {},
            "source": [
                "## to_json"
            ]
        },
        {
            "cell_type": "code",
            "execution_count": 59,
            "metadata": {},
            "outputs": [
                {
                    "data": {
                        "text/plain": [
                            "'{\"amount\": \"3333.20\", \"currency\": {\"code\": \"USD\", \"base\": 10, \"exponent\": 2, \"symbol\": \"$\"}}'"
                        ]
                    },
                    "execution_count": 59,
                    "metadata": {},
                    "output_type": "execute_result"
                }
            ],
            "source": [
                "from dinero import Dinero\n",
                "from dinero.currencies import USD\n",
                "\n",
                "amount = Dinero(\"3333.2\", USD)\n",
                "amount.to_json(amount_with_format=False)"
            ]
        },
        {
            "cell_type": "code",
            "execution_count": 60,
            "metadata": {},
            "outputs": [
                {
                    "data": {
                        "text/plain": [
                            "'{\"amount\": \"3,333.20\", \"currency\": {\"code\": \"USD\", \"base\": 10, \"exponent\": 2, \"symbol\": \"$\"}}'"
                        ]
                    },
                    "execution_count": 60,
                    "metadata": {},
                    "output_type": "execute_result"
                }
            ],
            "source": [
                "from dinero import Dinero\n",
                "from dinero.currencies import USD\n",
                "\n",
                "amount = Dinero(\"3333.2\", USD)\n",
                "amount.to_json(amount_with_format=True)"
            ]
        },
        {
            "attachments": {},
            "cell_type": "markdown",
            "metadata": {},
            "source": [
                "## TOOLS"
            ]
        },
        {
            "attachments": {},
            "cell_type": "markdown",
            "metadata": {},
            "source": [
                "### calculate_vat"
            ]
        },
        {
            "cell_type": "code",
            "execution_count": 61,
            "metadata": {},
            "outputs": [
                {
                    "data": {
                        "text/plain": [
                            "'$80 CLP'"
                        ]
                    },
                    "execution_count": 61,
                    "metadata": {},
                    "output_type": "execute_result"
                }
            ],
            "source": [
                "from dinero import Dinero\n",
                "from dinero.currencies import CLP\n",
                "from dinero.tools import calculate_vat\n",
                "\n",
                "amount = Dinero(\"500\", CLP)\n",
                "vat_amount = calculate_vat(\n",
                "    amount=amount,\n",
                "    vat_rate=19,\n",
                ")\n",
                "vat_amount.format(symbol=True, currency=True)"
            ]
        },
        {
            "attachments": {},
            "cell_type": "markdown",
            "metadata": {},
            "source": [
                "### calculate_percentage"
            ]
        },
        {
            "cell_type": "code",
            "execution_count": 62,
            "metadata": {},
            "outputs": [
                {
                    "data": {
                        "text/plain": [
                            "'$450.00 USD'"
                        ]
                    },
                    "execution_count": 62,
                    "metadata": {},
                    "output_type": "execute_result"
                }
            ],
            "source": [
                "from dinero import Dinero\n",
                "from dinero.currencies import USD\n",
                "from dinero.tools import calculate_percentage\n",
                "\n",
                "amount = Dinero(\"3000\", USD)\n",
                "vat_amount = calculate_percentage(\n",
                "    amount=amount,\n",
                "    percentage=15,\n",
                ")\n",
                "vat_amount.format(symbol=True, currency=True)"
            ]
        },
        {
            "attachments": {},
            "cell_type": "markdown",
            "metadata": {},
            "source": [
                "### calculate_simple_interest"
            ]
        },
        {
            "cell_type": "code",
            "execution_count": 63,
            "metadata": {},
            "outputs": [
                {
                    "data": {
                        "text/plain": [
                            "'$100.00 USD'"
                        ]
                    },
                    "execution_count": 63,
                    "metadata": {},
                    "output_type": "execute_result"
                }
            ],
            "source": [
                "from dinero import Dinero\n",
                "from dinero.currencies import USD\n",
                "from dinero.tools import calculate_simple_interest\n",
                "\n",
                "amount = Dinero(1000, USD)\n",
                "interest_amount = calculate_simple_interest(\n",
                "    principal=amount,\n",
                "    interest_rate=5,\n",
                "    duration=2,\n",
                ")\n",
                "interest_amount.format(symbol=True, currency=True)"
            ]
        },
        {
            "attachments": {},
            "cell_type": "markdown",
            "metadata": {},
            "source": [
                "### calculate_compound_interest"
            ]
        },
        {
            "cell_type": "code",
            "execution_count": 64,
            "metadata": {},
            "outputs": [
                {
                    "data": {
                        "text/plain": [
                            "'$1,294.02 USD'"
                        ]
                    },
                    "execution_count": 64,
                    "metadata": {},
                    "output_type": "execute_result"
                }
            ],
            "source": [
                "from dinero import Dinero\n",
                "from dinero.currencies import USD\n",
                "from dinero.tools import calculate_compound_interest\n",
                "\n",
                "principal = Dinero(\"2000\", USD)\n",
                "total_interest = calculate_compound_interest(\n",
                "    principal=principal,\n",
                "    interest_rate=5, # 5% interest rate\n",
                "    duration=10, # 10 year loan duration\n",
                "    compound_frequency=12, # interest compounded monthly\n",
                ")\n",
                "total_interest.format(symbol=True, currency=True)"
            ]
        }
    ],
    "metadata": {
        "kernelspec": {
            "display_name": "dinero-mQwBjJd4-py3.11",
            "language": "python",
            "name": "python3"
        },
        "language_info": {
            "codemirror_mode": {
                "name": "ipython",
                "version": 3
            },
            "file_extension": ".py",
            "mimetype": "text/x-python",
            "name": "python",
            "nbconvert_exporter": "python",
            "pygments_lexer": "ipython3",
            "version": "3.11.3"
        },
        "orig_nbformat": 4,
        "vscode": {
            "interpreter": {
                "hash": "d218d306db2bd4a742a7498d32c72f9c7596bcdf2ee6ea9f678770a124766822"
            }
        }
    },
    "nbformat": 4,
    "nbformat_minor": 2
}
