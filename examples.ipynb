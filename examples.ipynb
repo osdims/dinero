{
 "cells": [
  {
   "cell_type": "code",
   "execution_count": 1,
   "metadata": {},
   "outputs": [
    {
     "name": "stdout",
     "output_type": "stream",
     "text": [
      "10,000.34\n",
      "10000.34\n",
      "10,000\n",
      "10000.34\n"
     ]
    }
   ],
   "source": [
    "from dinero import Dinero\n",
    "from dinero.currencies import CLP, USD\n",
    "\n",
    "amount = Dinero(10000.34, USD)\n",
    "print(amount.formatted_amount)\n",
    "print(amount.raw_amount)\n",
    "\n",
    "amount = Dinero(10000.34, CLP)\n",
    "print(amount.formatted_amount)\n",
    "print(amount.raw_amount)"
   ]
  }
 ],
 "metadata": {
  "kernelspec": {
   "display_name": "Python 3.10.8 ('dinero-lHM6Yuiu-py3.10')",
   "language": "python",
   "name": "python3"
  },
  "language_info": {
   "codemirror_mode": {
    "name": "ipython",
    "version": 3
   },
   "file_extension": ".py",
   "mimetype": "text/x-python",
   "name": "python",
   "nbconvert_exporter": "python",
   "pygments_lexer": "ipython3",
   "version": "3.10.8"
  },
  "orig_nbformat": 4,
  "vscode": {
   "interpreter": {
    "hash": "e55e401381f70a25cfb5c95c2d0c2d8c42db6329f6d2e769fa34d04b49ee26d1"
   }
  }
 },
 "nbformat": 4,
 "nbformat_minor": 2
}
