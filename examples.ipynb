{
    "cells": [
        {
            "cell_type": "code",
            "execution_count": 3,
            "metadata": {},
            "outputs": [
                {
                    "name": "stdout",
                    "output_type": "stream",
                    "text": [
                        "$234,342.30 USD\n"
                    ]
                }
            ],
            "source": [
                "from dinero import Dinero\n",
                "from dinero.currencies import CLP, USD\n",
                "\n",
                "amount = Dinero(234342.3010, USD)\n",
                "amount.raw_amount\n",
                "amount.symbol\n",
                "amount.code\n",
                "\n",
                "formatted = amount.format(symbol=True, currency=True)\n",
                "print(formatted)"
            ]
        },
        {
            "cell_type": "code",
            "execution_count": 1,
            "metadata": {},
            "outputs": [
                {
                    "name": "stdout",
                    "output_type": "stream",
                    "text": [
                        "6.96\n",
                        "Accounts balanced\n"
                    ]
                }
            ],
            "source": [
                "from dinero import Dinero\n",
                "from dinero.currencies import CLP, USD\n",
                "\n",
                "unit_price = Dinero(2.32, USD)\n",
                "print(unit_price * 3)\n",
                "number_sold = 3\n",
                "money_received = 6.96\n",
                "if unit_price * number_sold == money_received:\n",
                "    print('Accounts balanced')\n",
                "else:\n",
                "    raise ValueError('Accounts not balanced')"
            ]
        },
        {
            "cell_type": "code",
            "execution_count": 2,
            "metadata": {},
            "outputs": [
                {
                    "name": "stdout",
                    "output_type": "stream",
                    "text": [
                        "456.57\n"
                    ]
                }
            ],
            "source": [
                "total = Dinero(456.343567, USD) + 345.32 / 4534.4 *  3\n",
                "print(total)"
            ]
        },
        {
            "cell_type": "markdown",
            "metadata": {},
            "source": [
                "## Mutations"
            ]
        },
        {
            "cell_type": "markdown",
            "metadata": {},
            "source": [
                "### Add"
            ]
        },
        {
            "cell_type": "code",
            "execution_count": null,
            "metadata": {},
            "outputs": [
                {
                    "name": "stdout",
                    "output_type": "stream",
                    "text": [
                        "666.60\n"
                    ]
                }
            ],
            "source": [
                "from dinero import Dinero\n",
                "from dinero.currencies import EUR\n",
                "\n",
                "amount = Dinero(\"333.3\", EUR)\n",
                "total = amount.add(333.3)\n",
                "print(total)"
            ]
        },
        {
            "cell_type": "code",
            "execution_count": null,
            "metadata": {},
            "outputs": [
                {
                    "name": "stdout",
                    "output_type": "stream",
                    "text": [
                        "666.60\n"
                    ]
                }
            ],
            "source": [
                "from dinero import Dinero\n",
                "from dinero.currencies import EUR\n",
                "\n",
                "amount_1 = Dinero(\"333.3\", EUR)\n",
                "amount_2 = Dinero(333.3, EUR)\n",
                "\n",
                "total = amount_1.add(amount_2)\n",
                "print(total)"
            ]
        },
        {
            "cell_type": "code",
            "execution_count": null,
            "metadata": {},
            "outputs": [
                {
                    "name": "stdout",
                    "output_type": "stream",
                    "text": [
                        "666.60\n"
                    ]
                }
            ],
            "source": [
                "from dinero import Dinero\n",
                "from dinero.currencies import EUR, USD\n",
                "\n",
                "amount_1 = Dinero(\"333.3\", USD)\n",
                "amount_2 = Dinero(333.3, USD)\n",
                "\n",
                "total = amount_1 + amount_2\n",
                "print(total)"
            ]
        },
        {
            "cell_type": "code",
            "execution_count": null,
            "metadata": {},
            "outputs": [
                {
                    "name": "stdout",
                    "output_type": "stream",
                    "text": [
                        "999.90\n"
                    ]
                }
            ],
            "source": [
                "from dinero import Dinero\n",
                "from dinero.currencies import EUR, USD\n",
                "\n",
                "amount_1 = Dinero(\"333.3\", EUR)\n",
                "amount_2 = Dinero(333.3, EUR)\n",
                "amount_3 = Dinero(333.3, EUR)\n",
                "\n",
                "total = sum([amount_1, amount_2, amount_3])\n",
                "print(total)"
            ]
        },
        {
            "cell_type": "code",
            "execution_count": null,
            "metadata": {},
            "outputs": [
                {
                    "name": "stdout",
                    "output_type": "stream",
                    "text": [
                        "Can not operate with different currencies\n"
                    ]
                }
            ],
            "source": [
                "# different currencies will raise a DifferentCurrencyError\n",
                "from dinero import Dinero\n",
                "from dinero.currencies import EUR, USD\n",
                "from dinero.exceptions import DifferentCurrencyError\n",
                "\n",
                "amount_1 = Dinero(\"333.3\", EUR)\n",
                "amount_2 = Dinero(333.3, USD)\n",
                "\n",
                "try:\n",
                "    amount_1.add(amount_2)\n",
                "    amount_1 + amount_2\n",
                "    sum([amount_1, amount_2])\n",
                "except DifferentCurrencyError:\n",
                "    print('Can not operate with different currencies')"
            ]
        },
        {
            "cell_type": "markdown",
            "metadata": {},
            "source": [
                "### Subtract"
            ]
        },
        {
            "cell_type": "code",
            "execution_count": null,
            "metadata": {},
            "outputs": [
                {
                    "name": "stdout",
                    "output_type": "stream",
                    "text": [
                        "10.00\n"
                    ]
                }
            ],
            "source": [
                "from dinero import Dinero\n",
                "from dinero.currencies import EUR\n",
                "\n",
                "amount = Dinero(\"20.20\", EUR)\n",
                "total = amount.subtract('10.20')\n",
                "print(total)"
            ]
        },
        {
            "cell_type": "code",
            "execution_count": null,
            "metadata": {},
            "outputs": [
                {
                    "name": "stdout",
                    "output_type": "stream",
                    "text": [
                        "10.00\n"
                    ]
                }
            ],
            "source": [
                "from dinero import Dinero\n",
                "from dinero.currencies import EUR\n",
                "\n",
                "amount_1 = Dinero(\"20.20\", EUR)\n",
                "amount_2 = Dinero(\"10.20\", EUR)\n",
                "total = amount_1.subtract(amount_2)\n",
                "print(total)"
            ]
        },
        {
            "cell_type": "code",
            "execution_count": null,
            "metadata": {},
            "outputs": [
                {
                    "name": "stdout",
                    "output_type": "stream",
                    "text": [
                        "10.00\n"
                    ]
                }
            ],
            "source": [
                "from dinero import Dinero\n",
                "from dinero.currencies import EUR, USD\n",
                "\n",
                "amount_1 = Dinero(\"20.20\", EUR)\n",
                "amount_2 = Dinero(\"10.20\", EUR)\n",
                "total = amount_1 - amount_2\n",
                "print(total)"
            ]
        },
        {
            "cell_type": "code",
            "execution_count": null,
            "metadata": {},
            "outputs": [
                {
                    "name": "stdout",
                    "output_type": "stream",
                    "text": [
                        "Can not operate with different currencies\n"
                    ]
                }
            ],
            "source": [
                "# different currencies will raise a DifferentCurrencyError\n",
                "from dinero import Dinero\n",
                "from dinero.currencies import EUR, USD\n",
                "from dinero.exceptions import DifferentCurrencyError\n",
                "\n",
                "amount_1 = Dinero(\"333.3\", EUR)\n",
                "amount_2 = Dinero(333.3, USD)\n",
                "\n",
                "try:\n",
                "    amount_1.subtract(amount_2)\n",
                "    amount_1 - amount_2\n",
                "except DifferentCurrencyError:\n",
                "    print('Can not operate with different currencies')"
            ]
        },
        {
            "cell_type": "markdown",
            "metadata": {},
            "source": [
                "### Multiply"
            ]
        },
        {
            "cell_type": "code",
            "execution_count": null,
            "metadata": {},
            "outputs": [
                {
                    "name": "stdout",
                    "output_type": "stream",
                    "text": [
                        "40.00\n"
                    ]
                }
            ],
            "source": [
                "from dinero import Dinero\n",
                "from dinero.currencies import EUR\n",
                "\n",
                "amount = Dinero(\"20\", EUR)\n",
                "total = amount.multiply(2)\n",
                "print(total)"
            ]
        },
        {
            "cell_type": "code",
            "execution_count": null,
            "metadata": {},
            "outputs": [
                {
                    "name": "stdout",
                    "output_type": "stream",
                    "text": [
                        "40.00\n"
                    ]
                }
            ],
            "source": [
                "from dinero import Dinero\n",
                "from dinero.currencies import EUR\n",
                "\n",
                "amount_1 = Dinero(\"20.00\", EUR)\n",
                "amount_2 = Dinero(\"2.0\", EUR)\n",
                "total = amount_1.multiply(amount_2)\n",
                "print(total)"
            ]
        },
        {
            "cell_type": "code",
            "execution_count": null,
            "metadata": {},
            "outputs": [
                {
                    "name": "stdout",
                    "output_type": "stream",
                    "text": [
                        "40.00\n"
                    ]
                }
            ],
            "source": [
                "from dinero import Dinero\n",
                "from dinero.currencies import EUR, CLP\n",
                "\n",
                "amount_1 = Dinero(\"20.00\", EUR)\n",
                "amount_2 = Dinero(\"2.0\", EUR)\n",
                "total = amount_1 * amount_2\n",
                "print(total)"
            ]
        },
        {
            "cell_type": "code",
            "execution_count": null,
            "metadata": {},
            "outputs": [
                {
                    "name": "stdout",
                    "output_type": "stream",
                    "text": [
                        "58.00\n"
                    ]
                }
            ],
            "source": [
                "from dinero import Dinero\n",
                "from dinero.currencies import USD\n",
                "\n",
                "amount = Dinero(\"20.00\", USD)\n",
                "total = amount * 2.9\n",
                "print(total)"
            ]
        },
        {
            "cell_type": "code",
            "execution_count": null,
            "metadata": {},
            "outputs": [
                {
                    "name": "stdout",
                    "output_type": "stream",
                    "text": [
                        "Can not operate with different currencies\n"
                    ]
                }
            ],
            "source": [
                "# different currencies will raise a DifferentCurrencyError\n",
                "from dinero import Dinero\n",
                "from dinero.currencies import EUR, USD\n",
                "from dinero.exceptions import DifferentCurrencyError\n",
                "\n",
                "amount_1 = Dinero(\"333.3\", EUR)\n",
                "amount_2 = Dinero(333.3, USD)\n",
                "\n",
                "try:\n",
                "    amount_1.multiply(amount_2)\n",
                "    amount_1 * amount_2\n",
                "except DifferentCurrencyError:\n",
                "    print('Can not operate with different currencies')"
            ]
        },
        {
            "cell_type": "markdown",
            "metadata": {},
            "source": [
                "### Divide"
            ]
        },
        {
            "cell_type": "code",
            "execution_count": null,
            "metadata": {},
            "outputs": [
                {
                    "name": "stdout",
                    "output_type": "stream",
                    "text": [
                        "10.00\n"
                    ]
                }
            ],
            "source": [
                "from dinero import Dinero\n",
                "from dinero.currencies import EUR\n",
                "\n",
                "amount = Dinero(\"20\", EUR)\n",
                "total = amount.divide(2)\n",
                "print(total)"
            ]
        },
        {
            "cell_type": "code",
            "execution_count": null,
            "metadata": {},
            "outputs": [
                {
                    "name": "stdout",
                    "output_type": "stream",
                    "text": [
                        "10.00\n"
                    ]
                }
            ],
            "source": [
                "from dinero import Dinero\n",
                "from dinero.currencies import EUR\n",
                "\n",
                "amount_1 = Dinero(\"20.00\", EUR)\n",
                "amount_2 = Dinero(\"2.0\", EUR)\n",
                "total = amount_1.divide(amount_2)\n",
                "print(total)"
            ]
        },
        {
            "cell_type": "code",
            "execution_count": null,
            "metadata": {},
            "outputs": [
                {
                    "name": "stdout",
                    "output_type": "stream",
                    "text": [
                        "10.00\n"
                    ]
                }
            ],
            "source": [
                "from dinero import Dinero\n",
                "from dinero.currencies import EUR\n",
                "\n",
                "amount_1 = Dinero(\"20.00\", EUR)\n",
                "amount_2 = Dinero(\"2.0\", EUR)\n",
                "total = amount_1 / amount_2\n",
                "print(total)"
            ]
        },
        {
            "cell_type": "code",
            "execution_count": null,
            "metadata": {},
            "outputs": [
                {
                    "name": "stdout",
                    "output_type": "stream",
                    "text": [
                        "10.00\n"
                    ]
                }
            ],
            "source": [
                "from dinero import Dinero\n",
                "from dinero.currencies import EUR\n",
                "\n",
                "amount = Dinero(\"20\", EUR)\n",
                "total = amount / 2\n",
                "print(total)"
            ]
        },
        {
            "cell_type": "code",
            "execution_count": null,
            "metadata": {},
            "outputs": [
                {
                    "name": "stdout",
                    "output_type": "stream",
                    "text": [
                        "Can not operate with different currencies\n"
                    ]
                }
            ],
            "source": [
                "# different currencies will raise a DifferentCurrencyError\n",
                "from dinero import Dinero\n",
                "from dinero.currencies import EUR, USD\n",
                "from dinero.exceptions import DifferentCurrencyError\n",
                "\n",
                "amount_1 = Dinero(\"20\", EUR)\n",
                "amount_2 = Dinero(2, USD)\n",
                "\n",
                "try:\n",
                "    amount_1.divide(amount_2)\n",
                "    amount_1 / amount_2\n",
                "except DifferentCurrencyError:\n",
                "    print(\"Can not operate with different currencies\")"
            ]
        },
        {
            "cell_type": "markdown",
            "metadata": {},
            "source": [
                "## Comparison\n"
            ]
        },
        {
            "cell_type": "code",
            "execution_count": null,
            "metadata": {},
            "outputs": [
                {
                    "name": "stdout",
                    "output_type": "stream",
                    "text": [
                        "333.40\n",
                        "333.20\n"
                    ]
                }
            ],
            "source": [
                "from dinero import Dinero\n",
                "from dinero.currencies import EUR\n",
                "\n",
                "amount_1 = Dinero(\"333.2\", EUR)\n",
                "amount_2 = Dinero(333.3, EUR)\n",
                "amount_3 = Dinero(333.4, EUR)\n",
                "\n",
                "highest = max([amount_1, amount_2, amount_3])\n",
                "lowest = min([amount_1, amount_2, amount_3])\n",
                "\n",
                "print(highest)\n",
                "print(lowest)"
            ]
        },
        {
            "cell_type": "code",
            "execution_count": null,
            "metadata": {},
            "outputs": [
                {
                    "data": {
                        "text/plain": [
                            "True"
                        ]
                    },
                    "execution_count": 23,
                    "metadata": {},
                    "output_type": "execute_result"
                }
            ],
            "source": [
                "from dinero import Dinero\n",
                "from dinero.currencies import EUR\n",
                "\n",
                "amount_1 = Dinero(\"333.2\", EUR)\n",
                "amount_2 = Dinero(333.3, EUR)\n",
                "\n",
                "# less than\n",
                "amount_1.less_than(amount_2)\n",
                "amount_1.less_than(333.3)\n",
                "amount_1 < amount_2\n",
                "amount_1 < 333.3\n",
                "\n",
                "# less than or equal\n",
                "amount_1.less_than_or_equal(amount_2)\n",
                "amount_1.less_than_or_equal(333.3)\n",
                "amount_1 <= amount_2\n",
                "amount_1 <= 333.3\n",
                "\n",
                "# greater than\n",
                "amount_1.greater_than(amount_2)\n",
                "amount_1.greater_than(333.3)\n",
                "amount_1 < amount_2\n",
                "amount_1 < 333.3\n",
                "\n",
                "# greater than or equal\n",
                "amount_1.greater_than_or_equal(amount_2)\n",
                "amount_1.greater_than_or_equal(333.3)\n",
                "amount_1 > amount_2\n",
                "amount_1 > 333.3\n",
                "\n",
                "# equals\n",
                "amount_3 = Dinero(333.2, EUR)\n",
                "amount_1.equals_to(amount_3)\n",
                "amount_1.equals_to(333.2)\n",
                "amount_1 == amount_3\n",
                "amount_1 == 333.2"
            ]
        },
        {
            "cell_type": "markdown",
            "metadata": {},
            "source": [
                "## to_dict"
            ]
        },
        {
            "cell_type": "code",
            "execution_count": null,
            "metadata": {},
            "outputs": [
                {
                    "data": {
                        "text/plain": [
                            "{'amount': '3333.26',\n",
                            " 'currency': {'code': 'USD', 'base': 10, 'exponent': 2, 'symbol': '$'}}"
                        ]
                    },
                    "execution_count": 1,
                    "metadata": {},
                    "output_type": "execute_result"
                }
            ],
            "source": [
                "from dinero import Dinero\n",
                "from dinero.currencies import USD\n",
                "\n",
                "amount = Dinero(\"3333.259\", USD)\n",
                "amount.to_dict(amount_with_format=False)"
            ]
        },
        {
            "cell_type": "code",
            "execution_count": null,
            "metadata": {},
            "outputs": [
                {
                    "data": {
                        "text/plain": [
                            "{'amount': '3,333.26',\n",
                            " 'currency': {'code': 'USD', 'base': 10, 'exponent': 2, 'symbol': '$'}}"
                        ]
                    },
                    "execution_count": 25,
                    "metadata": {},
                    "output_type": "execute_result"
                }
            ],
            "source": [
                "from dinero import Dinero\n",
                "from dinero.currencies import USD\n",
                "\n",
                "amount = Dinero(\"3333.259\", USD)\n",
                "amount.to_dict(amount_with_format=True)"
            ]
        },
        {
            "cell_type": "markdown",
            "metadata": {},
            "source": [
                "## to_json"
            ]
        },
        {
            "cell_type": "code",
            "execution_count": null,
            "metadata": {},
            "outputs": [
                {
                    "data": {
                        "text/plain": [
                            "'{\"amount\": \"3333.20\", \"currency\": {\"code\": \"USD\", \"base\": 10, \"exponent\": 2, \"symbol\": \"$\"}}'"
                        ]
                    },
                    "execution_count": 3,
                    "metadata": {},
                    "output_type": "execute_result"
                }
            ],
            "source": [
                "from dinero import Dinero\n",
                "from dinero.currencies import USD\n",
                "\n",
                "amount = Dinero(\"3333.2\", USD)\n",
                "amount.to_json(amount_with_format=False)"
            ]
        },
        {
            "cell_type": "code",
            "execution_count": null,
            "metadata": {},
            "outputs": [
                {
                    "data": {
                        "text/plain": [
                            "'{\"amount\": \"3,333.20\", \"currency\": {\"code\": \"USD\", \"base\": 10, \"exponent\": 2, \"symbol\": \"$\"}}'"
                        ]
                    },
                    "execution_count": 2,
                    "metadata": {},
                    "output_type": "execute_result"
                }
            ],
            "source": [
                "from dinero import Dinero\n",
                "from dinero.currencies import USD\n",
                "\n",
                "amount = Dinero(\"3333.2\", USD)\n",
                "amount.to_json(amount_with_format=True)"
            ]
        },
        {
            "cell_type": "markdown",
            "metadata": {},
            "source": [
                "## Transform"
            ]
        },
        {
            "cell_type": "code",
            "execution_count": null,
            "metadata": {},
            "outputs": [
                {
                    "ename": "TypeError",
                    "evalue": "conversion from Dinero to Decimal is not supported",
                    "output_type": "error",
                    "traceback": [
                        "\u001b[0;31m---------------------------------------------------------------------------\u001b[0m",
                        "\u001b[0;31mTypeError\u001b[0m                                 Traceback (most recent call last)",
                        "Cell \u001b[0;32mIn [1], line 24\u001b[0m\n\u001b[1;32m     11\u001b[0m     total_to_pay \u001b[39m=\u001b[39m Dinero(monthly_loan, amount\u001b[39m.\u001b[39mcurrency)\u001b[39m.\u001b[39mmultiply(months)\n\u001b[1;32m     13\u001b[0m     \u001b[39mreturn\u001b[39;00m {\n\u001b[1;32m     14\u001b[0m         \u001b[39m\"\u001b[39m\u001b[39mloan\u001b[39m\u001b[39m\"\u001b[39m: amount\u001b[39m.\u001b[39mformat_amount(symbol\u001b[39m=\u001b[39m\u001b[39mTrue\u001b[39;00m, currency\u001b[39m=\u001b[39m\u001b[39mTrue\u001b[39;00m),\n\u001b[1;32m     15\u001b[0m         \u001b[39m\"\u001b[39m\u001b[39mmonths\u001b[39m\u001b[39m\"\u001b[39m: months,\n\u001b[0;32m   (...)\u001b[0m\n\u001b[1;32m     20\u001b[0m         \u001b[39m\"\u001b[39m\u001b[39mtotal_to_pay\u001b[39m\u001b[39m\"\u001b[39m: total_to_pay\u001b[39m.\u001b[39mformat_amount(symbol\u001b[39m=\u001b[39m\u001b[39mTrue\u001b[39;00m, currency\u001b[39m=\u001b[39m\u001b[39mTrue\u001b[39;00m),\n\u001b[1;32m     21\u001b[0m     }\n\u001b[0;32m---> 24\u001b[0m data \u001b[39m=\u001b[39m calculate_loan(amount\u001b[39m=\u001b[39;49mDinero(\u001b[39m1011053\u001b[39;49m, EUR), rate\u001b[39m=\u001b[39;49m\u001b[39m0.0332\u001b[39;49m, months\u001b[39m=\u001b[39;49m\u001b[39m24\u001b[39;49m)\n\u001b[1;32m     25\u001b[0m \u001b[39mprint\u001b[39m(data)\n",
                        "Cell \u001b[0;32mIn [1], line 11\u001b[0m, in \u001b[0;36mcalculate_loan\u001b[0;34m(amount, rate, months)\u001b[0m\n\u001b[1;32m      7\u001b[0m rate \u001b[39m=\u001b[39m Decimal(rate)\n\u001b[1;32m      9\u001b[0m monthly_loan \u001b[39m=\u001b[39m amount\u001b[39m.\u001b[39mmultiply(((rate \u001b[39m/\u001b[39m \u001b[39m12\u001b[39m) \u001b[39m*\u001b[39m (\u001b[39m1\u001b[39m \u001b[39m/\u001b[39m (\u001b[39m1\u001b[39m \u001b[39m-\u001b[39m (\u001b[39m1\u001b[39m \u001b[39m+\u001b[39m rate \u001b[39m/\u001b[39m \u001b[39m12\u001b[39m) \u001b[39m*\u001b[39m\u001b[39m*\u001b[39m (\u001b[39m-\u001b[39mmonths)))))\n\u001b[0;32m---> 11\u001b[0m total_to_pay \u001b[39m=\u001b[39m Dinero(monthly_loan, amount\u001b[39m.\u001b[39;49mcurrency)\u001b[39m.\u001b[39mmultiply(months)\n\u001b[1;32m     13\u001b[0m \u001b[39mreturn\u001b[39;00m {\n\u001b[1;32m     14\u001b[0m     \u001b[39m\"\u001b[39m\u001b[39mloan\u001b[39m\u001b[39m\"\u001b[39m: amount\u001b[39m.\u001b[39mformat_amount(symbol\u001b[39m=\u001b[39m\u001b[39mTrue\u001b[39;00m, currency\u001b[39m=\u001b[39m\u001b[39mTrue\u001b[39;00m),\n\u001b[1;32m     15\u001b[0m     \u001b[39m\"\u001b[39m\u001b[39mmonths\u001b[39m\u001b[39m\"\u001b[39m: months,\n\u001b[0;32m   (...)\u001b[0m\n\u001b[1;32m     20\u001b[0m     \u001b[39m\"\u001b[39m\u001b[39mtotal_to_pay\u001b[39m\u001b[39m\"\u001b[39m: total_to_pay\u001b[39m.\u001b[39mformat_amount(symbol\u001b[39m=\u001b[39m\u001b[39mTrue\u001b[39;00m, currency\u001b[39m=\u001b[39m\u001b[39mTrue\u001b[39;00m),\n\u001b[1;32m     21\u001b[0m }\n",
                        "File \u001b[0;32m~/projects/dinero/dinero/_dinero.py:160\u001b[0m, in \u001b[0;36mDinero.__init__\u001b[0;34m(self, amount, currency)\u001b[0m\n\u001b[1;32m    159\u001b[0m \u001b[39mdef\u001b[39;00m \u001b[39m__init__\u001b[39m(\u001b[39mself\u001b[39m, amount: \u001b[39mint\u001b[39m \u001b[39m|\u001b[39m \u001b[39mfloat\u001b[39m \u001b[39m|\u001b[39m \u001b[39mstr\u001b[39m, currency: Currency):\n\u001b[0;32m--> 160\u001b[0m     \u001b[39msuper\u001b[39;49m()\u001b[39m.\u001b[39;49m\u001b[39m__init__\u001b[39;49m(amount, currency)\n",
                        "File \u001b[0;32m~/projects/dinero/dinero/_dinero.py:17\u001b[0m, in \u001b[0;36mBase.__init__\u001b[0;34m(self, amount, currency)\u001b[0m\n\u001b[1;32m     14\u001b[0m \u001b[39mself\u001b[39m\u001b[39m.\u001b[39mamount \u001b[39m=\u001b[39m amount\n\u001b[1;32m     15\u001b[0m \u001b[39mself\u001b[39m\u001b[39m.\u001b[39mcurrency \u001b[39m=\u001b[39m currency\n\u001b[0;32m---> 17\u001b[0m _check_valid_amount(amount)\n",
                        "File \u001b[0;32m~/projects/dinero/dinero/_dinero.py:444\u001b[0m, in \u001b[0;36m_check_valid_amount\u001b[0;34m(amount)\u001b[0m\n\u001b[1;32m    441\u001b[0m     \u001b[39mif\u001b[39;00m \u001b[39mnot\u001b[39;00m \u001b[39misinstance\u001b[39m(amount, (\u001b[39mint\u001b[39m, \u001b[39mfloat\u001b[39m, \u001b[39mstr\u001b[39m, Decimal, Dinero)):\n\u001b[1;32m    442\u001b[0m         \u001b[39mraise\u001b[39;00m InvalidOperationError(InvalidOperationError\u001b[39m.\u001b[39mmessage)\n\u001b[0;32m--> 444\u001b[0m     Decimal(amount)\n\u001b[1;32m    446\u001b[0m \u001b[39mexcept\u001b[39;00m (\u001b[39mValueError\u001b[39;00m, InvalidOperation):\n\u001b[1;32m    447\u001b[0m     \u001b[39mraise\u001b[39;00m InvalidOperationError(InvalidOperationError\u001b[39m.\u001b[39mmessage)\n",
                        "\u001b[0;31mTypeError\u001b[0m: conversion from Dinero to Decimal is not supported"
                    ]
                }
            ],
            "source": [
                "from decimal import Decimal, getcontext\n",
                "from dinero import Dinero\n",
                "from dinero.currencies import CLP, USD, EUR\n",
                "\n",
                "def calculate_loan(amount: Dinero, rate: int | float | Decimal, months: int):\n",
                "    getcontext().prec = amount.precision\n",
                "    rate = Decimal(rate)\n",
                "\n",
                "    monthly_loan = amount.multiply(((rate / 12) * (1 / (1 - (1 + rate / 12) ** (-months)))))\n",
                "\n",
                "    total_to_pay = Dinero(monthly_loan, amount.currency).multiply(months)\n",
                "\n",
                "    return {\n",
                "        \"loan\": amount.format(symbol=True, currency=True),\n",
                "        \"months\": months,\n",
                "        \"monthly_loan\": Dinero(monthly_loan, amount.currency).format(\n",
                "            symbol=True,\n",
                "            currency=True,\n",
                "        ),\n",
                "        \"total_to_pay\": total_to_pay.format(symbol=True, currency=True),\n",
                "    }\n",
                "\n",
                "\n",
                "data = calculate_loan(amount=Dinero(1011053, EUR), rate=0.0332, months=24)\n",
                "print(data)\n"
            ]
        }
    ],
    "metadata": {
        "kernelspec": {
            "display_name": "Python 3.11.0 ('dinero-lHM6Yuiu-py3.11')",
            "language": "python",
            "name": "python3"
        },
        "language_info": {
            "codemirror_mode": {
                "name": "ipython",
                "version": 3
            },
            "file_extension": ".py",
            "mimetype": "text/x-python",
            "name": "python",
            "nbconvert_exporter": "python",
            "pygments_lexer": "ipython3",
            "version": "3.11.0"
        },
        "orig_nbformat": 4,
        "vscode": {
            "interpreter": {
                "hash": "0c1b30c9e672b781e1cc8a9bacab971198cbc0ea69851437e1c291d66f1e024f"
            }
        }
    },
    "nbformat": 4,
    "nbformat_minor": 2
}
