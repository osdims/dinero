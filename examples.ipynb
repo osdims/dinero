{
 "cells": [
  {
   "cell_type": "code",
   "execution_count": null,
   "metadata": {},
   "outputs": [],
   "source": [
    "from dinero import Dinero\n",
    "from dinero.currencies import USD\n",
    "\n",
    "amount = Dinero(234342.3010, USD)\n",
    "amount.raw_amount\n",
    "amount.normalized_amount\n",
    "amount.symbol\n",
    "amount.code\n",
    "amount.exponent\n",
    "amount.base\n",
    "\n",
    "formatted = amount.formatted_amount(symbol=True, currency=True)\n",
    "print(amount)"
   ]
  },
  {
   "cell_type": "markdown",
   "metadata": {},
   "source": [
    "## Operations"
   ]
  },
  {
   "cell_type": "markdown",
   "metadata": {},
   "source": [
    "### Addition"
   ]
  },
  {
   "cell_type": "code",
   "execution_count": null,
   "metadata": {},
   "outputs": [],
   "source": [
    "from dinero import Dinero\n",
    "from dinero.currencies import EUR\n",
    "\n",
    "amount = Dinero(\"333.3\", EUR)\n",
    "total = amount.add('333.3')\n",
    "print(total)"
   ]
  },
  {
   "cell_type": "code",
   "execution_count": null,
   "metadata": {},
   "outputs": [],
   "source": [
    "from dinero import Dinero\n",
    "from dinero.currencies import EUR\n",
    "\n",
    "amount_1 = Dinero(\"333.3\", EUR)\n",
    "amount_2 = Dinero(333.3, EUR)\n",
    "\n",
    "total = amount_1.add(amount_2)\n",
    "print(total)"
   ]
  },
  {
   "cell_type": "code",
   "execution_count": null,
   "metadata": {},
   "outputs": [],
   "source": [
    "# different currencies will raise a DifferentCurrencyError\n",
    "from dinero import Dinero\n",
    "from dinero.currencies import EUR, USD\n",
    "\n",
    "amount_1 = Dinero(\"333.3\", EUR)\n",
    "amount_2 = Dinero(333.3, USD)\n",
    "\n",
    "total = amount_1.add(amount_2)\n",
    "print(total)\n"
   ]
  }
 ],
 "metadata": {
  "kernelspec": {
   "display_name": "Python 3.10.8 ('dinero-lHM6Yuiu-py3.10')",
   "language": "python",
   "name": "python3"
  },
  "language_info": {
   "codemirror_mode": {
    "name": "ipython",
    "version": 3
   },
   "file_extension": ".py",
   "mimetype": "text/x-python",
   "name": "python",
   "nbconvert_exporter": "python",
   "pygments_lexer": "ipython3",
   "version": "3.10.8"
  },
  "orig_nbformat": 4,
  "vscode": {
   "interpreter": {
    "hash": "e55e401381f70a25cfb5c95c2d0c2d8c42db6329f6d2e769fa34d04b49ee26d1"
   }
  }
 },
 "nbformat": 4,
 "nbformat_minor": 2
}
