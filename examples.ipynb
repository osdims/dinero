{
    "cells": [
        {
            "cell_type": "code",
            "execution_count": null,
            "metadata": {},
            "outputs": [],
            "source": [
                "from dinero import Dinero\n",
                "from dinero.currencies import CLP, USD\n",
                "\n",
                "amount = Dinero(234342.3010, USD)\n",
                "amount.raw_amount\n",
                "amount.symbol\n",
                "amount.code\n",
                "\n",
                "formatted = amount.format(symbol=True, currency=True)\n",
                "print(formatted)"
            ]
        },
        {
            "cell_type": "code",
            "execution_count": null,
            "metadata": {},
            "outputs": [],
            "source": [
                "from dinero import Dinero\n",
                "from dinero.currencies import CLP, USD\n",
                "\n",
                "unit_price = Dinero(2.32, USD)\n",
                "number_sold = 3\n",
                "money_received = Dinero(6.96, USD)\n",
                "if unit_price * number_sold == money_received:\n",
                "    print('Accounts balanced')\n",
                "else:\n",
                "    raise ValueError('Accounts not balanced')"
            ]
        },
        {
            "cell_type": "code",
            "execution_count": null,
            "metadata": {},
            "outputs": [],
            "source": [
                "total = Dinero(456.343567, USD) + 345.32 / 4534.4 *  3\n",
                "print(total)"
            ]
        },
        {
            "attachments": {},
            "cell_type": "markdown",
            "metadata": {},
            "source": [
                "## Mutations"
            ]
        },
        {
            "attachments": {},
            "cell_type": "markdown",
            "metadata": {},
            "source": [
                "### Add"
            ]
        },
        {
            "cell_type": "code",
            "execution_count": null,
            "metadata": {},
            "outputs": [],
            "source": [
                "from dinero import Dinero\n",
                "from dinero.currencies import EUR\n",
                "\n",
                "amount = Dinero(\"333.3\", EUR)\n",
                "total = amount.add(333.3)\n",
                "print(total)"
            ]
        },
        {
            "cell_type": "code",
            "execution_count": null,
            "metadata": {},
            "outputs": [],
            "source": [
                "from dinero import Dinero\n",
                "from dinero.currencies import EUR\n",
                "\n",
                "amount_1 = Dinero(\"333.3\", EUR)\n",
                "amount_2 = Dinero(333.3, EUR)\n",
                "\n",
                "total = amount_1.add(amount_2)\n",
                "print(total)"
            ]
        },
        {
            "cell_type": "code",
            "execution_count": null,
            "metadata": {},
            "outputs": [],
            "source": [
                "from dinero import Dinero\n",
                "from dinero.currencies import EUR, USD\n",
                "\n",
                "amount_1 = Dinero(\"333.3\", USD)\n",
                "amount_2 = Dinero(333.3, USD)\n",
                "\n",
                "total = amount_1 + amount_2\n",
                "print(total)"
            ]
        },
        {
            "cell_type": "code",
            "execution_count": null,
            "metadata": {},
            "outputs": [],
            "source": [
                "from dinero import Dinero\n",
                "from dinero.currencies import EUR, USD\n",
                "\n",
                "amount_1 = Dinero(\"333.3\", EUR)\n",
                "amount_2 = Dinero(333.3, EUR)\n",
                "amount_3 = Dinero(333.3, EUR)\n",
                "\n",
                "total = sum([amount_1, amount_2, amount_3])\n",
                "print(total)"
            ]
        },
        {
            "cell_type": "code",
            "execution_count": null,
            "metadata": {},
            "outputs": [],
            "source": [
                "# different currencies will raise a DifferentCurrencyError\n",
                "from dinero import Dinero\n",
                "from dinero.currencies import EUR, USD\n",
                "from dinero.exceptions import DifferentCurrencyError\n",
                "\n",
                "amount_1 = Dinero(\"333.3\", EUR)\n",
                "amount_2 = Dinero(333.3, USD)\n",
                "\n",
                "try:\n",
                "    amount_1.add(amount_2)\n",
                "    print(amount_1 + amount_2)\n",
                "    sum([amount_1, amount_2])\n",
                "except DifferentCurrencyError:\n",
                "    print('Can not operate with different currencies')"
            ]
        },
        {
            "attachments": {},
            "cell_type": "markdown",
            "metadata": {},
            "source": [
                "### Subtract"
            ]
        },
        {
            "cell_type": "code",
            "execution_count": null,
            "metadata": {},
            "outputs": [],
            "source": [
                "from dinero import Dinero\n",
                "from dinero.currencies import EUR\n",
                "\n",
                "amount = Dinero(\"20.20\", EUR)\n",
                "total = amount.subtract('10.20')\n",
                "print(total)"
            ]
        },
        {
            "cell_type": "code",
            "execution_count": null,
            "metadata": {},
            "outputs": [],
            "source": [
                "from dinero import Dinero\n",
                "from dinero.currencies import EUR\n",
                "\n",
                "amount_1 = Dinero(\"20.20\", EUR)\n",
                "amount_2 = Dinero(\"10.20\", EUR)\n",
                "total = amount_1.subtract(amount_2)\n",
                "print(total)"
            ]
        },
        {
            "cell_type": "code",
            "execution_count": null,
            "metadata": {},
            "outputs": [],
            "source": [
                "from dinero import Dinero\n",
                "from dinero.currencies import EUR, USD\n",
                "\n",
                "amount_1 = Dinero(\"20.20\", EUR)\n",
                "amount_2 = Dinero(\"10.20\", EUR)\n",
                "total = amount_1 - amount_2\n",
                "print(total)"
            ]
        },
        {
            "cell_type": "code",
            "execution_count": null,
            "metadata": {},
            "outputs": [],
            "source": [
                "# different currencies will raise a DifferentCurrencyError\n",
                "from dinero import Dinero\n",
                "from dinero.currencies import EUR, USD\n",
                "from dinero.exceptions import DifferentCurrencyError\n",
                "\n",
                "amount_1 = Dinero(\"333.3\", EUR)\n",
                "amount_2 = Dinero(333.3, USD)\n",
                "\n",
                "try:\n",
                "    amount_1.subtract(amount_2)\n",
                "    print(amount_1 - amount_2)\n",
                "except DifferentCurrencyError:\n",
                "    print('Can not operate with different currencies')"
            ]
        },
        {
            "attachments": {},
            "cell_type": "markdown",
            "metadata": {},
            "source": [
                "### Multiply"
            ]
        },
        {
            "cell_type": "code",
            "execution_count": null,
            "metadata": {},
            "outputs": [],
            "source": [
                "from dinero import Dinero\n",
                "from dinero.currencies import EUR\n",
                "\n",
                "amount = Dinero(\"20\", EUR)\n",
                "total = amount.multiply(2)\n",
                "print(total)"
            ]
        },
        {
            "cell_type": "code",
            "execution_count": null,
            "metadata": {},
            "outputs": [],
            "source": [
                "from dinero import Dinero\n",
                "from dinero.currencies import EUR\n",
                "\n",
                "amount = Dinero(\"20.00\", EUR)\n",
                "total = amount.multiply(2)\n",
                "print(total)"
            ]
        },
        {
            "cell_type": "code",
            "execution_count": null,
            "metadata": {},
            "outputs": [],
            "source": [
                "from dinero import Dinero\n",
                "from dinero.currencies import EUR, CLP\n",
                "\n",
                "amount = Dinero(\"20.00\", EUR)\n",
                "total = amount * 2\n",
                "print(total)"
            ]
        },
        {
            "cell_type": "code",
            "execution_count": null,
            "metadata": {},
            "outputs": [],
            "source": [
                "from dinero import Dinero\n",
                "from dinero.currencies import USD\n",
                "\n",
                "amount = Dinero(\"20.00\", USD)\n",
                "total = amount * 2.9\n",
                "print(total)"
            ]
        },
        {
            "cell_type": "code",
            "execution_count": null,
            "metadata": {},
            "outputs": [],
            "source": [
                "# different currencies will raise a DifferentCurrencyError\n",
                "from dinero import Dinero\n",
                "from dinero.currencies import EUR, USD\n",
                "from dinero.exceptions import DifferentCurrencyError\n",
                "\n",
                "amount = Dinero(\"333.3\", EUR)\n",
                "\n",
                "try:\n",
                "    amount.multiply(3)\n",
                "    print(amount * 3)\n",
                "except DifferentCurrencyError:\n",
                "    print('Can not operate with different currencies')"
            ]
        },
        {
            "attachments": {},
            "cell_type": "markdown",
            "metadata": {},
            "source": [
                "### Divide"
            ]
        },
        {
            "cell_type": "code",
            "execution_count": null,
            "metadata": {},
            "outputs": [],
            "source": [
                "from dinero import Dinero\n",
                "from dinero.currencies import EUR\n",
                "\n",
                "amount = Dinero(\"20\", EUR)\n",
                "total = amount.divide(2)\n",
                "print(total)"
            ]
        },
        {
            "cell_type": "code",
            "execution_count": null,
            "metadata": {},
            "outputs": [],
            "source": [
                "from dinero import Dinero\n",
                "from dinero.currencies import EUR\n",
                "\n",
                "amount = Dinero(\"20.00\", EUR)\n",
                "total = amount.divide(2)\n",
                "print(total)"
            ]
        },
        {
            "cell_type": "code",
            "execution_count": null,
            "metadata": {},
            "outputs": [],
            "source": [
                "from dinero import Dinero\n",
                "from dinero.currencies import EUR\n",
                "\n",
                "amount = Dinero(\"20.00\", EUR)\n",
                "total = amount / 2\n",
                "print(total)"
            ]
        },
        {
            "cell_type": "code",
            "execution_count": null,
            "metadata": {},
            "outputs": [],
            "source": [
                "from dinero import Dinero\n",
                "from dinero.currencies import EUR\n",
                "\n",
                "amount = Dinero(\"20\", EUR)\n",
                "total = amount / 2\n",
                "print(total)"
            ]
        },
        {
            "cell_type": "code",
            "execution_count": null,
            "metadata": {},
            "outputs": [],
            "source": [
                "# different currencies will raise a DifferentCurrencyError\n",
                "from dinero import Dinero\n",
                "from dinero.currencies import EUR, USD\n",
                "from dinero.exceptions import DifferentCurrencyError\n",
                "\n",
                "amount_1 = Dinero(\"20\", EUR)\n",
                "\n",
                "try:\n",
                "    amount_1.divide(2)\n",
                "    print(amount_1 / 2)\n",
                "except DifferentCurrencyError:\n",
                "    print(\"Can not operate with different currencies\")"
            ]
        },
        {
            "attachments": {},
            "cell_type": "markdown",
            "metadata": {},
            "source": [
                "## Comparison\n"
            ]
        },
        {
            "cell_type": "code",
            "execution_count": null,
            "metadata": {},
            "outputs": [],
            "source": [
                "from dinero import Dinero\n",
                "from dinero.currencies import EUR\n",
                "\n",
                "amount_1 = Dinero(\"333.2\", EUR)\n",
                "amount_2 = Dinero(333.3, EUR)\n",
                "amount_3 = Dinero(333.4, EUR)\n",
                "\n",
                "highest = max([amount_1, amount_2, amount_3])\n",
                "lowest = min([amount_1, amount_2, amount_3])\n",
                "\n",
                "print(highest)\n",
                "print(lowest)"
            ]
        },
        {
            "cell_type": "code",
            "execution_count": null,
            "metadata": {},
            "outputs": [],
            "source": [
                "from dinero import Dinero\n",
                "from dinero.currencies import EUR\n",
                "\n",
                "amount_1 = Dinero(\"333.2\", EUR)\n",
                "amount_2 = Dinero(333.3, EUR)\n",
                "\n",
                "# less than\n",
                "amount_1.less_than(amount_2)\n",
                "print(amount_1 < amount_2)\n",
                "\n",
                "# less than or equal\n",
                "amount_1.less_than_or_equal(amount_2)\n",
                "print(amount_1 <= amount_2)\n",
                "\n",
                "# greater than\n",
                "amount_1.greater_than(amount_2)\n",
                "print(amount_1 < amount_2)\n",
                "\n",
                "# greater than or equal\n",
                "amount_1.greater_than_or_equal(amount_2)\n",
                "print(amount_1 > amount_2)\n",
                "\n",
                "# equals\n",
                "amount_3 = Dinero(333.2, EUR)\n",
                "amount_1.equals_to(amount_3)\n",
                "amount_1 == amount_3"
            ]
        },
        {
            "attachments": {},
            "cell_type": "markdown",
            "metadata": {},
            "source": [
                "## to_dict"
            ]
        },
        {
            "cell_type": "code",
            "execution_count": null,
            "metadata": {},
            "outputs": [],
            "source": [
                "from dinero import Dinero\n",
                "from dinero.currencies import USD\n",
                "\n",
                "amount = Dinero(\"3333.259\", USD)\n",
                "amount.to_dict(amount_with_format=False)"
            ]
        },
        {
            "cell_type": "code",
            "execution_count": null,
            "metadata": {},
            "outputs": [],
            "source": [
                "from dinero import Dinero\n",
                "from dinero.currencies import USD\n",
                "\n",
                "amount = Dinero(\"3333.259\", USD)\n",
                "amount.to_dict(amount_with_format=True)"
            ]
        },
        {
            "attachments": {},
            "cell_type": "markdown",
            "metadata": {},
            "source": [
                "## to_json"
            ]
        },
        {
            "cell_type": "code",
            "execution_count": null,
            "metadata": {},
            "outputs": [],
            "source": [
                "from dinero import Dinero\n",
                "from dinero.currencies import USD\n",
                "\n",
                "amount = Dinero(\"3333.2\", USD)\n",
                "amount.to_json(amount_with_format=False)"
            ]
        },
        {
            "cell_type": "code",
            "execution_count": null,
            "metadata": {},
            "outputs": [],
            "source": [
                "from dinero import Dinero\n",
                "from dinero.currencies import USD\n",
                "\n",
                "amount = Dinero(\"3333.2\", USD)\n",
                "amount.to_json(amount_with_format=True)"
            ]
        },
        {
            "attachments": {},
            "cell_type": "markdown",
            "metadata": {},
            "source": [
                "## VAT"
            ]
        },
        {
            "cell_type": "code",
            "execution_count": 9,
            "metadata": {},
            "outputs": [
                {
                    "data": {
                        "text/plain": [
                            "'$80 CLP'"
                        ]
                    },
                    "execution_count": 9,
                    "metadata": {},
                    "output_type": "execute_result"
                }
            ],
            "source": [
                "from dinero import Dinero\n",
                "from dinero.currencies import USD, EUR, CLP\n",
                "from dinero.tools import calculate_vat\n",
                "\n",
                "amount = Dinero(\"500\", CLP)\n",
                "vat_amount = calculate_vat(amount, 19)\n",
                "vat_amount.format(symbol=True, currency=True)\n"
            ]
        }
    ],
    "metadata": {
        "kernelspec": {
            "display_name": "dinero-mQwBjJd4-py3.11",
            "language": "python",
            "name": "python3"
        },
        "language_info": {
            "codemirror_mode": {
                "name": "ipython",
                "version": 3
            },
            "file_extension": ".py",
            "mimetype": "text/x-python",
            "name": "python",
            "nbconvert_exporter": "python",
            "pygments_lexer": "ipython3",
            "version": "3.11.3"
        },
        "orig_nbformat": 4,
        "vscode": {
            "interpreter": {
                "hash": "d218d306db2bd4a742a7498d32c72f9c7596bcdf2ee6ea9f678770a124766822"
            }
        }
    },
    "nbformat": 4,
    "nbformat_minor": 2
}
