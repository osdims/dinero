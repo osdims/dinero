{
 "cells": [
  {
   "cell_type": "code",
   "execution_count": null,
   "metadata": {},
   "outputs": [],
   "source": [
    "from dinero import Dinero\n",
    "from dinero.currencies import EUR\n",
    "\n",
    "amount = Dinero(234342.3010, EUR)\n",
    "amount.raw_amount\n",
    "amount.symbol\n",
    "amount.code\n",
    "amount.exponent\n",
    "amount.base\n",
    "amount.normalized_amount\n",
    "\n",
    "formatted = amount.formatted_amount(symbol=True, currency=True)\n",
    "print(amount)"
   ]
  },
  {
   "cell_type": "markdown",
   "metadata": {},
   "source": [
    "## Operations"
   ]
  },
  {
   "cell_type": "code",
   "execution_count": null,
   "metadata": {},
   "outputs": [],
   "source": [
    "# addition\n"
   ]
  },
  {
   "cell_type": "code",
   "execution_count": null,
   "metadata": {},
   "outputs": [],
   "source": [
    "from decimal import Decimal, getcontext\n",
    "getcontext().prec = 10\n",
    "unit_price = Decimal('2.32')\n",
    "number_sold = 3\n",
    "money_received = Decimal('6.96')\n",
    "print(unit_price * number_sold)\n",
    "if unit_price * number_sold == money_received:\n",
    "    print('Accounts balanced')\n",
    "else:\n",
    "    raise ValueError('Accounts not balanced')"
   ]
  },
  {
   "cell_type": "code",
   "execution_count": null,
   "metadata": {},
   "outputs": [],
   "source": [
    "Decimal('2.55') * 2"
   ]
  },
  {
   "cell_type": "code",
   "execution_count": null,
   "metadata": {},
   "outputs": [],
   "source": [
    "Decimal('2.55') + Decimal('2.5')"
   ]
  }
 ],
 "metadata": {
  "kernelspec": {
   "display_name": "Python 3.10.8 ('dinero-lHM6Yuiu-py3.10')",
   "language": "python",
   "name": "python3"
  },
  "language_info": {
   "codemirror_mode": {
    "name": "ipython",
    "version": 3
   },
   "file_extension": ".py",
   "mimetype": "text/x-python",
   "name": "python",
   "nbconvert_exporter": "python",
   "pygments_lexer": "ipython3",
   "version": "3.10.8"
  },
  "orig_nbformat": 4,
  "vscode": {
   "interpreter": {
    "hash": "e55e401381f70a25cfb5c95c2d0c2d8c42db6329f6d2e769fa34d04b49ee26d1"
   }
  }
 },
 "nbformat": 4,
 "nbformat_minor": 2
}
