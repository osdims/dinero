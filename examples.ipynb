{
 "cells": [
  {
   "cell_type": "code",
   "execution_count": 1,
   "metadata": {},
   "outputs": [
    {
     "name": "stdout",
     "output_type": "stream",
     "text": [
      "$234,342.30 USD\n"
     ]
    }
   ],
   "source": [
    "from dinero import Dinero\n",
    "from dinero.currencies import USD\n",
    "\n",
    "amount = Dinero(234342.3010, USD)\n",
    "amount.raw_amount\n",
    "amount.normalized_amount\n",
    "amount.symbol\n",
    "amount.code\n",
    "amount.exponent\n",
    "\n",
    "formatted = amount.formatted_amount(symbol=False, currency=False)\n",
    "print(amount)"
   ]
  },
  {
   "cell_type": "markdown",
   "metadata": {},
   "source": [
    "## Operations"
   ]
  },
  {
   "cell_type": "markdown",
   "metadata": {},
   "source": [
    "### Add"
   ]
  },
  {
   "cell_type": "code",
   "execution_count": 6,
   "metadata": {},
   "outputs": [
    {
     "name": "stdout",
     "output_type": "stream",
     "text": [
      "€666.60 EUR\n"
     ]
    }
   ],
   "source": [
    "from dinero import Dinero\n",
    "from dinero.currencies import EUR\n",
    "\n",
    "amount = Dinero(\"333.3\", EUR)\n",
    "total = amount.add(333.3)\n",
    "print(total)"
   ]
  },
  {
   "cell_type": "code",
   "execution_count": 2,
   "metadata": {},
   "outputs": [
    {
     "name": "stdout",
     "output_type": "stream",
     "text": [
      "€666.60 EUR\n"
     ]
    }
   ],
   "source": [
    "from dinero import Dinero\n",
    "from dinero.currencies import EUR\n",
    "\n",
    "amount_1 = Dinero(\"333.3\", EUR)\n",
    "amount_2 = Dinero(333.3, EUR)\n",
    "\n",
    "total = amount_1.add(amount_2)\n",
    "print(total)"
   ]
  },
  {
   "cell_type": "code",
   "execution_count": 3,
   "metadata": {},
   "outputs": [
    {
     "name": "stdout",
     "output_type": "stream",
     "text": [
      "$666.60 USD\n"
     ]
    }
   ],
   "source": [
    "from dinero import Dinero\n",
    "from dinero.currencies import EUR, USD\n",
    "\n",
    "amount_1 = Dinero(\"333.3\", USD)\n",
    "amount_2 = Dinero(333.3, USD)\n",
    "\n",
    "total = amount_1 + amount_2\n",
    "print(total)"
   ]
  },
  {
   "cell_type": "code",
   "execution_count": 19,
   "metadata": {},
   "outputs": [
    {
     "name": "stdout",
     "output_type": "stream",
     "text": [
      "€999.90 EUR\n"
     ]
    }
   ],
   "source": [
    "from dinero import Dinero\n",
    "from dinero.currencies import EUR, USD\n",
    "\n",
    "amount_1 = Dinero(\"333.3\", EUR)\n",
    "amount_2 = Dinero(333.3, EUR)\n",
    "amount_3 = Dinero(333.3, EUR)\n",
    "\n",
    "total = sum([amount_1, amount_2, amount_3])\n",
    "print(total)"
   ]
  },
  {
   "cell_type": "code",
   "execution_count": 20,
   "metadata": {},
   "outputs": [
    {
     "ename": "DifferentCurrencyError",
     "evalue": "Currencies can not be different",
     "output_type": "error",
     "traceback": [
      "\u001b[0;31m---------------------------------------------------------------------------\u001b[0m",
      "\u001b[0;31mDifferentCurrencyError\u001b[0m                    Traceback (most recent call last)",
      "Cell \u001b[0;32mIn [20], line 8\u001b[0m\n\u001b[1;32m      5\u001b[0m amount_1 \u001b[39m=\u001b[39m Dinero(\u001b[39m\"\u001b[39m\u001b[39m333.3\u001b[39m\u001b[39m\"\u001b[39m, EUR)\n\u001b[1;32m      6\u001b[0m amount_2 \u001b[39m=\u001b[39m Dinero(\u001b[39m333.3\u001b[39m, USD)\n\u001b[0;32m----> 8\u001b[0m amount_1\u001b[39m.\u001b[39;49madd(amount_2)\n\u001b[1;32m      9\u001b[0m amount_1 \u001b[39m+\u001b[39m amount_2\n\u001b[1;32m     10\u001b[0m \u001b[39msum\u001b[39m([amount_1, amount_2])\n",
      "File \u001b[0;32m~/projects/dinero/dinero/dinero.py:45\u001b[0m, in \u001b[0;36mDinero.add\u001b[0;34m(self, amount)\u001b[0m\n\u001b[1;32m     44\u001b[0m \u001b[39mdef\u001b[39;00m \u001b[39madd\u001b[39m(\u001b[39mself\u001b[39m, amount: \u001b[39m\"\u001b[39m\u001b[39mOperationType | Dinero\u001b[39m\u001b[39m\"\u001b[39m) \u001b[39m-\u001b[39m\u001b[39m>\u001b[39m \u001b[39m\"\u001b[39m\u001b[39mDinero\u001b[39m\u001b[39m\"\u001b[39m:\n\u001b[0;32m---> 45\u001b[0m     amount_to_add \u001b[39m=\u001b[39m \u001b[39mself\u001b[39;49m\u001b[39m.\u001b[39;49m_get_instance(amount)\n\u001b[1;32m     46\u001b[0m     result \u001b[39m=\u001b[39m \u001b[39mself\u001b[39m\u001b[39m.\u001b[39mnormalized_amount \u001b[39m+\u001b[39m amount_to_add\u001b[39m.\u001b[39mnormalized_amount\n\u001b[1;32m     47\u001b[0m     \u001b[39mreturn\u001b[39;00m Dinero(result, \u001b[39mself\u001b[39m\u001b[39m.\u001b[39mcurrency)\n",
      "File \u001b[0;32m~/projects/dinero/dinero/dinero.py:79\u001b[0m, in \u001b[0;36mDinero._get_instance\u001b[0;34m(self, amount)\u001b[0m\n\u001b[1;32m     76\u001b[0m     second_amount \u001b[39m=\u001b[39m Dinero(\u001b[39mstr\u001b[39m(amount), \u001b[39mself\u001b[39m\u001b[39m.\u001b[39mcurrency)\n\u001b[1;32m     78\u001b[0m \u001b[39mif\u001b[39;00m second_amount\u001b[39m.\u001b[39mcode \u001b[39m!=\u001b[39m \u001b[39mself\u001b[39m\u001b[39m.\u001b[39mcode:\n\u001b[0;32m---> 79\u001b[0m     \u001b[39mraise\u001b[39;00m DifferentCurrencyError(\u001b[39m\"\u001b[39m\u001b[39mCurrencies can not be different\u001b[39m\u001b[39m\"\u001b[39m)\n\u001b[1;32m     81\u001b[0m \u001b[39mreturn\u001b[39;00m second_amount\n",
      "\u001b[0;31mDifferentCurrencyError\u001b[0m: Currencies can not be different"
     ]
    }
   ],
   "source": [
    "# different currencies will raise a DifferentCurrencyError\n",
    "from dinero import Dinero\n",
    "from dinero.currencies import EUR, USD\n",
    "\n",
    "amount_1 = Dinero(\"333.3\", EUR)\n",
    "amount_2 = Dinero(333.3, USD)\n",
    "\n",
    "amount_1.add(amount_2)\n",
    "amount_1 + amount_2\n",
    "sum([amount_1, amount_2])"
   ]
  },
  {
   "cell_type": "markdown",
   "metadata": {},
   "source": [
    "### Subtract"
   ]
  },
  {
   "cell_type": "code",
   "execution_count": 1,
   "metadata": {},
   "outputs": [
    {
     "name": "stdout",
     "output_type": "stream",
     "text": [
      "€10.00 EUR\n"
     ]
    }
   ],
   "source": [
    "from dinero import Dinero\n",
    "from dinero.currencies import EUR\n",
    "\n",
    "amount = Dinero(\"20.20\", EUR)\n",
    "total = amount.subtract('10.20')\n",
    "print(total)"
   ]
  },
  {
   "cell_type": "code",
   "execution_count": 2,
   "metadata": {},
   "outputs": [
    {
     "name": "stdout",
     "output_type": "stream",
     "text": [
      "€10.00 EUR\n"
     ]
    }
   ],
   "source": [
    "from dinero import Dinero\n",
    "from dinero.currencies import EUR\n",
    "\n",
    "amount_1 = Dinero(\"20.20\", EUR)\n",
    "amount_2 = Dinero(\"10.20\", EUR)\n",
    "total = amount_1.subtract(amount_2)\n",
    "print(total)"
   ]
  },
  {
   "cell_type": "code",
   "execution_count": 3,
   "metadata": {},
   "outputs": [
    {
     "name": "stdout",
     "output_type": "stream",
     "text": [
      "€10.00 EUR\n"
     ]
    }
   ],
   "source": [
    "from dinero import Dinero\n",
    "from dinero.currencies import EUR, USD\n",
    "\n",
    "amount_1 = Dinero(\"20.20\", EUR)\n",
    "amount_2 = Dinero(\"10.20\", EUR)\n",
    "total = amount_1 - amount_2\n",
    "print(total)"
   ]
  },
  {
   "cell_type": "code",
   "execution_count": 4,
   "metadata": {},
   "outputs": [
    {
     "ename": "DifferentCurrencyError",
     "evalue": "Currencies can not be different",
     "output_type": "error",
     "traceback": [
      "\u001b[0;31m---------------------------------------------------------------------------\u001b[0m",
      "\u001b[0;31mDifferentCurrencyError\u001b[0m                    Traceback (most recent call last)",
      "Cell \u001b[0;32mIn [4], line 8\u001b[0m\n\u001b[1;32m      5\u001b[0m amount_1 \u001b[39m=\u001b[39m Dinero(\u001b[39m\"\u001b[39m\u001b[39m333.3\u001b[39m\u001b[39m\"\u001b[39m, EUR)\n\u001b[1;32m      6\u001b[0m amount_2 \u001b[39m=\u001b[39m Dinero(\u001b[39m333.3\u001b[39m, USD)\n\u001b[0;32m----> 8\u001b[0m amount_1\u001b[39m.\u001b[39;49msubtract(amount_2)\n\u001b[1;32m      9\u001b[0m amount_1 \u001b[39m-\u001b[39m amount_2\n",
      "File \u001b[0;32m~/projects/dinero/dinero/_dinero.py:55\u001b[0m, in \u001b[0;36mDinero.subtract\u001b[0;34m(self, amount)\u001b[0m\n\u001b[1;32m     51\u001b[0m \u001b[39mdef\u001b[39;00m \u001b[39msubtract\u001b[39m(\u001b[39mself\u001b[39m, amount: \u001b[39m\"\u001b[39m\u001b[39mOperationType | Dinero\u001b[39m\u001b[39m\"\u001b[39m) \u001b[39m-\u001b[39m\u001b[39m>\u001b[39m \u001b[39m\"\u001b[39m\u001b[39mDinero\u001b[39m\u001b[39m\"\u001b[39m:\n\u001b[1;32m     52\u001b[0m     \u001b[39m# subtrahend = self._get_instance(amount)\u001b[39;00m\n\u001b[1;32m     53\u001b[0m     \u001b[39m# result = self.normalized_amount - subtrahend.normalized_amount\u001b[39;00m\n\u001b[1;32m     54\u001b[0m     \u001b[39m# return Dinero(result, self.currency)\u001b[39;00m\n\u001b[0;32m---> 55\u001b[0m     \u001b[39mreturn\u001b[39;00m \u001b[39mself\u001b[39;49m\u001b[39m.\u001b[39;49m\u001b[39m__sub__\u001b[39;49m(amount)\n",
      "File \u001b[0;32m~/projects/dinero/dinero/_dinero.py:97\u001b[0m, in \u001b[0;36mDinero.__sub__\u001b[0;34m(self, subtrahend)\u001b[0m\n\u001b[1;32m     96\u001b[0m \u001b[39mdef\u001b[39;00m \u001b[39m__sub__\u001b[39m(\u001b[39mself\u001b[39m, subtrahend: \u001b[39m\"\u001b[39m\u001b[39mOperationType | Dinero\u001b[39m\u001b[39m\"\u001b[39m) \u001b[39m-\u001b[39m\u001b[39m>\u001b[39m \u001b[39m\"\u001b[39m\u001b[39mDinero\u001b[39m\u001b[39m\"\u001b[39m:\n\u001b[0;32m---> 97\u001b[0m     amount \u001b[39m=\u001b[39m \u001b[39mself\u001b[39;49m\u001b[39m.\u001b[39;49m_get_instance(subtrahend)\n\u001b[1;32m     98\u001b[0m     total \u001b[39m=\u001b[39m \u001b[39mself\u001b[39m\u001b[39m.\u001b[39mnormalized_amount \u001b[39m-\u001b[39m amount\u001b[39m.\u001b[39mnormalized_amount\n\u001b[1;32m     99\u001b[0m     \u001b[39mreturn\u001b[39;00m Dinero(\u001b[39mstr\u001b[39m(total), \u001b[39mself\u001b[39m\u001b[39m.\u001b[39mcurrency)\n",
      "File \u001b[0;32m~/projects/dinero/dinero/_dinero.py:81\u001b[0m, in \u001b[0;36mDinero._get_instance\u001b[0;34m(self, amount)\u001b[0m\n\u001b[1;32m     78\u001b[0m     second_amount \u001b[39m=\u001b[39m Dinero(\u001b[39mstr\u001b[39m(amount), \u001b[39mself\u001b[39m\u001b[39m.\u001b[39mcurrency)\n\u001b[1;32m     80\u001b[0m \u001b[39mif\u001b[39;00m second_amount\u001b[39m.\u001b[39mcode \u001b[39m!=\u001b[39m \u001b[39mself\u001b[39m\u001b[39m.\u001b[39mcode:\n\u001b[0;32m---> 81\u001b[0m     \u001b[39mraise\u001b[39;00m DifferentCurrencyError(\u001b[39m\"\u001b[39m\u001b[39mCurrencies can not be different\u001b[39m\u001b[39m\"\u001b[39m)\n\u001b[1;32m     83\u001b[0m \u001b[39mreturn\u001b[39;00m second_amount\n",
      "\u001b[0;31mDifferentCurrencyError\u001b[0m: Currencies can not be different"
     ]
    }
   ],
   "source": [
    "# different currencies will raise a DifferentCurrencyError\n",
    "from dinero import Dinero\n",
    "from dinero.currencies import EUR, USD\n",
    "\n",
    "amount_1 = Dinero(\"333.3\", EUR)\n",
    "amount_2 = Dinero(333.3, USD)\n",
    "\n",
    "amount_1.subtract(amount_2)\n",
    "amount_1 - amount_2"
   ]
  },
  {
   "cell_type": "markdown",
   "metadata": {},
   "source": [
    "### Multiply"
   ]
  },
  {
   "cell_type": "code",
   "execution_count": 1,
   "metadata": {},
   "outputs": [
    {
     "name": "stdout",
     "output_type": "stream",
     "text": [
      "€40.00 EUR\n"
     ]
    }
   ],
   "source": [
    "from dinero import Dinero\n",
    "from dinero.currencies import EUR\n",
    "\n",
    "amount = Dinero(\"20\", EUR)\n",
    "total = amount.multiply(2)\n",
    "print(total)"
   ]
  },
  {
   "cell_type": "code",
   "execution_count": 2,
   "metadata": {},
   "outputs": [
    {
     "name": "stdout",
     "output_type": "stream",
     "text": [
      "€40.00 EUR\n"
     ]
    }
   ],
   "source": [
    "from dinero import Dinero\n",
    "from dinero.currencies import EUR\n",
    "\n",
    "amount_1 = Dinero(\"20.00\", EUR)\n",
    "amount_2 = Dinero(\"2.0\", EUR)\n",
    "total = amount_1.multiply(amount_2)\n",
    "print(total)"
   ]
  },
  {
   "cell_type": "code",
   "execution_count": 3,
   "metadata": {},
   "outputs": [
    {
     "name": "stdout",
     "output_type": "stream",
     "text": [
      "€40.00 EUR\n"
     ]
    }
   ],
   "source": [
    "from dinero import Dinero\n",
    "from dinero.currencies import EUR, CLP\n",
    "\n",
    "amount_1 = Dinero(\"20.00\", EUR)\n",
    "amount_2 = Dinero(\"2.0\", EUR)\n",
    "total = amount_1 * amount_2\n",
    "print(total)"
   ]
  },
  {
   "cell_type": "code",
   "execution_count": 4,
   "metadata": {},
   "outputs": [
    {
     "name": "stdout",
     "output_type": "stream",
     "text": [
      "$58.00 USD\n"
     ]
    }
   ],
   "source": [
    "from dinero import Dinero\n",
    "from dinero.currencies import USD\n",
    "\n",
    "amount = Dinero(\"20.00\", USD)\n",
    "total = amount * 2.9\n",
    "print(total)"
   ]
  },
  {
   "cell_type": "code",
   "execution_count": 5,
   "metadata": {},
   "outputs": [
    {
     "ename": "DifferentCurrencyError",
     "evalue": "Currencies can not be different",
     "output_type": "error",
     "traceback": [
      "\u001b[0;31m---------------------------------------------------------------------------\u001b[0m",
      "\u001b[0;31mDifferentCurrencyError\u001b[0m                    Traceback (most recent call last)",
      "Cell \u001b[0;32mIn [5], line 8\u001b[0m\n\u001b[1;32m      5\u001b[0m amount_1 \u001b[39m=\u001b[39m Dinero(\u001b[39m\"\u001b[39m\u001b[39m333.3\u001b[39m\u001b[39m\"\u001b[39m, EUR)\n\u001b[1;32m      6\u001b[0m amount_2 \u001b[39m=\u001b[39m Dinero(\u001b[39m333.3\u001b[39m, USD)\n\u001b[0;32m----> 8\u001b[0m amount_1\u001b[39m.\u001b[39;49mmultiply(amount_2)\n\u001b[1;32m      9\u001b[0m amount_1 \u001b[39m*\u001b[39m amount_2\n",
      "File \u001b[0;32m~/projects/dinero/dinero/_dinero.py:55\u001b[0m, in \u001b[0;36mDinero.multiply\u001b[0;34m(self, amount)\u001b[0m\n\u001b[1;32m     54\u001b[0m \u001b[39mdef\u001b[39;00m \u001b[39mmultiply\u001b[39m(\u001b[39mself\u001b[39m, amount: \u001b[39m\"\u001b[39m\u001b[39mOperationType | Dinero\u001b[39m\u001b[39m\"\u001b[39m) \u001b[39m-\u001b[39m\u001b[39m>\u001b[39m \u001b[39m\"\u001b[39m\u001b[39mDinero\u001b[39m\u001b[39m\"\u001b[39m:\n\u001b[0;32m---> 55\u001b[0m     \u001b[39mreturn\u001b[39;00m \u001b[39mself\u001b[39;49m\u001b[39m.\u001b[39;49m\u001b[39m__mul__\u001b[39;49m(amount)\n",
      "File \u001b[0;32m~/projects/dinero/dinero/_dinero.py:97\u001b[0m, in \u001b[0;36mDinero.__mul__\u001b[0;34m(self, multiplicand)\u001b[0m\n\u001b[1;32m     96\u001b[0m \u001b[39mdef\u001b[39;00m \u001b[39m__mul__\u001b[39m(\u001b[39mself\u001b[39m, multiplicand: \u001b[39m\"\u001b[39m\u001b[39mOperationType | Dinero\u001b[39m\u001b[39m\"\u001b[39m) \u001b[39m-\u001b[39m\u001b[39m>\u001b[39m \u001b[39m\"\u001b[39m\u001b[39mDinero\u001b[39m\u001b[39m\"\u001b[39m:\n\u001b[0;32m---> 97\u001b[0m     amount \u001b[39m=\u001b[39m \u001b[39mself\u001b[39;49m\u001b[39m.\u001b[39;49m_get_instance(multiplicand)\n\u001b[1;32m     98\u001b[0m     total \u001b[39m=\u001b[39m \u001b[39mself\u001b[39m\u001b[39m.\u001b[39mnormalized_amount \u001b[39m*\u001b[39m amount\u001b[39m.\u001b[39mnormalized_amount\n\u001b[1;32m     99\u001b[0m     \u001b[39mreturn\u001b[39;00m Dinero(\u001b[39mstr\u001b[39m(total), \u001b[39mself\u001b[39m\u001b[39m.\u001b[39mcurrency)\n",
      "File \u001b[0;32m~/projects/dinero/dinero/_dinero.py:76\u001b[0m, in \u001b[0;36mDinero._get_instance\u001b[0;34m(self, amount)\u001b[0m\n\u001b[1;32m     73\u001b[0m     second_amount \u001b[39m=\u001b[39m Dinero(\u001b[39mstr\u001b[39m(amount), \u001b[39mself\u001b[39m\u001b[39m.\u001b[39mcurrency)\n\u001b[1;32m     75\u001b[0m \u001b[39mif\u001b[39;00m second_amount\u001b[39m.\u001b[39mcode \u001b[39m!=\u001b[39m \u001b[39mself\u001b[39m\u001b[39m.\u001b[39mcode:\n\u001b[0;32m---> 76\u001b[0m     \u001b[39mraise\u001b[39;00m DifferentCurrencyError(\u001b[39m\"\u001b[39m\u001b[39mCurrencies can not be different\u001b[39m\u001b[39m\"\u001b[39m)\n\u001b[1;32m     78\u001b[0m \u001b[39mreturn\u001b[39;00m second_amount\n",
      "\u001b[0;31mDifferentCurrencyError\u001b[0m: Currencies can not be different"
     ]
    }
   ],
   "source": [
    "# different currencies will raise a DifferentCurrencyError\n",
    "from dinero import Dinero\n",
    "from dinero.currencies import EUR, USD\n",
    "\n",
    "amount_1 = Dinero(\"333.3\", EUR)\n",
    "amount_2 = Dinero(333.3, USD)\n",
    "\n",
    "amount_1.multiply(amount_2)\n",
    "amount_1 * amount_2"
   ]
  },
  {
   "cell_type": "markdown",
   "metadata": {},
   "source": [
    "### Divide"
   ]
  },
  {
   "cell_type": "code",
   "execution_count": 1,
   "metadata": {},
   "outputs": [
    {
     "name": "stdout",
     "output_type": "stream",
     "text": [
      "€10.00 EUR\n"
     ]
    }
   ],
   "source": [
    "from dinero import Dinero\n",
    "from dinero.currencies import EUR\n",
    "\n",
    "amount = Dinero(\"20\", EUR)\n",
    "total = amount.divide(2)\n",
    "print(total)"
   ]
  },
  {
   "cell_type": "code",
   "execution_count": 2,
   "metadata": {},
   "outputs": [
    {
     "name": "stdout",
     "output_type": "stream",
     "text": [
      "€10.00 EUR\n"
     ]
    }
   ],
   "source": [
    "from dinero import Dinero\n",
    "from dinero.currencies import EUR\n",
    "\n",
    "amount_1 = Dinero(\"20.00\", EUR)\n",
    "amount_2 = Dinero(\"2.0\", EUR)\n",
    "total = amount_1.divide(amount_2)\n",
    "print(total)"
   ]
  },
  {
   "cell_type": "code",
   "execution_count": 3,
   "metadata": {},
   "outputs": [
    {
     "name": "stdout",
     "output_type": "stream",
     "text": [
      "€10.00 EUR\n"
     ]
    }
   ],
   "source": [
    "from dinero import Dinero\n",
    "from dinero.currencies import EUR\n",
    "\n",
    "amount_1 = Dinero(\"20.00\", EUR)\n",
    "amount_2 = Dinero(\"2.0\", EUR)\n",
    "total = amount_1 / amount_2\n",
    "print(total)"
   ]
  },
  {
   "cell_type": "code",
   "execution_count": 4,
   "metadata": {},
   "outputs": [
    {
     "name": "stdout",
     "output_type": "stream",
     "text": [
      "€10.00 EUR\n"
     ]
    }
   ],
   "source": [
    "from dinero import Dinero\n",
    "from dinero.currencies import EUR\n",
    "\n",
    "amount = Dinero(\"20\", EUR)\n",
    "total = amount / 2\n",
    "print(total)"
   ]
  },
  {
   "cell_type": "code",
   "execution_count": 5,
   "metadata": {},
   "outputs": [
    {
     "ename": "DifferentCurrencyError",
     "evalue": "Currencies can not be different",
     "output_type": "error",
     "traceback": [
      "\u001b[0;31m---------------------------------------------------------------------------\u001b[0m",
      "\u001b[0;31mDifferentCurrencyError\u001b[0m                    Traceback (most recent call last)",
      "Cell \u001b[0;32mIn [5], line 8\u001b[0m\n\u001b[1;32m      5\u001b[0m amount_1 \u001b[39m=\u001b[39m Dinero(\u001b[39m\"\u001b[39m\u001b[39m20\u001b[39m\u001b[39m\"\u001b[39m, EUR)\n\u001b[1;32m      6\u001b[0m amount_2 \u001b[39m=\u001b[39m Dinero(\u001b[39m2\u001b[39m, USD)\n\u001b[0;32m----> 8\u001b[0m amount_1\u001b[39m.\u001b[39;49mdivide(amount_2)\n\u001b[1;32m      9\u001b[0m amount_1 \u001b[39m/\u001b[39m amount_2\n",
      "File \u001b[0;32m~/projects/dinero/dinero/_dinero.py:61\u001b[0m, in \u001b[0;36mDinero.divide\u001b[0;34m(self, amount)\u001b[0m\n\u001b[1;32m     57\u001b[0m \u001b[39mdef\u001b[39;00m \u001b[39mdivide\u001b[39m(\u001b[39mself\u001b[39m, amount: \u001b[39m\"\u001b[39m\u001b[39mOperationType | Dinero\u001b[39m\u001b[39m\"\u001b[39m) \u001b[39m-\u001b[39m\u001b[39m>\u001b[39m \u001b[39m\"\u001b[39m\u001b[39mDinero\u001b[39m\u001b[39m\"\u001b[39m:\n\u001b[1;32m     58\u001b[0m     \u001b[39m# divisor = self._get_instance(amount)\u001b[39;00m\n\u001b[1;32m     59\u001b[0m     \u001b[39m# result = self.normalized_amount / divisor.normalized_amount\u001b[39;00m\n\u001b[1;32m     60\u001b[0m     \u001b[39m# return Dinero(result, self.currency)\u001b[39;00m\n\u001b[0;32m---> 61\u001b[0m     \u001b[39mreturn\u001b[39;00m \u001b[39mself\u001b[39;49m\u001b[39m.\u001b[39;49m\u001b[39m__truediv__\u001b[39;49m(amount)\n",
      "File \u001b[0;32m~/projects/dinero/dinero/_dinero.py:103\u001b[0m, in \u001b[0;36mDinero.__truediv__\u001b[0;34m(self, divisor)\u001b[0m\n\u001b[1;32m    102\u001b[0m \u001b[39mdef\u001b[39;00m \u001b[39m__truediv__\u001b[39m(\u001b[39mself\u001b[39m, divisor: \u001b[39m\"\u001b[39m\u001b[39mOperationType | Dinero\u001b[39m\u001b[39m\"\u001b[39m) \u001b[39m-\u001b[39m\u001b[39m>\u001b[39m \u001b[39m\"\u001b[39m\u001b[39mDinero\u001b[39m\u001b[39m\"\u001b[39m:\n\u001b[0;32m--> 103\u001b[0m     amount \u001b[39m=\u001b[39m \u001b[39mself\u001b[39;49m\u001b[39m.\u001b[39;49m_get_instance(divisor)\n\u001b[1;32m    104\u001b[0m     total \u001b[39m=\u001b[39m \u001b[39mself\u001b[39m\u001b[39m.\u001b[39mnormalized_amount \u001b[39m/\u001b[39m amount\u001b[39m.\u001b[39mnormalized_amount\n\u001b[1;32m    105\u001b[0m     \u001b[39mreturn\u001b[39;00m Dinero(\u001b[39mstr\u001b[39m(total), \u001b[39mself\u001b[39m\u001b[39m.\u001b[39mcurrency)\n",
      "File \u001b[0;32m~/projects/dinero/dinero/_dinero.py:77\u001b[0m, in \u001b[0;36mDinero._get_instance\u001b[0;34m(self, amount)\u001b[0m\n\u001b[1;32m     74\u001b[0m     second_amount \u001b[39m=\u001b[39m Dinero(\u001b[39mstr\u001b[39m(amount), \u001b[39mself\u001b[39m\u001b[39m.\u001b[39mcurrency)\n\u001b[1;32m     76\u001b[0m \u001b[39mif\u001b[39;00m second_amount\u001b[39m.\u001b[39mcode \u001b[39m!=\u001b[39m \u001b[39mself\u001b[39m\u001b[39m.\u001b[39mcode:\n\u001b[0;32m---> 77\u001b[0m     \u001b[39mraise\u001b[39;00m DifferentCurrencyError(\u001b[39m\"\u001b[39m\u001b[39mCurrencies can not be different\u001b[39m\u001b[39m\"\u001b[39m)\n\u001b[1;32m     79\u001b[0m \u001b[39mreturn\u001b[39;00m second_amount\n",
      "\u001b[0;31mDifferentCurrencyError\u001b[0m: Currencies can not be different"
     ]
    }
   ],
   "source": [
    "# different currencies will raise a DifferentCurrencyError\n",
    "from dinero import Dinero\n",
    "from dinero.currencies import EUR, USD\n",
    "\n",
    "amount_1 = Dinero(\"20\", EUR)\n",
    "amount_2 = Dinero(2, USD)\n",
    "\n",
    "amount_1.divide(amount_2)\n",
    "amount_1 / amount_2"
   ]
  }
 ],
 "metadata": {
  "kernelspec": {
   "display_name": "Python 3.10.8 ('dinero-lHM6Yuiu-py3.10')",
   "language": "python",
   "name": "python3"
  },
  "language_info": {
   "codemirror_mode": {
    "name": "ipython",
    "version": 3
   },
   "file_extension": ".py",
   "mimetype": "text/x-python",
   "name": "python",
   "nbconvert_exporter": "python",
   "pygments_lexer": "ipython3",
   "version": "3.10.8"
  },
  "orig_nbformat": 4,
  "vscode": {
   "interpreter": {
    "hash": "e55e401381f70a25cfb5c95c2d0c2d8c42db6329f6d2e769fa34d04b49ee26d1"
   }
  }
 },
 "nbformat": 4,
 "nbformat_minor": 2
}
