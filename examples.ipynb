{
 "cells": [
  {
   "cell_type": "code",
   "execution_count": 2,
   "metadata": {},
   "outputs": [
    {
     "name": "stdout",
     "output_type": "stream",
     "text": [
      "$234,342.30 USD\n"
     ]
    }
   ],
   "source": [
    "from dinero import Dinero\n",
    "from dinero.currencies import CLP, USD\n",
    "\n",
    "amount = Dinero(234342.3010, USD)\n",
    "amount.raw_amount\n",
    "amount.symbol\n",
    "amount.code\n",
    "\n",
    "formatted = amount.get_amount(symbol=True, currency=True)\n",
    "print(formatted)"
   ]
  },
  {
   "cell_type": "code",
   "execution_count": 16,
   "metadata": {},
   "outputs": [
    {
     "name": "stdout",
     "output_type": "stream",
     "text": [
      "6.96\n",
      "Accounts balanced\n"
     ]
    }
   ],
   "source": [
    "from dinero import Dinero\n",
    "from dinero.currencies import CLP, USD\n",
    "\n",
    "unit_price = Dinero(2.32, USD)\n",
    "print(unit_price * 3)\n",
    "number_sold = 3\n",
    "money_received = 6.96\n",
    "if unit_price * number_sold == money_received:\n",
    "    print('Accounts balanced')\n",
    "else:\n",
    "    raise ValueError('Accounts not balanced')"
   ]
  },
  {
   "cell_type": "markdown",
   "metadata": {},
   "source": [
    "## Operations"
   ]
  },
  {
   "cell_type": "markdown",
   "metadata": {},
   "source": [
    "### Add"
   ]
  },
  {
   "cell_type": "code",
   "execution_count": 8,
   "metadata": {},
   "outputs": [
    {
     "name": "stdout",
     "output_type": "stream",
     "text": [
      "666.60\n"
     ]
    }
   ],
   "source": [
    "from dinero import Dinero\n",
    "from dinero.currencies import EUR\n",
    "\n",
    "amount = Dinero(\"333.3\", EUR)\n",
    "total = amount.add(333.3)\n",
    "print(total)"
   ]
  },
  {
   "cell_type": "code",
   "execution_count": 9,
   "metadata": {},
   "outputs": [
    {
     "name": "stdout",
     "output_type": "stream",
     "text": [
      "666.60\n"
     ]
    }
   ],
   "source": [
    "from dinero import Dinero\n",
    "from dinero.currencies import EUR\n",
    "\n",
    "amount_1 = Dinero(\"333.3\", EUR)\n",
    "amount_2 = Dinero(333.3, EUR)\n",
    "\n",
    "total = amount_1.add(amount_2)\n",
    "print(total)"
   ]
  },
  {
   "cell_type": "code",
   "execution_count": 22,
   "metadata": {},
   "outputs": [
    {
     "name": "stdout",
     "output_type": "stream",
     "text": [
      "666.60\n"
     ]
    }
   ],
   "source": [
    "from dinero import Dinero\n",
    "from dinero.currencies import EUR, USD\n",
    "\n",
    "amount_1 = Dinero(\"333.3\", USD)\n",
    "amount_2 = Dinero(333.3, USD)\n",
    "\n",
    "total = amount_1 + amount_2\n",
    "print(total)"
   ]
  },
  {
   "cell_type": "code",
   "execution_count": 23,
   "metadata": {},
   "outputs": [
    {
     "name": "stdout",
     "output_type": "stream",
     "text": [
      "999.90\n"
     ]
    }
   ],
   "source": [
    "from dinero import Dinero\n",
    "from dinero.currencies import EUR, USD\n",
    "\n",
    "amount_1 = Dinero(\"333.3\", EUR)\n",
    "amount_2 = Dinero(333.3, EUR)\n",
    "amount_3 = Dinero(333.3, EUR)\n",
    "\n",
    "total = sum([amount_1, amount_2, amount_3])\n",
    "print(total)"
   ]
  },
  {
   "cell_type": "code",
   "execution_count": 10,
   "metadata": {},
   "outputs": [
    {
     "name": "stdout",
     "output_type": "stream",
     "text": [
      "Can not operate with different currencies\n"
     ]
    }
   ],
   "source": [
    "# different currencies will raise a DifferentCurrencyError\n",
    "from dinero import Dinero, DifferentCurrencyError\n",
    "from dinero.currencies import EUR, USD\n",
    "\n",
    "amount_1 = Dinero(\"333.3\", EUR)\n",
    "amount_2 = Dinero(333.3, USD)\n",
    "\n",
    "try:\n",
    "    amount_1.add(amount_2)\n",
    "    amount_1 + amount_2\n",
    "    sum([amount_1, amount_2])\n",
    "except DifferentCurrencyError:\n",
    "    print('Can not operate with different currencies')"
   ]
  },
  {
   "cell_type": "markdown",
   "metadata": {},
   "source": [
    "### Subtract"
   ]
  },
  {
   "cell_type": "code",
   "execution_count": 63,
   "metadata": {},
   "outputs": [
    {
     "name": "stdout",
     "output_type": "stream",
     "text": [
      "10.00\n"
     ]
    }
   ],
   "source": [
    "from dinero import Dinero\n",
    "from dinero.currencies import EUR\n",
    "\n",
    "amount = Dinero(\"20.20\", EUR)\n",
    "total = amount.subtract('10.20')\n",
    "print(total)"
   ]
  },
  {
   "cell_type": "code",
   "execution_count": 64,
   "metadata": {},
   "outputs": [
    {
     "name": "stdout",
     "output_type": "stream",
     "text": [
      "10.00\n"
     ]
    }
   ],
   "source": [
    "from dinero import Dinero\n",
    "from dinero.currencies import EUR\n",
    "\n",
    "amount_1 = Dinero(\"20.20\", EUR)\n",
    "amount_2 = Dinero(\"10.20\", EUR)\n",
    "total = amount_1.subtract(amount_2)\n",
    "print(total)"
   ]
  },
  {
   "cell_type": "code",
   "execution_count": 65,
   "metadata": {},
   "outputs": [
    {
     "name": "stdout",
     "output_type": "stream",
     "text": [
      "10.00\n"
     ]
    }
   ],
   "source": [
    "from dinero import Dinero\n",
    "from dinero.currencies import EUR, USD\n",
    "\n",
    "amount_1 = Dinero(\"20.20\", EUR)\n",
    "amount_2 = Dinero(\"10.20\", EUR)\n",
    "total = amount_1 - amount_2\n",
    "print(total)"
   ]
  },
  {
   "cell_type": "code",
   "execution_count": 81,
   "metadata": {},
   "outputs": [
    {
     "name": "stdout",
     "output_type": "stream",
     "text": [
      "Can not operate with different currencies\n"
     ]
    }
   ],
   "source": [
    "# different currencies will raise a DifferentCurrencyError\n",
    "from dinero import Dinero, DifferentCurrencyError\n",
    "from dinero.currencies import EUR, USD\n",
    "\n",
    "amount_1 = Dinero(\"333.3\", EUR)\n",
    "amount_2 = Dinero(333.3, USD)\n",
    "\n",
    "try:\n",
    "    amount_1.subtract(amount_2)\n",
    "    amount_1 - amount_2\n",
    "except DifferentCurrencyError:\n",
    "    print('Can not operate with different currencies')"
   ]
  },
  {
   "cell_type": "markdown",
   "metadata": {},
   "source": [
    "### Multiply"
   ]
  },
  {
   "cell_type": "code",
   "execution_count": 67,
   "metadata": {},
   "outputs": [
    {
     "name": "stdout",
     "output_type": "stream",
     "text": [
      "40.00\n"
     ]
    }
   ],
   "source": [
    "from dinero import Dinero\n",
    "from dinero.currencies import EUR\n",
    "\n",
    "amount = Dinero(\"20\", EUR)\n",
    "total = amount.multiply(2)\n",
    "print(total)"
   ]
  },
  {
   "cell_type": "code",
   "execution_count": 68,
   "metadata": {},
   "outputs": [
    {
     "name": "stdout",
     "output_type": "stream",
     "text": [
      "40.00\n"
     ]
    }
   ],
   "source": [
    "from dinero import Dinero\n",
    "from dinero.currencies import EUR\n",
    "\n",
    "amount_1 = Dinero(\"20.00\", EUR)\n",
    "amount_2 = Dinero(\"2.0\", EUR)\n",
    "total = amount_1.multiply(amount_2)\n",
    "print(total)"
   ]
  },
  {
   "cell_type": "code",
   "execution_count": 69,
   "metadata": {},
   "outputs": [
    {
     "name": "stdout",
     "output_type": "stream",
     "text": [
      "40.00\n"
     ]
    }
   ],
   "source": [
    "from dinero import Dinero\n",
    "from dinero.currencies import EUR, CLP\n",
    "\n",
    "amount_1 = Dinero(\"20.00\", EUR)\n",
    "amount_2 = Dinero(\"2.0\", EUR)\n",
    "total = amount_1 * amount_2\n",
    "print(total)"
   ]
  },
  {
   "cell_type": "code",
   "execution_count": 70,
   "metadata": {},
   "outputs": [
    {
     "name": "stdout",
     "output_type": "stream",
     "text": [
      "58.00\n"
     ]
    }
   ],
   "source": [
    "from dinero import Dinero\n",
    "from dinero.currencies import USD\n",
    "\n",
    "amount = Dinero(\"20.00\", USD)\n",
    "total = amount * 2.9\n",
    "print(total)"
   ]
  },
  {
   "cell_type": "code",
   "execution_count": 82,
   "metadata": {},
   "outputs": [
    {
     "name": "stdout",
     "output_type": "stream",
     "text": [
      "Can not operate with different currencies\n"
     ]
    }
   ],
   "source": [
    "# different currencies will raise a DifferentCurrencyError\n",
    "from dinero import Dinero, DifferentCurrencyError\n",
    "from dinero.currencies import EUR, USD\n",
    "\n",
    "amount_1 = Dinero(\"333.3\", EUR)\n",
    "amount_2 = Dinero(333.3, USD)\n",
    "\n",
    "try:\n",
    "    amount_1.multiply(amount_2)\n",
    "    amount_1 * amount_2\n",
    "except DifferentCurrencyError:\n",
    "    print('Can not operate with different currencies')"
   ]
  },
  {
   "cell_type": "markdown",
   "metadata": {},
   "source": [
    "### Divide"
   ]
  },
  {
   "cell_type": "code",
   "execution_count": 72,
   "metadata": {},
   "outputs": [
    {
     "name": "stdout",
     "output_type": "stream",
     "text": [
      "10.00\n"
     ]
    }
   ],
   "source": [
    "from dinero import Dinero\n",
    "from dinero.currencies import EUR\n",
    "\n",
    "amount = Dinero(\"20\", EUR)\n",
    "total = amount.divide(2)\n",
    "print(total)"
   ]
  },
  {
   "cell_type": "code",
   "execution_count": 73,
   "metadata": {},
   "outputs": [
    {
     "name": "stdout",
     "output_type": "stream",
     "text": [
      "10.00\n"
     ]
    }
   ],
   "source": [
    "from dinero import Dinero\n",
    "from dinero.currencies import EUR\n",
    "\n",
    "amount_1 = Dinero(\"20.00\", EUR)\n",
    "amount_2 = Dinero(\"2.0\", EUR)\n",
    "total = amount_1.divide(amount_2)\n",
    "print(total)"
   ]
  },
  {
   "cell_type": "code",
   "execution_count": 74,
   "metadata": {},
   "outputs": [
    {
     "name": "stdout",
     "output_type": "stream",
     "text": [
      "10.00\n"
     ]
    }
   ],
   "source": [
    "from dinero import Dinero\n",
    "from dinero.currencies import EUR\n",
    "\n",
    "amount_1 = Dinero(\"20.00\", EUR)\n",
    "amount_2 = Dinero(\"2.0\", EUR)\n",
    "total = amount_1 / amount_2\n",
    "print(total)"
   ]
  },
  {
   "cell_type": "code",
   "execution_count": 75,
   "metadata": {},
   "outputs": [
    {
     "name": "stdout",
     "output_type": "stream",
     "text": [
      "10.00\n"
     ]
    }
   ],
   "source": [
    "from dinero import Dinero\n",
    "from dinero.currencies import EUR\n",
    "\n",
    "amount = Dinero(\"20\", EUR)\n",
    "total = amount / 2\n",
    "print(total)"
   ]
  },
  {
   "cell_type": "code",
   "execution_count": 84,
   "metadata": {},
   "outputs": [
    {
     "name": "stdout",
     "output_type": "stream",
     "text": [
      "Can not operate with different currencies\n"
     ]
    }
   ],
   "source": [
    "# different currencies will raise a DifferentCurrencyError\n",
    "from dinero import Dinero, DifferentCurrencyError\n",
    "from dinero.currencies import EUR, USD\n",
    "\n",
    "amount_1 = Dinero(\"20\", EUR)\n",
    "amount_2 = Dinero(2, USD)\n",
    "\n",
    "try:\n",
    "    amount_1.divide(amount_2)\n",
    "    amount_1 / amount_2\n",
    "except DifferentCurrencyError:\n",
    "    print(\"Can not operate with different currencies\")"
   ]
  },
  {
   "cell_type": "markdown",
   "metadata": {},
   "source": [
    "### Operations"
   ]
  },
  {
   "cell_type": "code",
   "execution_count": 77,
   "metadata": {},
   "outputs": [
    {
     "name": "stdout",
     "output_type": "stream",
     "text": [
      "333.40\n",
      "333.20\n"
     ]
    }
   ],
   "source": [
    "from dinero import Dinero\n",
    "from dinero.currencies import EUR\n",
    "\n",
    "amount_1 = Dinero(\"333.2\", EUR)\n",
    "amount_2 = Dinero(333.3, EUR)\n",
    "amount_3 = Dinero(333.4, EUR)\n",
    "\n",
    "highest = max([amount_1, amount_2, amount_3])\n",
    "lowest = min([amount_1, amount_2, amount_3])\n",
    "\n",
    "print(highest)\n",
    "print(lowest)"
   ]
  },
  {
   "cell_type": "code",
   "execution_count": 78,
   "metadata": {},
   "outputs": [
    {
     "data": {
      "text/plain": [
       "True"
      ]
     },
     "execution_count": 78,
     "metadata": {},
     "output_type": "execute_result"
    }
   ],
   "source": [
    "from dinero import Dinero\n",
    "from dinero.currencies import EUR\n",
    "\n",
    "amount_1 = Dinero(\"333.2\", EUR)\n",
    "amount_2 = Dinero(333.3, EUR)\n",
    "\n",
    "# less than\n",
    "amount_1.less_than(amount_2)\n",
    "amount_1.less_than(333.3)\n",
    "amount_1 < amount_2\n",
    "amount_1 < 333.3\n",
    "\n",
    "# less than or equal\n",
    "amount_1.less_than_or_equal(amount_2)\n",
    "amount_1.less_than_or_equal(333.3)\n",
    "amount_1 <= amount_2\n",
    "amount_1 <= 333.3\n",
    "\n",
    "# greater than\n",
    "amount_1.greater_than(amount_2)\n",
    "amount_1.greater_than(333.3)\n",
    "amount_1 < amount_2\n",
    "amount_1 < 333.3\n",
    "\n",
    "# greater than or equal\n",
    "amount_1.greater_than_or_equal(amount_2)\n",
    "amount_1.greater_than_or_equal(333.3)\n",
    "amount_1 > amount_2\n",
    "amount_1 > 333.3\n",
    "\n",
    "# equals\n",
    "amount_3 = Dinero(333.2, EUR)\n",
    "amount_1.equals_to(amount_3)\n",
    "amount_1.equals_to(333.2)\n",
    "amount_1 == amount_3\n",
    "amount_1 == 333.2"
   ]
  },
  {
   "cell_type": "markdown",
   "metadata": {},
   "source": [
    "## to_dict"
   ]
  },
  {
   "cell_type": "code",
   "execution_count": 1,
   "metadata": {},
   "outputs": [
    {
     "data": {
      "text/plain": [
       "{'amount': '3333.26',\n",
       " 'currency': {'code': 'USD', 'base': 10, 'exponent': 2, 'symbol': '$'}}"
      ]
     },
     "execution_count": 1,
     "metadata": {},
     "output_type": "execute_result"
    }
   ],
   "source": [
    "from dinero import Dinero\n",
    "from dinero.currencies import USD\n",
    "\n",
    "amount = Dinero(\"3333.259\", USD)\n",
    "amount.to_dict(amount_with_format=False)"
   ]
  },
  {
   "cell_type": "code",
   "execution_count": 2,
   "metadata": {},
   "outputs": [
    {
     "data": {
      "text/plain": [
       "{'amount': '3,333.26',\n",
       " 'currency': {'code': 'USD', 'base': 10, 'exponent': 2, 'symbol': '$'}}"
      ]
     },
     "execution_count": 2,
     "metadata": {},
     "output_type": "execute_result"
    }
   ],
   "source": [
    "from dinero import Dinero\n",
    "from dinero.currencies import USD\n",
    "\n",
    "amount = Dinero(\"3333.259\", USD)\n",
    "amount.to_dict(amount_with_format=True)"
   ]
  },
  {
   "cell_type": "markdown",
   "metadata": {},
   "source": [
    "## to_json"
   ]
  },
  {
   "cell_type": "code",
   "execution_count": 3,
   "metadata": {},
   "outputs": [
    {
     "data": {
      "text/plain": [
       "'{\"amount\": \"3333.20\", \"currency\": {\"code\": \"USD\", \"base\": 10, \"exponent\": 2, \"symbol\": \"$\"}}'"
      ]
     },
     "execution_count": 3,
     "metadata": {},
     "output_type": "execute_result"
    }
   ],
   "source": [
    "from dinero import Dinero\n",
    "from dinero.currencies import USD\n",
    "\n",
    "amount = Dinero(\"3333.2\", USD)\n",
    "amount.to_json(amount_with_format=False)"
   ]
  }
 ],
 "metadata": {
  "kernelspec": {
   "display_name": "Python 3.10.8 ('dinero-lHM6Yuiu-py3.10')",
   "language": "python",
   "name": "python3"
  },
  "language_info": {
   "codemirror_mode": {
    "name": "ipython",
    "version": 3
   },
   "file_extension": ".py",
   "mimetype": "text/x-python",
   "name": "python",
   "nbconvert_exporter": "python",
   "pygments_lexer": "ipython3",
   "version": "3.10.8"
  },
  "orig_nbformat": 4,
  "vscode": {
   "interpreter": {
    "hash": "e55e401381f70a25cfb5c95c2d0c2d8c42db6329f6d2e769fa34d04b49ee26d1"
   }
  }
 },
 "nbformat": 4,
 "nbformat_minor": 2
}
